{
 "cells": [
  {
   "cell_type": "markdown",
   "id": "fcd7f41f-fa18-465b-97db-3bfc17317107",
   "metadata": {},
   "source": [
    "# FRAUD TRANSACTIONS PREDICTION"
   ]
  },
  {
   "cell_type": "markdown",
   "id": "c21fc3bd-1295-4cac-ac00-3d3faf011f9d",
   "metadata": {},
   "source": [
    "## OVERVIEW"
   ]
  },
  {
   "cell_type": "markdown",
   "id": "a806777d-d895-4e86-a144-d4a40c898c9f",
   "metadata": {},
   "source": [
    "The code implements fraud detection model using Machine learning algorithms. The model aims to proactively identify fraudulent transactions in a financial dataset."
   ]
  },
  {
   "cell_type": "code",
   "execution_count": 1,
   "id": "c4d39618-850d-4782-84bf-96c9cabc28ac",
   "metadata": {},
   "outputs": [],
   "source": [
    "import pandas as pd\n",
    "import numpy as np\n",
    "import matplotlib.pyplot as plt\n",
    "import seaborn as sns"
   ]
  },
  {
   "cell_type": "code",
   "execution_count": 2,
   "id": "df7127b3-7760-480e-b81a-678bf93943c9",
   "metadata": {},
   "outputs": [],
   "source": [
    "df=pd.read_csv(\"Fraud.csv\")"
   ]
  },
  {
   "cell_type": "code",
   "execution_count": 3,
   "id": "8f914a4b-985e-493d-b59b-8f9d33502d4d",
   "metadata": {},
   "outputs": [
    {
     "data": {
      "text/html": [
       "<div>\n",
       "<style scoped>\n",
       "    .dataframe tbody tr th:only-of-type {\n",
       "        vertical-align: middle;\n",
       "    }\n",
       "\n",
       "    .dataframe tbody tr th {\n",
       "        vertical-align: top;\n",
       "    }\n",
       "\n",
       "    .dataframe thead th {\n",
       "        text-align: right;\n",
       "    }\n",
       "</style>\n",
       "<table border=\"1\" class=\"dataframe\">\n",
       "  <thead>\n",
       "    <tr style=\"text-align: right;\">\n",
       "      <th></th>\n",
       "      <th>step</th>\n",
       "      <th>type</th>\n",
       "      <th>amount</th>\n",
       "      <th>nameOrig</th>\n",
       "      <th>oldbalanceOrg</th>\n",
       "      <th>newbalanceOrig</th>\n",
       "      <th>nameDest</th>\n",
       "      <th>oldbalanceDest</th>\n",
       "      <th>newbalanceDest</th>\n",
       "      <th>isFraud</th>\n",
       "      <th>isFlaggedFraud</th>\n",
       "    </tr>\n",
       "  </thead>\n",
       "  <tbody>\n",
       "    <tr>\n",
       "      <th>0</th>\n",
       "      <td>1</td>\n",
       "      <td>PAYMENT</td>\n",
       "      <td>9839.64</td>\n",
       "      <td>C1231006815</td>\n",
       "      <td>170136.00</td>\n",
       "      <td>160296.36</td>\n",
       "      <td>M1979787155</td>\n",
       "      <td>0.00</td>\n",
       "      <td>0.00</td>\n",
       "      <td>0</td>\n",
       "      <td>0</td>\n",
       "    </tr>\n",
       "    <tr>\n",
       "      <th>1</th>\n",
       "      <td>1</td>\n",
       "      <td>PAYMENT</td>\n",
       "      <td>1864.28</td>\n",
       "      <td>C1666544295</td>\n",
       "      <td>21249.00</td>\n",
       "      <td>19384.72</td>\n",
       "      <td>M2044282225</td>\n",
       "      <td>0.00</td>\n",
       "      <td>0.00</td>\n",
       "      <td>0</td>\n",
       "      <td>0</td>\n",
       "    </tr>\n",
       "    <tr>\n",
       "      <th>2</th>\n",
       "      <td>1</td>\n",
       "      <td>TRANSFER</td>\n",
       "      <td>181.00</td>\n",
       "      <td>C1305486145</td>\n",
       "      <td>181.00</td>\n",
       "      <td>0.00</td>\n",
       "      <td>C553264065</td>\n",
       "      <td>0.00</td>\n",
       "      <td>0.00</td>\n",
       "      <td>1</td>\n",
       "      <td>0</td>\n",
       "    </tr>\n",
       "    <tr>\n",
       "      <th>3</th>\n",
       "      <td>1</td>\n",
       "      <td>CASH_OUT</td>\n",
       "      <td>181.00</td>\n",
       "      <td>C840083671</td>\n",
       "      <td>181.00</td>\n",
       "      <td>0.00</td>\n",
       "      <td>C38997010</td>\n",
       "      <td>21182.00</td>\n",
       "      <td>0.00</td>\n",
       "      <td>1</td>\n",
       "      <td>0</td>\n",
       "    </tr>\n",
       "    <tr>\n",
       "      <th>4</th>\n",
       "      <td>1</td>\n",
       "      <td>PAYMENT</td>\n",
       "      <td>11668.14</td>\n",
       "      <td>C2048537720</td>\n",
       "      <td>41554.00</td>\n",
       "      <td>29885.86</td>\n",
       "      <td>M1230701703</td>\n",
       "      <td>0.00</td>\n",
       "      <td>0.00</td>\n",
       "      <td>0</td>\n",
       "      <td>0</td>\n",
       "    </tr>\n",
       "    <tr>\n",
       "      <th>...</th>\n",
       "      <td>...</td>\n",
       "      <td>...</td>\n",
       "      <td>...</td>\n",
       "      <td>...</td>\n",
       "      <td>...</td>\n",
       "      <td>...</td>\n",
       "      <td>...</td>\n",
       "      <td>...</td>\n",
       "      <td>...</td>\n",
       "      <td>...</td>\n",
       "      <td>...</td>\n",
       "    </tr>\n",
       "    <tr>\n",
       "      <th>6362615</th>\n",
       "      <td>743</td>\n",
       "      <td>CASH_OUT</td>\n",
       "      <td>339682.13</td>\n",
       "      <td>C786484425</td>\n",
       "      <td>339682.13</td>\n",
       "      <td>0.00</td>\n",
       "      <td>C776919290</td>\n",
       "      <td>0.00</td>\n",
       "      <td>339682.13</td>\n",
       "      <td>1</td>\n",
       "      <td>0</td>\n",
       "    </tr>\n",
       "    <tr>\n",
       "      <th>6362616</th>\n",
       "      <td>743</td>\n",
       "      <td>TRANSFER</td>\n",
       "      <td>6311409.28</td>\n",
       "      <td>C1529008245</td>\n",
       "      <td>6311409.28</td>\n",
       "      <td>0.00</td>\n",
       "      <td>C1881841831</td>\n",
       "      <td>0.00</td>\n",
       "      <td>0.00</td>\n",
       "      <td>1</td>\n",
       "      <td>0</td>\n",
       "    </tr>\n",
       "    <tr>\n",
       "      <th>6362617</th>\n",
       "      <td>743</td>\n",
       "      <td>CASH_OUT</td>\n",
       "      <td>6311409.28</td>\n",
       "      <td>C1162922333</td>\n",
       "      <td>6311409.28</td>\n",
       "      <td>0.00</td>\n",
       "      <td>C1365125890</td>\n",
       "      <td>68488.84</td>\n",
       "      <td>6379898.11</td>\n",
       "      <td>1</td>\n",
       "      <td>0</td>\n",
       "    </tr>\n",
       "    <tr>\n",
       "      <th>6362618</th>\n",
       "      <td>743</td>\n",
       "      <td>TRANSFER</td>\n",
       "      <td>850002.52</td>\n",
       "      <td>C1685995037</td>\n",
       "      <td>850002.52</td>\n",
       "      <td>0.00</td>\n",
       "      <td>C2080388513</td>\n",
       "      <td>0.00</td>\n",
       "      <td>0.00</td>\n",
       "      <td>1</td>\n",
       "      <td>0</td>\n",
       "    </tr>\n",
       "    <tr>\n",
       "      <th>6362619</th>\n",
       "      <td>743</td>\n",
       "      <td>CASH_OUT</td>\n",
       "      <td>850002.52</td>\n",
       "      <td>C1280323807</td>\n",
       "      <td>850002.52</td>\n",
       "      <td>0.00</td>\n",
       "      <td>C873221189</td>\n",
       "      <td>6510099.11</td>\n",
       "      <td>7360101.63</td>\n",
       "      <td>1</td>\n",
       "      <td>0</td>\n",
       "    </tr>\n",
       "  </tbody>\n",
       "</table>\n",
       "<p>6362620 rows × 11 columns</p>\n",
       "</div>"
      ],
      "text/plain": [
       "         step      type      amount     nameOrig  oldbalanceOrg  \\\n",
       "0           1   PAYMENT     9839.64  C1231006815      170136.00   \n",
       "1           1   PAYMENT     1864.28  C1666544295       21249.00   \n",
       "2           1  TRANSFER      181.00  C1305486145         181.00   \n",
       "3           1  CASH_OUT      181.00   C840083671         181.00   \n",
       "4           1   PAYMENT    11668.14  C2048537720       41554.00   \n",
       "...       ...       ...         ...          ...            ...   \n",
       "6362615   743  CASH_OUT   339682.13   C786484425      339682.13   \n",
       "6362616   743  TRANSFER  6311409.28  C1529008245     6311409.28   \n",
       "6362617   743  CASH_OUT  6311409.28  C1162922333     6311409.28   \n",
       "6362618   743  TRANSFER   850002.52  C1685995037      850002.52   \n",
       "6362619   743  CASH_OUT   850002.52  C1280323807      850002.52   \n",
       "\n",
       "         newbalanceOrig     nameDest  oldbalanceDest  newbalanceDest  isFraud  \\\n",
       "0             160296.36  M1979787155            0.00            0.00        0   \n",
       "1              19384.72  M2044282225            0.00            0.00        0   \n",
       "2                  0.00   C553264065            0.00            0.00        1   \n",
       "3                  0.00    C38997010        21182.00            0.00        1   \n",
       "4              29885.86  M1230701703            0.00            0.00        0   \n",
       "...                 ...          ...             ...             ...      ...   \n",
       "6362615            0.00   C776919290            0.00       339682.13        1   \n",
       "6362616            0.00  C1881841831            0.00            0.00        1   \n",
       "6362617            0.00  C1365125890        68488.84      6379898.11        1   \n",
       "6362618            0.00  C2080388513            0.00            0.00        1   \n",
       "6362619            0.00   C873221189      6510099.11      7360101.63        1   \n",
       "\n",
       "         isFlaggedFraud  \n",
       "0                     0  \n",
       "1                     0  \n",
       "2                     0  \n",
       "3                     0  \n",
       "4                     0  \n",
       "...                 ...  \n",
       "6362615               0  \n",
       "6362616               0  \n",
       "6362617               0  \n",
       "6362618               0  \n",
       "6362619               0  \n",
       "\n",
       "[6362620 rows x 11 columns]"
      ]
     },
     "execution_count": 3,
     "metadata": {},
     "output_type": "execute_result"
    }
   ],
   "source": [
    "df"
   ]
  },
  {
   "cell_type": "code",
   "execution_count": 4,
   "id": "96236c5c-9f0b-4824-bdf0-dce7fad32b89",
   "metadata": {},
   "outputs": [
    {
     "data": {
      "text/plain": [
       "Index(['step', 'type', 'amount', 'nameOrig', 'oldbalanceOrg', 'newbalanceOrig',\n",
       "       'nameDest', 'oldbalanceDest', 'newbalanceDest', 'isFraud',\n",
       "       'isFlaggedFraud'],\n",
       "      dtype='object')"
      ]
     },
     "execution_count": 4,
     "metadata": {},
     "output_type": "execute_result"
    }
   ],
   "source": [
    "df.columns"
   ]
  },
  {
   "cell_type": "code",
   "execution_count": 5,
   "id": "d6431b7b-4718-4d2c-8aef-5db1170db8ed",
   "metadata": {},
   "outputs": [
    {
     "data": {
      "text/plain": [
       "(6362620, 11)"
      ]
     },
     "execution_count": 5,
     "metadata": {},
     "output_type": "execute_result"
    }
   ],
   "source": [
    "df.shape"
   ]
  },
  {
   "cell_type": "code",
   "execution_count": 6,
   "id": "f85bf00d-2e64-442a-a452-6c17a80684e8",
   "metadata": {},
   "outputs": [
    {
     "data": {
      "text/plain": [
       "69988820"
      ]
     },
     "execution_count": 6,
     "metadata": {},
     "output_type": "execute_result"
    }
   ],
   "source": [
    "df.size"
   ]
  },
  {
   "cell_type": "code",
   "execution_count": 7,
   "id": "c443965f-f43f-45b3-a419-d12f95725dc5",
   "metadata": {},
   "outputs": [
    {
     "data": {
      "text/html": [
       "<div>\n",
       "<style scoped>\n",
       "    .dataframe tbody tr th:only-of-type {\n",
       "        vertical-align: middle;\n",
       "    }\n",
       "\n",
       "    .dataframe tbody tr th {\n",
       "        vertical-align: top;\n",
       "    }\n",
       "\n",
       "    .dataframe thead th {\n",
       "        text-align: right;\n",
       "    }\n",
       "</style>\n",
       "<table border=\"1\" class=\"dataframe\">\n",
       "  <thead>\n",
       "    <tr style=\"text-align: right;\">\n",
       "      <th></th>\n",
       "      <th>step</th>\n",
       "      <th>type</th>\n",
       "      <th>amount</th>\n",
       "      <th>nameOrig</th>\n",
       "      <th>oldbalanceOrg</th>\n",
       "      <th>newbalanceOrig</th>\n",
       "      <th>nameDest</th>\n",
       "      <th>oldbalanceDest</th>\n",
       "      <th>newbalanceDest</th>\n",
       "      <th>isFraud</th>\n",
       "      <th>isFlaggedFraud</th>\n",
       "    </tr>\n",
       "  </thead>\n",
       "  <tbody>\n",
       "    <tr>\n",
       "      <th>0</th>\n",
       "      <td>1</td>\n",
       "      <td>PAYMENT</td>\n",
       "      <td>9839.64</td>\n",
       "      <td>C1231006815</td>\n",
       "      <td>170136.0</td>\n",
       "      <td>160296.36</td>\n",
       "      <td>M1979787155</td>\n",
       "      <td>0.0</td>\n",
       "      <td>0.0</td>\n",
       "      <td>0</td>\n",
       "      <td>0</td>\n",
       "    </tr>\n",
       "    <tr>\n",
       "      <th>1</th>\n",
       "      <td>1</td>\n",
       "      <td>PAYMENT</td>\n",
       "      <td>1864.28</td>\n",
       "      <td>C1666544295</td>\n",
       "      <td>21249.0</td>\n",
       "      <td>19384.72</td>\n",
       "      <td>M2044282225</td>\n",
       "      <td>0.0</td>\n",
       "      <td>0.0</td>\n",
       "      <td>0</td>\n",
       "      <td>0</td>\n",
       "    </tr>\n",
       "    <tr>\n",
       "      <th>2</th>\n",
       "      <td>1</td>\n",
       "      <td>TRANSFER</td>\n",
       "      <td>181.00</td>\n",
       "      <td>C1305486145</td>\n",
       "      <td>181.0</td>\n",
       "      <td>0.00</td>\n",
       "      <td>C553264065</td>\n",
       "      <td>0.0</td>\n",
       "      <td>0.0</td>\n",
       "      <td>1</td>\n",
       "      <td>0</td>\n",
       "    </tr>\n",
       "    <tr>\n",
       "      <th>3</th>\n",
       "      <td>1</td>\n",
       "      <td>CASH_OUT</td>\n",
       "      <td>181.00</td>\n",
       "      <td>C840083671</td>\n",
       "      <td>181.0</td>\n",
       "      <td>0.00</td>\n",
       "      <td>C38997010</td>\n",
       "      <td>21182.0</td>\n",
       "      <td>0.0</td>\n",
       "      <td>1</td>\n",
       "      <td>0</td>\n",
       "    </tr>\n",
       "    <tr>\n",
       "      <th>4</th>\n",
       "      <td>1</td>\n",
       "      <td>PAYMENT</td>\n",
       "      <td>11668.14</td>\n",
       "      <td>C2048537720</td>\n",
       "      <td>41554.0</td>\n",
       "      <td>29885.86</td>\n",
       "      <td>M1230701703</td>\n",
       "      <td>0.0</td>\n",
       "      <td>0.0</td>\n",
       "      <td>0</td>\n",
       "      <td>0</td>\n",
       "    </tr>\n",
       "  </tbody>\n",
       "</table>\n",
       "</div>"
      ],
      "text/plain": [
       "   step      type    amount     nameOrig  oldbalanceOrg  newbalanceOrig  \\\n",
       "0     1   PAYMENT   9839.64  C1231006815       170136.0       160296.36   \n",
       "1     1   PAYMENT   1864.28  C1666544295        21249.0        19384.72   \n",
       "2     1  TRANSFER    181.00  C1305486145          181.0            0.00   \n",
       "3     1  CASH_OUT    181.00   C840083671          181.0            0.00   \n",
       "4     1   PAYMENT  11668.14  C2048537720        41554.0        29885.86   \n",
       "\n",
       "      nameDest  oldbalanceDest  newbalanceDest  isFraud  isFlaggedFraud  \n",
       "0  M1979787155             0.0             0.0        0               0  \n",
       "1  M2044282225             0.0             0.0        0               0  \n",
       "2   C553264065             0.0             0.0        1               0  \n",
       "3    C38997010         21182.0             0.0        1               0  \n",
       "4  M1230701703             0.0             0.0        0               0  "
      ]
     },
     "execution_count": 7,
     "metadata": {},
     "output_type": "execute_result"
    }
   ],
   "source": [
    "df.head()"
   ]
  },
  {
   "cell_type": "code",
   "execution_count": 8,
   "id": "bd6082c7-6ffa-4e3e-86e6-1a0ef75159c9",
   "metadata": {},
   "outputs": [
    {
     "data": {
      "text/html": [
       "<div>\n",
       "<style scoped>\n",
       "    .dataframe tbody tr th:only-of-type {\n",
       "        vertical-align: middle;\n",
       "    }\n",
       "\n",
       "    .dataframe tbody tr th {\n",
       "        vertical-align: top;\n",
       "    }\n",
       "\n",
       "    .dataframe thead th {\n",
       "        text-align: right;\n",
       "    }\n",
       "</style>\n",
       "<table border=\"1\" class=\"dataframe\">\n",
       "  <thead>\n",
       "    <tr style=\"text-align: right;\">\n",
       "      <th></th>\n",
       "      <th>step</th>\n",
       "      <th>type</th>\n",
       "      <th>amount</th>\n",
       "      <th>nameOrig</th>\n",
       "      <th>oldbalanceOrg</th>\n",
       "      <th>newbalanceOrig</th>\n",
       "      <th>nameDest</th>\n",
       "      <th>oldbalanceDest</th>\n",
       "      <th>newbalanceDest</th>\n",
       "      <th>isFraud</th>\n",
       "      <th>isFlaggedFraud</th>\n",
       "    </tr>\n",
       "  </thead>\n",
       "  <tbody>\n",
       "    <tr>\n",
       "      <th>6362615</th>\n",
       "      <td>743</td>\n",
       "      <td>CASH_OUT</td>\n",
       "      <td>339682.13</td>\n",
       "      <td>C786484425</td>\n",
       "      <td>339682.13</td>\n",
       "      <td>0.0</td>\n",
       "      <td>C776919290</td>\n",
       "      <td>0.00</td>\n",
       "      <td>339682.13</td>\n",
       "      <td>1</td>\n",
       "      <td>0</td>\n",
       "    </tr>\n",
       "    <tr>\n",
       "      <th>6362616</th>\n",
       "      <td>743</td>\n",
       "      <td>TRANSFER</td>\n",
       "      <td>6311409.28</td>\n",
       "      <td>C1529008245</td>\n",
       "      <td>6311409.28</td>\n",
       "      <td>0.0</td>\n",
       "      <td>C1881841831</td>\n",
       "      <td>0.00</td>\n",
       "      <td>0.00</td>\n",
       "      <td>1</td>\n",
       "      <td>0</td>\n",
       "    </tr>\n",
       "    <tr>\n",
       "      <th>6362617</th>\n",
       "      <td>743</td>\n",
       "      <td>CASH_OUT</td>\n",
       "      <td>6311409.28</td>\n",
       "      <td>C1162922333</td>\n",
       "      <td>6311409.28</td>\n",
       "      <td>0.0</td>\n",
       "      <td>C1365125890</td>\n",
       "      <td>68488.84</td>\n",
       "      <td>6379898.11</td>\n",
       "      <td>1</td>\n",
       "      <td>0</td>\n",
       "    </tr>\n",
       "    <tr>\n",
       "      <th>6362618</th>\n",
       "      <td>743</td>\n",
       "      <td>TRANSFER</td>\n",
       "      <td>850002.52</td>\n",
       "      <td>C1685995037</td>\n",
       "      <td>850002.52</td>\n",
       "      <td>0.0</td>\n",
       "      <td>C2080388513</td>\n",
       "      <td>0.00</td>\n",
       "      <td>0.00</td>\n",
       "      <td>1</td>\n",
       "      <td>0</td>\n",
       "    </tr>\n",
       "    <tr>\n",
       "      <th>6362619</th>\n",
       "      <td>743</td>\n",
       "      <td>CASH_OUT</td>\n",
       "      <td>850002.52</td>\n",
       "      <td>C1280323807</td>\n",
       "      <td>850002.52</td>\n",
       "      <td>0.0</td>\n",
       "      <td>C873221189</td>\n",
       "      <td>6510099.11</td>\n",
       "      <td>7360101.63</td>\n",
       "      <td>1</td>\n",
       "      <td>0</td>\n",
       "    </tr>\n",
       "  </tbody>\n",
       "</table>\n",
       "</div>"
      ],
      "text/plain": [
       "         step      type      amount     nameOrig  oldbalanceOrg  \\\n",
       "6362615   743  CASH_OUT   339682.13   C786484425      339682.13   \n",
       "6362616   743  TRANSFER  6311409.28  C1529008245     6311409.28   \n",
       "6362617   743  CASH_OUT  6311409.28  C1162922333     6311409.28   \n",
       "6362618   743  TRANSFER   850002.52  C1685995037      850002.52   \n",
       "6362619   743  CASH_OUT   850002.52  C1280323807      850002.52   \n",
       "\n",
       "         newbalanceOrig     nameDest  oldbalanceDest  newbalanceDest  isFraud  \\\n",
       "6362615             0.0   C776919290            0.00       339682.13        1   \n",
       "6362616             0.0  C1881841831            0.00            0.00        1   \n",
       "6362617             0.0  C1365125890        68488.84      6379898.11        1   \n",
       "6362618             0.0  C2080388513            0.00            0.00        1   \n",
       "6362619             0.0   C873221189      6510099.11      7360101.63        1   \n",
       "\n",
       "         isFlaggedFraud  \n",
       "6362615               0  \n",
       "6362616               0  \n",
       "6362617               0  \n",
       "6362618               0  \n",
       "6362619               0  "
      ]
     },
     "execution_count": 8,
     "metadata": {},
     "output_type": "execute_result"
    }
   ],
   "source": [
    "df.tail()"
   ]
  },
  {
   "cell_type": "code",
   "execution_count": 9,
   "id": "7ac2e981-1272-42ce-8c56-780a344fc73f",
   "metadata": {},
   "outputs": [
    {
     "data": {
      "text/html": [
       "<div>\n",
       "<style scoped>\n",
       "    .dataframe tbody tr th:only-of-type {\n",
       "        vertical-align: middle;\n",
       "    }\n",
       "\n",
       "    .dataframe tbody tr th {\n",
       "        vertical-align: top;\n",
       "    }\n",
       "\n",
       "    .dataframe thead th {\n",
       "        text-align: right;\n",
       "    }\n",
       "</style>\n",
       "<table border=\"1\" class=\"dataframe\">\n",
       "  <thead>\n",
       "    <tr style=\"text-align: right;\">\n",
       "      <th></th>\n",
       "      <th>step</th>\n",
       "      <th>type</th>\n",
       "      <th>amount</th>\n",
       "      <th>nameOrig</th>\n",
       "      <th>oldbalanceOrg</th>\n",
       "      <th>newbalanceOrig</th>\n",
       "      <th>nameDest</th>\n",
       "      <th>oldbalanceDest</th>\n",
       "      <th>newbalanceDest</th>\n",
       "      <th>isFraud</th>\n",
       "      <th>isFlaggedFraud</th>\n",
       "    </tr>\n",
       "  </thead>\n",
       "  <tbody>\n",
       "    <tr>\n",
       "      <th>1429899</th>\n",
       "      <td>139</td>\n",
       "      <td>PAYMENT</td>\n",
       "      <td>4207.06</td>\n",
       "      <td>C79231737</td>\n",
       "      <td>6955.00</td>\n",
       "      <td>2747.94</td>\n",
       "      <td>M1981042370</td>\n",
       "      <td>0.00</td>\n",
       "      <td>0.00</td>\n",
       "      <td>0</td>\n",
       "      <td>0</td>\n",
       "    </tr>\n",
       "    <tr>\n",
       "      <th>1592465</th>\n",
       "      <td>156</td>\n",
       "      <td>PAYMENT</td>\n",
       "      <td>41411.66</td>\n",
       "      <td>C1196910173</td>\n",
       "      <td>49748.00</td>\n",
       "      <td>8336.34</td>\n",
       "      <td>M1414569575</td>\n",
       "      <td>0.00</td>\n",
       "      <td>0.00</td>\n",
       "      <td>0</td>\n",
       "      <td>0</td>\n",
       "    </tr>\n",
       "    <tr>\n",
       "      <th>3643467</th>\n",
       "      <td>275</td>\n",
       "      <td>CASH_OUT</td>\n",
       "      <td>75185.09</td>\n",
       "      <td>C166755793</td>\n",
       "      <td>177.00</td>\n",
       "      <td>0.00</td>\n",
       "      <td>C1628309449</td>\n",
       "      <td>0.00</td>\n",
       "      <td>75185.09</td>\n",
       "      <td>0</td>\n",
       "      <td>0</td>\n",
       "    </tr>\n",
       "    <tr>\n",
       "      <th>1087045</th>\n",
       "      <td>129</td>\n",
       "      <td>CASH_OUT</td>\n",
       "      <td>34161.90</td>\n",
       "      <td>C1688779685</td>\n",
       "      <td>0.00</td>\n",
       "      <td>0.00</td>\n",
       "      <td>C2033955666</td>\n",
       "      <td>452904.06</td>\n",
       "      <td>487065.96</td>\n",
       "      <td>0</td>\n",
       "      <td>0</td>\n",
       "    </tr>\n",
       "    <tr>\n",
       "      <th>5754637</th>\n",
       "      <td>399</td>\n",
       "      <td>CASH_IN</td>\n",
       "      <td>73099.54</td>\n",
       "      <td>C1186857784</td>\n",
       "      <td>23945549.21</td>\n",
       "      <td>24018648.75</td>\n",
       "      <td>C438147387</td>\n",
       "      <td>3718538.41</td>\n",
       "      <td>3645438.87</td>\n",
       "      <td>0</td>\n",
       "      <td>0</td>\n",
       "    </tr>\n",
       "  </tbody>\n",
       "</table>\n",
       "</div>"
      ],
      "text/plain": [
       "         step      type    amount     nameOrig  oldbalanceOrg  newbalanceOrig  \\\n",
       "1429899   139   PAYMENT   4207.06    C79231737        6955.00         2747.94   \n",
       "1592465   156   PAYMENT  41411.66  C1196910173       49748.00         8336.34   \n",
       "3643467   275  CASH_OUT  75185.09   C166755793         177.00            0.00   \n",
       "1087045   129  CASH_OUT  34161.90  C1688779685           0.00            0.00   \n",
       "5754637   399   CASH_IN  73099.54  C1186857784    23945549.21     24018648.75   \n",
       "\n",
       "            nameDest  oldbalanceDest  newbalanceDest  isFraud  isFlaggedFraud  \n",
       "1429899  M1981042370            0.00            0.00        0               0  \n",
       "1592465  M1414569575            0.00            0.00        0               0  \n",
       "3643467  C1628309449            0.00        75185.09        0               0  \n",
       "1087045  C2033955666       452904.06       487065.96        0               0  \n",
       "5754637   C438147387      3718538.41      3645438.87        0               0  "
      ]
     },
     "execution_count": 9,
     "metadata": {},
     "output_type": "execute_result"
    }
   ],
   "source": [
    "df.sample(5)"
   ]
  },
  {
   "cell_type": "code",
   "execution_count": 10,
   "id": "2155271c-b84b-4fea-9ed3-03587d8b19d5",
   "metadata": {},
   "outputs": [
    {
     "data": {
      "text/plain": [
       "step                int64\n",
       "type               object\n",
       "amount            float64\n",
       "nameOrig           object\n",
       "oldbalanceOrg     float64\n",
       "newbalanceOrig    float64\n",
       "nameDest           object\n",
       "oldbalanceDest    float64\n",
       "newbalanceDest    float64\n",
       "isFraud             int64\n",
       "isFlaggedFraud      int64\n",
       "dtype: object"
      ]
     },
     "execution_count": 10,
     "metadata": {},
     "output_type": "execute_result"
    }
   ],
   "source": [
    "df.dtypes"
   ]
  },
  {
   "cell_type": "code",
   "execution_count": 11,
   "id": "3f0fed1d-753e-487a-a54a-fbba59021890",
   "metadata": {},
   "outputs": [],
   "source": [
    "pd.set_option('display.float_format', lambda x: '%0.4f' % x)"
   ]
  },
  {
   "cell_type": "code",
   "execution_count": 12,
   "id": "1d1bcfe3-8ec5-4387-8c0d-5aeb675ff6b8",
   "metadata": {},
   "outputs": [
    {
     "data": {
      "text/html": [
       "<div>\n",
       "<style scoped>\n",
       "    .dataframe tbody tr th:only-of-type {\n",
       "        vertical-align: middle;\n",
       "    }\n",
       "\n",
       "    .dataframe tbody tr th {\n",
       "        vertical-align: top;\n",
       "    }\n",
       "\n",
       "    .dataframe thead th {\n",
       "        text-align: right;\n",
       "    }\n",
       "</style>\n",
       "<table border=\"1\" class=\"dataframe\">\n",
       "  <thead>\n",
       "    <tr style=\"text-align: right;\">\n",
       "      <th></th>\n",
       "      <th>count</th>\n",
       "      <th>mean</th>\n",
       "      <th>std</th>\n",
       "      <th>min</th>\n",
       "      <th>25%</th>\n",
       "      <th>50%</th>\n",
       "      <th>75%</th>\n",
       "      <th>max</th>\n",
       "    </tr>\n",
       "  </thead>\n",
       "  <tbody>\n",
       "    <tr>\n",
       "      <th>step</th>\n",
       "      <td>6362620.0000</td>\n",
       "      <td>243.4000</td>\n",
       "      <td>142.3300</td>\n",
       "      <td>1.0000</td>\n",
       "      <td>156.0000</td>\n",
       "      <td>239.0000</td>\n",
       "      <td>335.0000</td>\n",
       "      <td>743.0000</td>\n",
       "    </tr>\n",
       "    <tr>\n",
       "      <th>amount</th>\n",
       "      <td>6362620.0000</td>\n",
       "      <td>179861.9000</td>\n",
       "      <td>603858.2300</td>\n",
       "      <td>0.0000</td>\n",
       "      <td>13389.5700</td>\n",
       "      <td>74871.9400</td>\n",
       "      <td>208721.4800</td>\n",
       "      <td>92445516.6400</td>\n",
       "    </tr>\n",
       "    <tr>\n",
       "      <th>oldbalanceOrg</th>\n",
       "      <td>6362620.0000</td>\n",
       "      <td>833883.1000</td>\n",
       "      <td>2888242.6700</td>\n",
       "      <td>0.0000</td>\n",
       "      <td>0.0000</td>\n",
       "      <td>14208.0000</td>\n",
       "      <td>107315.1800</td>\n",
       "      <td>59585040.3700</td>\n",
       "    </tr>\n",
       "    <tr>\n",
       "      <th>newbalanceOrig</th>\n",
       "      <td>6362620.0000</td>\n",
       "      <td>855113.6700</td>\n",
       "      <td>2924048.5000</td>\n",
       "      <td>0.0000</td>\n",
       "      <td>0.0000</td>\n",
       "      <td>0.0000</td>\n",
       "      <td>144258.4100</td>\n",
       "      <td>49585040.3700</td>\n",
       "    </tr>\n",
       "    <tr>\n",
       "      <th>oldbalanceDest</th>\n",
       "      <td>6362620.0000</td>\n",
       "      <td>1100701.6700</td>\n",
       "      <td>3399180.1100</td>\n",
       "      <td>0.0000</td>\n",
       "      <td>0.0000</td>\n",
       "      <td>132705.6600</td>\n",
       "      <td>943036.7100</td>\n",
       "      <td>356015889.3500</td>\n",
       "    </tr>\n",
       "    <tr>\n",
       "      <th>newbalanceDest</th>\n",
       "      <td>6362620.0000</td>\n",
       "      <td>1224996.4000</td>\n",
       "      <td>3674128.9400</td>\n",
       "      <td>0.0000</td>\n",
       "      <td>0.0000</td>\n",
       "      <td>214661.4400</td>\n",
       "      <td>1111909.2500</td>\n",
       "      <td>356179278.9200</td>\n",
       "    </tr>\n",
       "  </tbody>\n",
       "</table>\n",
       "</div>"
      ],
      "text/plain": [
       "                      count         mean          std    min        25%  \\\n",
       "step           6362620.0000     243.4000     142.3300 1.0000   156.0000   \n",
       "amount         6362620.0000  179861.9000  603858.2300 0.0000 13389.5700   \n",
       "oldbalanceOrg  6362620.0000  833883.1000 2888242.6700 0.0000     0.0000   \n",
       "newbalanceOrig 6362620.0000  855113.6700 2924048.5000 0.0000     0.0000   \n",
       "oldbalanceDest 6362620.0000 1100701.6700 3399180.1100 0.0000     0.0000   \n",
       "newbalanceDest 6362620.0000 1224996.4000 3674128.9400 0.0000     0.0000   \n",
       "\n",
       "                       50%          75%            max  \n",
       "step              239.0000     335.0000       743.0000  \n",
       "amount          74871.9400  208721.4800  92445516.6400  \n",
       "oldbalanceOrg   14208.0000  107315.1800  59585040.3700  \n",
       "newbalanceOrig      0.0000  144258.4100  49585040.3700  \n",
       "oldbalanceDest 132705.6600  943036.7100 356015889.3500  \n",
       "newbalanceDest 214661.4400 1111909.2500 356179278.9200  "
      ]
     },
     "execution_count": 12,
     "metadata": {},
     "output_type": "execute_result"
    }
   ],
   "source": [
    "round(df[['step', 'amount', 'oldbalanceOrg', 'newbalanceOrig','oldbalanceDest',\n",
    "                'newbalanceDest',]].describe().T,\n",
    "      2)"
   ]
  },
  {
   "cell_type": "code",
   "execution_count": 13,
   "id": "3b34eb6d-5cc8-4d4c-b04e-1e1ca7d2dace",
   "metadata": {},
   "outputs": [
    {
     "data": {
      "text/html": [
       "<div>\n",
       "<style scoped>\n",
       "    .dataframe tbody tr th:only-of-type {\n",
       "        vertical-align: middle;\n",
       "    }\n",
       "\n",
       "    .dataframe tbody tr th {\n",
       "        vertical-align: top;\n",
       "    }\n",
       "\n",
       "    .dataframe thead th {\n",
       "        text-align: right;\n",
       "    }\n",
       "</style>\n",
       "<table border=\"1\" class=\"dataframe\">\n",
       "  <thead>\n",
       "    <tr style=\"text-align: right;\">\n",
       "      <th></th>\n",
       "      <th>step</th>\n",
       "      <th>amount</th>\n",
       "      <th>oldbalanceOrg</th>\n",
       "      <th>newbalanceOrig</th>\n",
       "      <th>oldbalanceDest</th>\n",
       "      <th>newbalanceDest</th>\n",
       "      <th>isFraud</th>\n",
       "      <th>isFlaggedFraud</th>\n",
       "    </tr>\n",
       "  </thead>\n",
       "  <tbody>\n",
       "    <tr>\n",
       "      <th>step</th>\n",
       "      <td>1.0000</td>\n",
       "      <td>0.0224</td>\n",
       "      <td>-0.0101</td>\n",
       "      <td>-0.0103</td>\n",
       "      <td>0.0277</td>\n",
       "      <td>0.0259</td>\n",
       "      <td>0.0316</td>\n",
       "      <td>0.0033</td>\n",
       "    </tr>\n",
       "    <tr>\n",
       "      <th>amount</th>\n",
       "      <td>0.0224</td>\n",
       "      <td>1.0000</td>\n",
       "      <td>-0.0028</td>\n",
       "      <td>-0.0079</td>\n",
       "      <td>0.2941</td>\n",
       "      <td>0.4593</td>\n",
       "      <td>0.0767</td>\n",
       "      <td>0.0123</td>\n",
       "    </tr>\n",
       "    <tr>\n",
       "      <th>oldbalanceOrg</th>\n",
       "      <td>-0.0101</td>\n",
       "      <td>-0.0028</td>\n",
       "      <td>1.0000</td>\n",
       "      <td>0.9988</td>\n",
       "      <td>0.0662</td>\n",
       "      <td>0.0420</td>\n",
       "      <td>0.0102</td>\n",
       "      <td>0.0038</td>\n",
       "    </tr>\n",
       "    <tr>\n",
       "      <th>newbalanceOrig</th>\n",
       "      <td>-0.0103</td>\n",
       "      <td>-0.0079</td>\n",
       "      <td>0.9988</td>\n",
       "      <td>1.0000</td>\n",
       "      <td>0.0678</td>\n",
       "      <td>0.0418</td>\n",
       "      <td>-0.0081</td>\n",
       "      <td>0.0038</td>\n",
       "    </tr>\n",
       "    <tr>\n",
       "      <th>oldbalanceDest</th>\n",
       "      <td>0.0277</td>\n",
       "      <td>0.2941</td>\n",
       "      <td>0.0662</td>\n",
       "      <td>0.0678</td>\n",
       "      <td>1.0000</td>\n",
       "      <td>0.9766</td>\n",
       "      <td>-0.0059</td>\n",
       "      <td>-0.0005</td>\n",
       "    </tr>\n",
       "    <tr>\n",
       "      <th>newbalanceDest</th>\n",
       "      <td>0.0259</td>\n",
       "      <td>0.4593</td>\n",
       "      <td>0.0420</td>\n",
       "      <td>0.0418</td>\n",
       "      <td>0.9766</td>\n",
       "      <td>1.0000</td>\n",
       "      <td>0.0005</td>\n",
       "      <td>-0.0005</td>\n",
       "    </tr>\n",
       "    <tr>\n",
       "      <th>isFraud</th>\n",
       "      <td>0.0316</td>\n",
       "      <td>0.0767</td>\n",
       "      <td>0.0102</td>\n",
       "      <td>-0.0081</td>\n",
       "      <td>-0.0059</td>\n",
       "      <td>0.0005</td>\n",
       "      <td>1.0000</td>\n",
       "      <td>0.0441</td>\n",
       "    </tr>\n",
       "    <tr>\n",
       "      <th>isFlaggedFraud</th>\n",
       "      <td>0.0033</td>\n",
       "      <td>0.0123</td>\n",
       "      <td>0.0038</td>\n",
       "      <td>0.0038</td>\n",
       "      <td>-0.0005</td>\n",
       "      <td>-0.0005</td>\n",
       "      <td>0.0441</td>\n",
       "      <td>1.0000</td>\n",
       "    </tr>\n",
       "  </tbody>\n",
       "</table>\n",
       "</div>"
      ],
      "text/plain": [
       "                  step  amount  oldbalanceOrg  newbalanceOrig  oldbalanceDest  \\\n",
       "step            1.0000  0.0224        -0.0101         -0.0103          0.0277   \n",
       "amount          0.0224  1.0000        -0.0028         -0.0079          0.2941   \n",
       "oldbalanceOrg  -0.0101 -0.0028         1.0000          0.9988          0.0662   \n",
       "newbalanceOrig -0.0103 -0.0079         0.9988          1.0000          0.0678   \n",
       "oldbalanceDest  0.0277  0.2941         0.0662          0.0678          1.0000   \n",
       "newbalanceDest  0.0259  0.4593         0.0420          0.0418          0.9766   \n",
       "isFraud         0.0316  0.0767         0.0102         -0.0081         -0.0059   \n",
       "isFlaggedFraud  0.0033  0.0123         0.0038          0.0038         -0.0005   \n",
       "\n",
       "                newbalanceDest  isFraud  isFlaggedFraud  \n",
       "step                    0.0259   0.0316          0.0033  \n",
       "amount                  0.4593   0.0767          0.0123  \n",
       "oldbalanceOrg           0.0420   0.0102          0.0038  \n",
       "newbalanceOrig          0.0418  -0.0081          0.0038  \n",
       "oldbalanceDest          0.9766  -0.0059         -0.0005  \n",
       "newbalanceDest          1.0000   0.0005         -0.0005  \n",
       "isFraud                 0.0005   1.0000          0.0441  \n",
       "isFlaggedFraud         -0.0005   0.0441          1.0000  "
      ]
     },
     "execution_count": 13,
     "metadata": {},
     "output_type": "execute_result"
    }
   ],
   "source": [
    "df[['step', 'amount', 'oldbalanceOrg', 'newbalanceOrig','oldbalanceDest',\n",
    "                'newbalanceDest','isFraud',\n",
    "       'isFlaggedFraud']].corr()"
   ]
  },
  {
   "cell_type": "code",
   "execution_count": 14,
   "id": "a8b4401a-ddf5-4173-bb2f-95e01a85345f",
   "metadata": {},
   "outputs": [
    {
     "data": {
      "text/html": [
       "<div>\n",
       "<style scoped>\n",
       "    .dataframe tbody tr th:only-of-type {\n",
       "        vertical-align: middle;\n",
       "    }\n",
       "\n",
       "    .dataframe tbody tr th {\n",
       "        vertical-align: top;\n",
       "    }\n",
       "\n",
       "    .dataframe thead th {\n",
       "        text-align: right;\n",
       "    }\n",
       "</style>\n",
       "<table border=\"1\" class=\"dataframe\">\n",
       "  <thead>\n",
       "    <tr style=\"text-align: right;\">\n",
       "      <th></th>\n",
       "      <th>step</th>\n",
       "      <th>type</th>\n",
       "      <th>amount</th>\n",
       "      <th>nameOrig</th>\n",
       "      <th>oldbalanceOrg</th>\n",
       "      <th>newbalanceOrig</th>\n",
       "      <th>nameDest</th>\n",
       "      <th>oldbalanceDest</th>\n",
       "      <th>newbalanceDest</th>\n",
       "      <th>isFraud</th>\n",
       "      <th>isFlaggedFraud</th>\n",
       "    </tr>\n",
       "  </thead>\n",
       "  <tbody>\n",
       "    <tr>\n",
       "      <th>2736447</th>\n",
       "      <td>212</td>\n",
       "      <td>CASH_OUT</td>\n",
       "      <td>0.0000</td>\n",
       "      <td>C1510987794</td>\n",
       "      <td>0.0000</td>\n",
       "      <td>0.0000</td>\n",
       "      <td>C1696624817</td>\n",
       "      <td>0.0000</td>\n",
       "      <td>0.0000</td>\n",
       "      <td>1</td>\n",
       "      <td>0</td>\n",
       "    </tr>\n",
       "    <tr>\n",
       "      <th>3247298</th>\n",
       "      <td>250</td>\n",
       "      <td>CASH_OUT</td>\n",
       "      <td>0.0000</td>\n",
       "      <td>C521393327</td>\n",
       "      <td>0.0000</td>\n",
       "      <td>0.0000</td>\n",
       "      <td>C480398193</td>\n",
       "      <td>0.0000</td>\n",
       "      <td>0.0000</td>\n",
       "      <td>1</td>\n",
       "      <td>0</td>\n",
       "    </tr>\n",
       "    <tr>\n",
       "      <th>3760289</th>\n",
       "      <td>279</td>\n",
       "      <td>CASH_OUT</td>\n",
       "      <td>0.0000</td>\n",
       "      <td>C539112012</td>\n",
       "      <td>0.0000</td>\n",
       "      <td>0.0000</td>\n",
       "      <td>C1106468520</td>\n",
       "      <td>538547.6300</td>\n",
       "      <td>538547.6300</td>\n",
       "      <td>1</td>\n",
       "      <td>0</td>\n",
       "    </tr>\n",
       "    <tr>\n",
       "      <th>5563714</th>\n",
       "      <td>387</td>\n",
       "      <td>CASH_OUT</td>\n",
       "      <td>0.0000</td>\n",
       "      <td>C1294472700</td>\n",
       "      <td>0.0000</td>\n",
       "      <td>0.0000</td>\n",
       "      <td>C1325541393</td>\n",
       "      <td>7970766.5700</td>\n",
       "      <td>7970766.5700</td>\n",
       "      <td>1</td>\n",
       "      <td>0</td>\n",
       "    </tr>\n",
       "    <tr>\n",
       "      <th>5996408</th>\n",
       "      <td>425</td>\n",
       "      <td>CASH_OUT</td>\n",
       "      <td>0.0000</td>\n",
       "      <td>C832555372</td>\n",
       "      <td>0.0000</td>\n",
       "      <td>0.0000</td>\n",
       "      <td>C1462759334</td>\n",
       "      <td>76759.9000</td>\n",
       "      <td>76759.9000</td>\n",
       "      <td>1</td>\n",
       "      <td>0</td>\n",
       "    </tr>\n",
       "    <tr>\n",
       "      <th>5996410</th>\n",
       "      <td>425</td>\n",
       "      <td>CASH_OUT</td>\n",
       "      <td>0.0000</td>\n",
       "      <td>C69493310</td>\n",
       "      <td>0.0000</td>\n",
       "      <td>0.0000</td>\n",
       "      <td>C719711728</td>\n",
       "      <td>2921531.3400</td>\n",
       "      <td>2921531.3400</td>\n",
       "      <td>1</td>\n",
       "      <td>0</td>\n",
       "    </tr>\n",
       "    <tr>\n",
       "      <th>6168500</th>\n",
       "      <td>554</td>\n",
       "      <td>CASH_OUT</td>\n",
       "      <td>0.0000</td>\n",
       "      <td>C10965156</td>\n",
       "      <td>0.0000</td>\n",
       "      <td>0.0000</td>\n",
       "      <td>C1493336195</td>\n",
       "      <td>230289.6600</td>\n",
       "      <td>230289.6600</td>\n",
       "      <td>1</td>\n",
       "      <td>0</td>\n",
       "    </tr>\n",
       "    <tr>\n",
       "      <th>6205440</th>\n",
       "      <td>586</td>\n",
       "      <td>CASH_OUT</td>\n",
       "      <td>0.0000</td>\n",
       "      <td>C1303719003</td>\n",
       "      <td>0.0000</td>\n",
       "      <td>0.0000</td>\n",
       "      <td>C900608348</td>\n",
       "      <td>1328472.8600</td>\n",
       "      <td>1328472.8600</td>\n",
       "      <td>1</td>\n",
       "      <td>0</td>\n",
       "    </tr>\n",
       "    <tr>\n",
       "      <th>6266414</th>\n",
       "      <td>617</td>\n",
       "      <td>CASH_OUT</td>\n",
       "      <td>0.0000</td>\n",
       "      <td>C1971175979</td>\n",
       "      <td>0.0000</td>\n",
       "      <td>0.0000</td>\n",
       "      <td>C1352345416</td>\n",
       "      <td>0.0000</td>\n",
       "      <td>0.0000</td>\n",
       "      <td>1</td>\n",
       "      <td>0</td>\n",
       "    </tr>\n",
       "    <tr>\n",
       "      <th>6281483</th>\n",
       "      <td>646</td>\n",
       "      <td>CASH_OUT</td>\n",
       "      <td>0.0000</td>\n",
       "      <td>C2060908932</td>\n",
       "      <td>0.0000</td>\n",
       "      <td>0.0000</td>\n",
       "      <td>C1587892888</td>\n",
       "      <td>0.0000</td>\n",
       "      <td>0.0000</td>\n",
       "      <td>1</td>\n",
       "      <td>0</td>\n",
       "    </tr>\n",
       "    <tr>\n",
       "      <th>6281485</th>\n",
       "      <td>646</td>\n",
       "      <td>CASH_OUT</td>\n",
       "      <td>0.0000</td>\n",
       "      <td>C1997645312</td>\n",
       "      <td>0.0000</td>\n",
       "      <td>0.0000</td>\n",
       "      <td>C601248796</td>\n",
       "      <td>0.0000</td>\n",
       "      <td>0.0000</td>\n",
       "      <td>1</td>\n",
       "      <td>0</td>\n",
       "    </tr>\n",
       "    <tr>\n",
       "      <th>6296015</th>\n",
       "      <td>671</td>\n",
       "      <td>CASH_OUT</td>\n",
       "      <td>0.0000</td>\n",
       "      <td>C1960007029</td>\n",
       "      <td>0.0000</td>\n",
       "      <td>0.0000</td>\n",
       "      <td>C459118517</td>\n",
       "      <td>27938.7200</td>\n",
       "      <td>27938.7200</td>\n",
       "      <td>1</td>\n",
       "      <td>0</td>\n",
       "    </tr>\n",
       "    <tr>\n",
       "      <th>6351226</th>\n",
       "      <td>702</td>\n",
       "      <td>CASH_OUT</td>\n",
       "      <td>0.0000</td>\n",
       "      <td>C1461113533</td>\n",
       "      <td>0.0000</td>\n",
       "      <td>0.0000</td>\n",
       "      <td>C1382150537</td>\n",
       "      <td>107777.0200</td>\n",
       "      <td>107777.0200</td>\n",
       "      <td>1</td>\n",
       "      <td>0</td>\n",
       "    </tr>\n",
       "    <tr>\n",
       "      <th>6362461</th>\n",
       "      <td>730</td>\n",
       "      <td>CASH_OUT</td>\n",
       "      <td>0.0000</td>\n",
       "      <td>C729003789</td>\n",
       "      <td>0.0000</td>\n",
       "      <td>0.0000</td>\n",
       "      <td>C1388096959</td>\n",
       "      <td>1008609.5300</td>\n",
       "      <td>1008609.5300</td>\n",
       "      <td>1</td>\n",
       "      <td>0</td>\n",
       "    </tr>\n",
       "    <tr>\n",
       "      <th>6362463</th>\n",
       "      <td>730</td>\n",
       "      <td>CASH_OUT</td>\n",
       "      <td>0.0000</td>\n",
       "      <td>C2088151490</td>\n",
       "      <td>0.0000</td>\n",
       "      <td>0.0000</td>\n",
       "      <td>C1156763710</td>\n",
       "      <td>0.0000</td>\n",
       "      <td>0.0000</td>\n",
       "      <td>1</td>\n",
       "      <td>0</td>\n",
       "    </tr>\n",
       "    <tr>\n",
       "      <th>6362585</th>\n",
       "      <td>741</td>\n",
       "      <td>CASH_OUT</td>\n",
       "      <td>0.0000</td>\n",
       "      <td>C312737633</td>\n",
       "      <td>0.0000</td>\n",
       "      <td>0.0000</td>\n",
       "      <td>C1400061387</td>\n",
       "      <td>267522.8700</td>\n",
       "      <td>267522.8700</td>\n",
       "      <td>1</td>\n",
       "      <td>0</td>\n",
       "    </tr>\n",
       "  </tbody>\n",
       "</table>\n",
       "</div>"
      ],
      "text/plain": [
       "         step      type  amount     nameOrig  oldbalanceOrg  newbalanceOrig  \\\n",
       "2736447   212  CASH_OUT  0.0000  C1510987794         0.0000          0.0000   \n",
       "3247298   250  CASH_OUT  0.0000   C521393327         0.0000          0.0000   \n",
       "3760289   279  CASH_OUT  0.0000   C539112012         0.0000          0.0000   \n",
       "5563714   387  CASH_OUT  0.0000  C1294472700         0.0000          0.0000   \n",
       "5996408   425  CASH_OUT  0.0000   C832555372         0.0000          0.0000   \n",
       "5996410   425  CASH_OUT  0.0000    C69493310         0.0000          0.0000   \n",
       "6168500   554  CASH_OUT  0.0000    C10965156         0.0000          0.0000   \n",
       "6205440   586  CASH_OUT  0.0000  C1303719003         0.0000          0.0000   \n",
       "6266414   617  CASH_OUT  0.0000  C1971175979         0.0000          0.0000   \n",
       "6281483   646  CASH_OUT  0.0000  C2060908932         0.0000          0.0000   \n",
       "6281485   646  CASH_OUT  0.0000  C1997645312         0.0000          0.0000   \n",
       "6296015   671  CASH_OUT  0.0000  C1960007029         0.0000          0.0000   \n",
       "6351226   702  CASH_OUT  0.0000  C1461113533         0.0000          0.0000   \n",
       "6362461   730  CASH_OUT  0.0000   C729003789         0.0000          0.0000   \n",
       "6362463   730  CASH_OUT  0.0000  C2088151490         0.0000          0.0000   \n",
       "6362585   741  CASH_OUT  0.0000   C312737633         0.0000          0.0000   \n",
       "\n",
       "            nameDest  oldbalanceDest  newbalanceDest  isFraud  isFlaggedFraud  \n",
       "2736447  C1696624817          0.0000          0.0000        1               0  \n",
       "3247298   C480398193          0.0000          0.0000        1               0  \n",
       "3760289  C1106468520     538547.6300     538547.6300        1               0  \n",
       "5563714  C1325541393    7970766.5700    7970766.5700        1               0  \n",
       "5996408  C1462759334      76759.9000      76759.9000        1               0  \n",
       "5996410   C719711728    2921531.3400    2921531.3400        1               0  \n",
       "6168500  C1493336195     230289.6600     230289.6600        1               0  \n",
       "6205440   C900608348    1328472.8600    1328472.8600        1               0  \n",
       "6266414  C1352345416          0.0000          0.0000        1               0  \n",
       "6281483  C1587892888          0.0000          0.0000        1               0  \n",
       "6281485   C601248796          0.0000          0.0000        1               0  \n",
       "6296015   C459118517      27938.7200      27938.7200        1               0  \n",
       "6351226  C1382150537     107777.0200     107777.0200        1               0  \n",
       "6362461  C1388096959    1008609.5300    1008609.5300        1               0  \n",
       "6362463  C1156763710          0.0000          0.0000        1               0  \n",
       "6362585  C1400061387     267522.8700     267522.8700        1               0  "
      ]
     },
     "execution_count": 14,
     "metadata": {},
     "output_type": "execute_result"
    }
   ],
   "source": [
    "df[df['amount']==0]"
   ]
  },
  {
   "cell_type": "code",
   "execution_count": 15,
   "id": "e174c1e4-2350-4656-a944-1bcdf9821196",
   "metadata": {},
   "outputs": [
    {
     "data": {
      "text/html": [
       "<div>\n",
       "<style scoped>\n",
       "    .dataframe tbody tr th:only-of-type {\n",
       "        vertical-align: middle;\n",
       "    }\n",
       "\n",
       "    .dataframe tbody tr th {\n",
       "        vertical-align: top;\n",
       "    }\n",
       "\n",
       "    .dataframe thead th {\n",
       "        text-align: right;\n",
       "    }\n",
       "</style>\n",
       "<table border=\"1\" class=\"dataframe\">\n",
       "  <thead>\n",
       "    <tr style=\"text-align: right;\">\n",
       "      <th></th>\n",
       "      <th>step</th>\n",
       "      <th>type</th>\n",
       "      <th>amount</th>\n",
       "      <th>nameOrig</th>\n",
       "      <th>oldbalanceOrg</th>\n",
       "      <th>newbalanceOrig</th>\n",
       "      <th>nameDest</th>\n",
       "      <th>oldbalanceDest</th>\n",
       "      <th>newbalanceDest</th>\n",
       "      <th>isFraud</th>\n",
       "      <th>isFlaggedFraud</th>\n",
       "    </tr>\n",
       "  </thead>\n",
       "  <tbody>\n",
       "    <tr>\n",
       "      <th>2736446</th>\n",
       "      <td>212</td>\n",
       "      <td>TRANSFER</td>\n",
       "      <td>4953893.0800</td>\n",
       "      <td>C728984460</td>\n",
       "      <td>4953893.0800</td>\n",
       "      <td>4953893.0800</td>\n",
       "      <td>C639921569</td>\n",
       "      <td>0.0000</td>\n",
       "      <td>0.0000</td>\n",
       "      <td>1</td>\n",
       "      <td>1</td>\n",
       "    </tr>\n",
       "    <tr>\n",
       "      <th>3247297</th>\n",
       "      <td>250</td>\n",
       "      <td>TRANSFER</td>\n",
       "      <td>1343002.0800</td>\n",
       "      <td>C1100582606</td>\n",
       "      <td>1343002.0800</td>\n",
       "      <td>1343002.0800</td>\n",
       "      <td>C1147517658</td>\n",
       "      <td>0.0000</td>\n",
       "      <td>0.0000</td>\n",
       "      <td>1</td>\n",
       "      <td>1</td>\n",
       "    </tr>\n",
       "    <tr>\n",
       "      <th>3760288</th>\n",
       "      <td>279</td>\n",
       "      <td>TRANSFER</td>\n",
       "      <td>536624.4100</td>\n",
       "      <td>C1035541766</td>\n",
       "      <td>536624.4100</td>\n",
       "      <td>536624.4100</td>\n",
       "      <td>C1100697970</td>\n",
       "      <td>0.0000</td>\n",
       "      <td>0.0000</td>\n",
       "      <td>1</td>\n",
       "      <td>1</td>\n",
       "    </tr>\n",
       "    <tr>\n",
       "      <th>5563713</th>\n",
       "      <td>387</td>\n",
       "      <td>TRANSFER</td>\n",
       "      <td>4892193.0900</td>\n",
       "      <td>C908544136</td>\n",
       "      <td>4892193.0900</td>\n",
       "      <td>4892193.0900</td>\n",
       "      <td>C891140444</td>\n",
       "      <td>0.0000</td>\n",
       "      <td>0.0000</td>\n",
       "      <td>1</td>\n",
       "      <td>1</td>\n",
       "    </tr>\n",
       "    <tr>\n",
       "      <th>5996407</th>\n",
       "      <td>425</td>\n",
       "      <td>TRANSFER</td>\n",
       "      <td>10000000.0000</td>\n",
       "      <td>C689608084</td>\n",
       "      <td>19585040.3700</td>\n",
       "      <td>19585040.3700</td>\n",
       "      <td>C1392803603</td>\n",
       "      <td>0.0000</td>\n",
       "      <td>0.0000</td>\n",
       "      <td>1</td>\n",
       "      <td>1</td>\n",
       "    </tr>\n",
       "    <tr>\n",
       "      <th>5996409</th>\n",
       "      <td>425</td>\n",
       "      <td>TRANSFER</td>\n",
       "      <td>9585040.3700</td>\n",
       "      <td>C452586515</td>\n",
       "      <td>19585040.3700</td>\n",
       "      <td>19585040.3700</td>\n",
       "      <td>C1109166882</td>\n",
       "      <td>0.0000</td>\n",
       "      <td>0.0000</td>\n",
       "      <td>1</td>\n",
       "      <td>1</td>\n",
       "    </tr>\n",
       "    <tr>\n",
       "      <th>6168499</th>\n",
       "      <td>554</td>\n",
       "      <td>TRANSFER</td>\n",
       "      <td>3576297.1000</td>\n",
       "      <td>C193696150</td>\n",
       "      <td>3576297.1000</td>\n",
       "      <td>3576297.1000</td>\n",
       "      <td>C484597480</td>\n",
       "      <td>0.0000</td>\n",
       "      <td>0.0000</td>\n",
       "      <td>1</td>\n",
       "      <td>1</td>\n",
       "    </tr>\n",
       "    <tr>\n",
       "      <th>6205439</th>\n",
       "      <td>586</td>\n",
       "      <td>TRANSFER</td>\n",
       "      <td>353874.2200</td>\n",
       "      <td>C1684585475</td>\n",
       "      <td>353874.2200</td>\n",
       "      <td>353874.2200</td>\n",
       "      <td>C1770418982</td>\n",
       "      <td>0.0000</td>\n",
       "      <td>0.0000</td>\n",
       "      <td>1</td>\n",
       "      <td>1</td>\n",
       "    </tr>\n",
       "    <tr>\n",
       "      <th>6266413</th>\n",
       "      <td>617</td>\n",
       "      <td>TRANSFER</td>\n",
       "      <td>2542664.2700</td>\n",
       "      <td>C786455622</td>\n",
       "      <td>2542664.2700</td>\n",
       "      <td>2542664.2700</td>\n",
       "      <td>C661958277</td>\n",
       "      <td>0.0000</td>\n",
       "      <td>0.0000</td>\n",
       "      <td>1</td>\n",
       "      <td>1</td>\n",
       "    </tr>\n",
       "    <tr>\n",
       "      <th>6281482</th>\n",
       "      <td>646</td>\n",
       "      <td>TRANSFER</td>\n",
       "      <td>10000000.0000</td>\n",
       "      <td>C19004745</td>\n",
       "      <td>10399045.0800</td>\n",
       "      <td>10399045.0800</td>\n",
       "      <td>C1806199534</td>\n",
       "      <td>0.0000</td>\n",
       "      <td>0.0000</td>\n",
       "      <td>1</td>\n",
       "      <td>1</td>\n",
       "    </tr>\n",
       "    <tr>\n",
       "      <th>6281484</th>\n",
       "      <td>646</td>\n",
       "      <td>TRANSFER</td>\n",
       "      <td>399045.0800</td>\n",
       "      <td>C724693370</td>\n",
       "      <td>10399045.0800</td>\n",
       "      <td>10399045.0800</td>\n",
       "      <td>C1909486199</td>\n",
       "      <td>0.0000</td>\n",
       "      <td>0.0000</td>\n",
       "      <td>1</td>\n",
       "      <td>1</td>\n",
       "    </tr>\n",
       "    <tr>\n",
       "      <th>6296014</th>\n",
       "      <td>671</td>\n",
       "      <td>TRANSFER</td>\n",
       "      <td>3441041.4600</td>\n",
       "      <td>C917414431</td>\n",
       "      <td>3441041.4600</td>\n",
       "      <td>3441041.4600</td>\n",
       "      <td>C1082139865</td>\n",
       "      <td>0.0000</td>\n",
       "      <td>0.0000</td>\n",
       "      <td>1</td>\n",
       "      <td>1</td>\n",
       "    </tr>\n",
       "    <tr>\n",
       "      <th>6351225</th>\n",
       "      <td>702</td>\n",
       "      <td>TRANSFER</td>\n",
       "      <td>3171085.5900</td>\n",
       "      <td>C1892216157</td>\n",
       "      <td>3171085.5900</td>\n",
       "      <td>3171085.5900</td>\n",
       "      <td>C1308068787</td>\n",
       "      <td>0.0000</td>\n",
       "      <td>0.0000</td>\n",
       "      <td>1</td>\n",
       "      <td>1</td>\n",
       "    </tr>\n",
       "    <tr>\n",
       "      <th>6362460</th>\n",
       "      <td>730</td>\n",
       "      <td>TRANSFER</td>\n",
       "      <td>10000000.0000</td>\n",
       "      <td>C2140038573</td>\n",
       "      <td>17316255.0500</td>\n",
       "      <td>17316255.0500</td>\n",
       "      <td>C1395467927</td>\n",
       "      <td>0.0000</td>\n",
       "      <td>0.0000</td>\n",
       "      <td>1</td>\n",
       "      <td>1</td>\n",
       "    </tr>\n",
       "    <tr>\n",
       "      <th>6362462</th>\n",
       "      <td>730</td>\n",
       "      <td>TRANSFER</td>\n",
       "      <td>7316255.0500</td>\n",
       "      <td>C1869569059</td>\n",
       "      <td>17316255.0500</td>\n",
       "      <td>17316255.0500</td>\n",
       "      <td>C1861208726</td>\n",
       "      <td>0.0000</td>\n",
       "      <td>0.0000</td>\n",
       "      <td>1</td>\n",
       "      <td>1</td>\n",
       "    </tr>\n",
       "    <tr>\n",
       "      <th>6362584</th>\n",
       "      <td>741</td>\n",
       "      <td>TRANSFER</td>\n",
       "      <td>5674547.8900</td>\n",
       "      <td>C992223106</td>\n",
       "      <td>5674547.8900</td>\n",
       "      <td>5674547.8900</td>\n",
       "      <td>C1366804249</td>\n",
       "      <td>0.0000</td>\n",
       "      <td>0.0000</td>\n",
       "      <td>1</td>\n",
       "      <td>1</td>\n",
       "    </tr>\n",
       "  </tbody>\n",
       "</table>\n",
       "</div>"
      ],
      "text/plain": [
       "         step      type        amount     nameOrig  oldbalanceOrg  \\\n",
       "2736446   212  TRANSFER  4953893.0800   C728984460   4953893.0800   \n",
       "3247297   250  TRANSFER  1343002.0800  C1100582606   1343002.0800   \n",
       "3760288   279  TRANSFER   536624.4100  C1035541766    536624.4100   \n",
       "5563713   387  TRANSFER  4892193.0900   C908544136   4892193.0900   \n",
       "5996407   425  TRANSFER 10000000.0000   C689608084  19585040.3700   \n",
       "5996409   425  TRANSFER  9585040.3700   C452586515  19585040.3700   \n",
       "6168499   554  TRANSFER  3576297.1000   C193696150   3576297.1000   \n",
       "6205439   586  TRANSFER   353874.2200  C1684585475    353874.2200   \n",
       "6266413   617  TRANSFER  2542664.2700   C786455622   2542664.2700   \n",
       "6281482   646  TRANSFER 10000000.0000    C19004745  10399045.0800   \n",
       "6281484   646  TRANSFER   399045.0800   C724693370  10399045.0800   \n",
       "6296014   671  TRANSFER  3441041.4600   C917414431   3441041.4600   \n",
       "6351225   702  TRANSFER  3171085.5900  C1892216157   3171085.5900   \n",
       "6362460   730  TRANSFER 10000000.0000  C2140038573  17316255.0500   \n",
       "6362462   730  TRANSFER  7316255.0500  C1869569059  17316255.0500   \n",
       "6362584   741  TRANSFER  5674547.8900   C992223106   5674547.8900   \n",
       "\n",
       "         newbalanceOrig     nameDest  oldbalanceDest  newbalanceDest  isFraud  \\\n",
       "2736446    4953893.0800   C639921569          0.0000          0.0000        1   \n",
       "3247297    1343002.0800  C1147517658          0.0000          0.0000        1   \n",
       "3760288     536624.4100  C1100697970          0.0000          0.0000        1   \n",
       "5563713    4892193.0900   C891140444          0.0000          0.0000        1   \n",
       "5996407   19585040.3700  C1392803603          0.0000          0.0000        1   \n",
       "5996409   19585040.3700  C1109166882          0.0000          0.0000        1   \n",
       "6168499    3576297.1000   C484597480          0.0000          0.0000        1   \n",
       "6205439     353874.2200  C1770418982          0.0000          0.0000        1   \n",
       "6266413    2542664.2700   C661958277          0.0000          0.0000        1   \n",
       "6281482   10399045.0800  C1806199534          0.0000          0.0000        1   \n",
       "6281484   10399045.0800  C1909486199          0.0000          0.0000        1   \n",
       "6296014    3441041.4600  C1082139865          0.0000          0.0000        1   \n",
       "6351225    3171085.5900  C1308068787          0.0000          0.0000        1   \n",
       "6362460   17316255.0500  C1395467927          0.0000          0.0000        1   \n",
       "6362462   17316255.0500  C1861208726          0.0000          0.0000        1   \n",
       "6362584    5674547.8900  C1366804249          0.0000          0.0000        1   \n",
       "\n",
       "         isFlaggedFraud  \n",
       "2736446               1  \n",
       "3247297               1  \n",
       "3760288               1  \n",
       "5563713               1  \n",
       "5996407               1  \n",
       "5996409               1  \n",
       "6168499               1  \n",
       "6205439               1  \n",
       "6266413               1  \n",
       "6281482               1  \n",
       "6281484               1  \n",
       "6296014               1  \n",
       "6351225               1  \n",
       "6362460               1  \n",
       "6362462               1  \n",
       "6362584               1  "
      ]
     },
     "execution_count": 15,
     "metadata": {},
     "output_type": "execute_result"
    }
   ],
   "source": [
    "df[df['isFlaggedFraud']==1]"
   ]
  },
  {
   "cell_type": "code",
   "execution_count": 16,
   "id": "d7545691-ec2b-49e9-84e3-61a26d3098eb",
   "metadata": {},
   "outputs": [
    {
     "data": {
      "text/html": [
       "<div>\n",
       "<style scoped>\n",
       "    .dataframe tbody tr th:only-of-type {\n",
       "        vertical-align: middle;\n",
       "    }\n",
       "\n",
       "    .dataframe tbody tr th {\n",
       "        vertical-align: top;\n",
       "    }\n",
       "\n",
       "    .dataframe thead th {\n",
       "        text-align: right;\n",
       "    }\n",
       "</style>\n",
       "<table border=\"1\" class=\"dataframe\">\n",
       "  <thead>\n",
       "    <tr style=\"text-align: right;\">\n",
       "      <th></th>\n",
       "      <th>step</th>\n",
       "      <th>type</th>\n",
       "      <th>amount</th>\n",
       "      <th>nameOrig</th>\n",
       "      <th>oldbalanceOrg</th>\n",
       "      <th>newbalanceOrig</th>\n",
       "      <th>nameDest</th>\n",
       "      <th>oldbalanceDest</th>\n",
       "      <th>newbalanceDest</th>\n",
       "      <th>isFraud</th>\n",
       "      <th>isFlaggedFraud</th>\n",
       "    </tr>\n",
       "  </thead>\n",
       "  <tbody>\n",
       "    <tr>\n",
       "      <th>2</th>\n",
       "      <td>1</td>\n",
       "      <td>TRANSFER</td>\n",
       "      <td>181.0000</td>\n",
       "      <td>C1305486145</td>\n",
       "      <td>181.0000</td>\n",
       "      <td>0.0000</td>\n",
       "      <td>C553264065</td>\n",
       "      <td>0.0000</td>\n",
       "      <td>0.0000</td>\n",
       "      <td>1</td>\n",
       "      <td>0</td>\n",
       "    </tr>\n",
       "    <tr>\n",
       "      <th>3</th>\n",
       "      <td>1</td>\n",
       "      <td>CASH_OUT</td>\n",
       "      <td>181.0000</td>\n",
       "      <td>C840083671</td>\n",
       "      <td>181.0000</td>\n",
       "      <td>0.0000</td>\n",
       "      <td>C38997010</td>\n",
       "      <td>21182.0000</td>\n",
       "      <td>0.0000</td>\n",
       "      <td>1</td>\n",
       "      <td>0</td>\n",
       "    </tr>\n",
       "    <tr>\n",
       "      <th>251</th>\n",
       "      <td>1</td>\n",
       "      <td>TRANSFER</td>\n",
       "      <td>2806.0000</td>\n",
       "      <td>C1420196421</td>\n",
       "      <td>2806.0000</td>\n",
       "      <td>0.0000</td>\n",
       "      <td>C972765878</td>\n",
       "      <td>0.0000</td>\n",
       "      <td>0.0000</td>\n",
       "      <td>1</td>\n",
       "      <td>0</td>\n",
       "    </tr>\n",
       "    <tr>\n",
       "      <th>252</th>\n",
       "      <td>1</td>\n",
       "      <td>CASH_OUT</td>\n",
       "      <td>2806.0000</td>\n",
       "      <td>C2101527076</td>\n",
       "      <td>2806.0000</td>\n",
       "      <td>0.0000</td>\n",
       "      <td>C1007251739</td>\n",
       "      <td>26202.0000</td>\n",
       "      <td>0.0000</td>\n",
       "      <td>1</td>\n",
       "      <td>0</td>\n",
       "    </tr>\n",
       "    <tr>\n",
       "      <th>680</th>\n",
       "      <td>1</td>\n",
       "      <td>TRANSFER</td>\n",
       "      <td>20128.0000</td>\n",
       "      <td>C137533655</td>\n",
       "      <td>20128.0000</td>\n",
       "      <td>0.0000</td>\n",
       "      <td>C1848415041</td>\n",
       "      <td>0.0000</td>\n",
       "      <td>0.0000</td>\n",
       "      <td>1</td>\n",
       "      <td>0</td>\n",
       "    </tr>\n",
       "    <tr>\n",
       "      <th>...</th>\n",
       "      <td>...</td>\n",
       "      <td>...</td>\n",
       "      <td>...</td>\n",
       "      <td>...</td>\n",
       "      <td>...</td>\n",
       "      <td>...</td>\n",
       "      <td>...</td>\n",
       "      <td>...</td>\n",
       "      <td>...</td>\n",
       "      <td>...</td>\n",
       "      <td>...</td>\n",
       "    </tr>\n",
       "    <tr>\n",
       "      <th>6362615</th>\n",
       "      <td>743</td>\n",
       "      <td>CASH_OUT</td>\n",
       "      <td>339682.1300</td>\n",
       "      <td>C786484425</td>\n",
       "      <td>339682.1300</td>\n",
       "      <td>0.0000</td>\n",
       "      <td>C776919290</td>\n",
       "      <td>0.0000</td>\n",
       "      <td>339682.1300</td>\n",
       "      <td>1</td>\n",
       "      <td>0</td>\n",
       "    </tr>\n",
       "    <tr>\n",
       "      <th>6362616</th>\n",
       "      <td>743</td>\n",
       "      <td>TRANSFER</td>\n",
       "      <td>6311409.2800</td>\n",
       "      <td>C1529008245</td>\n",
       "      <td>6311409.2800</td>\n",
       "      <td>0.0000</td>\n",
       "      <td>C1881841831</td>\n",
       "      <td>0.0000</td>\n",
       "      <td>0.0000</td>\n",
       "      <td>1</td>\n",
       "      <td>0</td>\n",
       "    </tr>\n",
       "    <tr>\n",
       "      <th>6362617</th>\n",
       "      <td>743</td>\n",
       "      <td>CASH_OUT</td>\n",
       "      <td>6311409.2800</td>\n",
       "      <td>C1162922333</td>\n",
       "      <td>6311409.2800</td>\n",
       "      <td>0.0000</td>\n",
       "      <td>C1365125890</td>\n",
       "      <td>68488.8400</td>\n",
       "      <td>6379898.1100</td>\n",
       "      <td>1</td>\n",
       "      <td>0</td>\n",
       "    </tr>\n",
       "    <tr>\n",
       "      <th>6362618</th>\n",
       "      <td>743</td>\n",
       "      <td>TRANSFER</td>\n",
       "      <td>850002.5200</td>\n",
       "      <td>C1685995037</td>\n",
       "      <td>850002.5200</td>\n",
       "      <td>0.0000</td>\n",
       "      <td>C2080388513</td>\n",
       "      <td>0.0000</td>\n",
       "      <td>0.0000</td>\n",
       "      <td>1</td>\n",
       "      <td>0</td>\n",
       "    </tr>\n",
       "    <tr>\n",
       "      <th>6362619</th>\n",
       "      <td>743</td>\n",
       "      <td>CASH_OUT</td>\n",
       "      <td>850002.5200</td>\n",
       "      <td>C1280323807</td>\n",
       "      <td>850002.5200</td>\n",
       "      <td>0.0000</td>\n",
       "      <td>C873221189</td>\n",
       "      <td>6510099.1100</td>\n",
       "      <td>7360101.6300</td>\n",
       "      <td>1</td>\n",
       "      <td>0</td>\n",
       "    </tr>\n",
       "  </tbody>\n",
       "</table>\n",
       "<p>8034 rows × 11 columns</p>\n",
       "</div>"
      ],
      "text/plain": [
       "         step      type       amount     nameOrig  oldbalanceOrg  \\\n",
       "2           1  TRANSFER     181.0000  C1305486145       181.0000   \n",
       "3           1  CASH_OUT     181.0000   C840083671       181.0000   \n",
       "251         1  TRANSFER    2806.0000  C1420196421      2806.0000   \n",
       "252         1  CASH_OUT    2806.0000  C2101527076      2806.0000   \n",
       "680         1  TRANSFER   20128.0000   C137533655     20128.0000   \n",
       "...       ...       ...          ...          ...            ...   \n",
       "6362615   743  CASH_OUT  339682.1300   C786484425    339682.1300   \n",
       "6362616   743  TRANSFER 6311409.2800  C1529008245   6311409.2800   \n",
       "6362617   743  CASH_OUT 6311409.2800  C1162922333   6311409.2800   \n",
       "6362618   743  TRANSFER  850002.5200  C1685995037    850002.5200   \n",
       "6362619   743  CASH_OUT  850002.5200  C1280323807    850002.5200   \n",
       "\n",
       "         newbalanceOrig     nameDest  oldbalanceDest  newbalanceDest  isFraud  \\\n",
       "2                0.0000   C553264065          0.0000          0.0000        1   \n",
       "3                0.0000    C38997010      21182.0000          0.0000        1   \n",
       "251              0.0000   C972765878          0.0000          0.0000        1   \n",
       "252              0.0000  C1007251739      26202.0000          0.0000        1   \n",
       "680              0.0000  C1848415041          0.0000          0.0000        1   \n",
       "...                 ...          ...             ...             ...      ...   \n",
       "6362615          0.0000   C776919290          0.0000     339682.1300        1   \n",
       "6362616          0.0000  C1881841831          0.0000          0.0000        1   \n",
       "6362617          0.0000  C1365125890      68488.8400    6379898.1100        1   \n",
       "6362618          0.0000  C2080388513          0.0000          0.0000        1   \n",
       "6362619          0.0000   C873221189    6510099.1100    7360101.6300        1   \n",
       "\n",
       "         isFlaggedFraud  \n",
       "2                     0  \n",
       "3                     0  \n",
       "251                   0  \n",
       "252                   0  \n",
       "680                   0  \n",
       "...                 ...  \n",
       "6362615               0  \n",
       "6362616               0  \n",
       "6362617               0  \n",
       "6362618               0  \n",
       "6362619               0  \n",
       "\n",
       "[8034 rows x 11 columns]"
      ]
     },
     "execution_count": 16,
     "metadata": {},
     "output_type": "execute_result"
    }
   ],
   "source": [
    "df[(df['amount']==df['oldbalanceOrg']) & (df['isFraud']==1)]"
   ]
  },
  {
   "cell_type": "markdown",
   "id": "7bdc7c62-e7f6-42e3-82fc-7de3ec05aa5d",
   "metadata": {},
   "source": [
    "## DATA PREPROCESSING"
   ]
  },
  {
   "cell_type": "code",
   "execution_count": 17,
   "id": "f463cac7-30fb-48c2-9766-4119e35c07f9",
   "metadata": {},
   "outputs": [
    {
     "data": {
      "text/plain": [
       "step              0\n",
       "type              0\n",
       "amount            0\n",
       "nameOrig          0\n",
       "oldbalanceOrg     0\n",
       "newbalanceOrig    0\n",
       "nameDest          0\n",
       "oldbalanceDest    0\n",
       "newbalanceDest    0\n",
       "isFraud           0\n",
       "isFlaggedFraud    0\n",
       "dtype: int64"
      ]
     },
     "execution_count": 17,
     "metadata": {},
     "output_type": "execute_result"
    }
   ],
   "source": [
    "df.isnull().sum()"
   ]
  },
  {
   "cell_type": "code",
   "execution_count": 18,
   "id": "e3441a8f-31a5-4650-a1ed-e5d5095c7d6d",
   "metadata": {},
   "outputs": [
    {
     "data": {
      "text/html": [
       "<div>\n",
       "<style scoped>\n",
       "    .dataframe tbody tr th:only-of-type {\n",
       "        vertical-align: middle;\n",
       "    }\n",
       "\n",
       "    .dataframe tbody tr th {\n",
       "        vertical-align: top;\n",
       "    }\n",
       "\n",
       "    .dataframe thead th {\n",
       "        text-align: right;\n",
       "    }\n",
       "</style>\n",
       "<table border=\"1\" class=\"dataframe\">\n",
       "  <thead>\n",
       "    <tr style=\"text-align: right;\">\n",
       "      <th></th>\n",
       "      <th>step</th>\n",
       "      <th>type</th>\n",
       "      <th>amount</th>\n",
       "      <th>nameOrig</th>\n",
       "      <th>oldbalanceOrg</th>\n",
       "      <th>newbalanceOrig</th>\n",
       "      <th>nameDest</th>\n",
       "      <th>oldbalanceDest</th>\n",
       "      <th>newbalanceDest</th>\n",
       "      <th>isFraud</th>\n",
       "      <th>isFlaggedFraud</th>\n",
       "    </tr>\n",
       "  </thead>\n",
       "  <tbody>\n",
       "  </tbody>\n",
       "</table>\n",
       "</div>"
      ],
      "text/plain": [
       "Empty DataFrame\n",
       "Columns: [step, type, amount, nameOrig, oldbalanceOrg, newbalanceOrig, nameDest, oldbalanceDest, newbalanceDest, isFraud, isFlaggedFraud]\n",
       "Index: []"
      ]
     },
     "execution_count": 18,
     "metadata": {},
     "output_type": "execute_result"
    }
   ],
   "source": [
    "df[df.duplicated()]"
   ]
  },
  {
   "cell_type": "code",
   "execution_count": 19,
   "id": "54e4aa61-7ff7-4e87-8bb0-b98d19b23f56",
   "metadata": {},
   "outputs": [
    {
     "data": {
      "text/plain": [
       "0"
      ]
     },
     "execution_count": 19,
     "metadata": {},
     "output_type": "execute_result"
    }
   ],
   "source": [
    "df.duplicated().sum()"
   ]
  },
  {
   "cell_type": "code",
   "execution_count": 20,
   "id": "61d8a4ba-4512-421a-932c-b7fe13af1944",
   "metadata": {},
   "outputs": [
    {
     "data": {
      "text/plain": [
       "isFraud\n",
       "0    6354407\n",
       "1       8213\n",
       "Name: count, dtype: int64"
      ]
     },
     "execution_count": 20,
     "metadata": {},
     "output_type": "execute_result"
    }
   ],
   "source": [
    "df['isFraud'].value_counts()"
   ]
  },
  {
   "cell_type": "markdown",
   "id": "ae08b449-5f0d-40a6-a329-f2dc51f10d65",
   "metadata": {},
   "source": [
    "## EXPLORATORY DATA ANALYSIS (EDA)"
   ]
  },
  {
   "cell_type": "code",
   "execution_count": 21,
   "id": "890e509e-a3fb-46e6-9e6d-2936637c96cb",
   "metadata": {},
   "outputs": [
    {
     "data": {
      "text/plain": [
       "Index(['step', 'type', 'amount', 'nameOrig', 'oldbalanceOrg', 'newbalanceOrig',\n",
       "       'nameDest', 'oldbalanceDest', 'newbalanceDest', 'isFraud',\n",
       "       'isFlaggedFraud'],\n",
       "      dtype='object')"
      ]
     },
     "execution_count": 21,
     "metadata": {},
     "output_type": "execute_result"
    }
   ],
   "source": [
    "df.columns"
   ]
  },
  {
   "cell_type": "code",
   "execution_count": 22,
   "id": "a5ccff84-06b2-41d7-8c5c-5946769aeedb",
   "metadata": {},
   "outputs": [
    {
     "name": "stderr",
     "output_type": "stream",
     "text": [
      "C:\\ProgramData\\anaconda3\\Lib\\site-packages\\seaborn\\_oldcore.py:1119: FutureWarning: use_inf_as_na option is deprecated and will be removed in a future version. Convert inf values to NaN before operating instead.\n",
      "  with pd.option_context('mode.use_inf_as_na', True):\n"
     ]
    },
    {
     "data": {
      "image/png": "[encoded data removed]",
      "text/plain": [
       "<Figure size 640x480 with 1 Axes>"
      ]
     },
     "metadata": {},
     "output_type": "display_data"
    }
   ],
   "source": [
    "sns.histplot(x='step', data=df,hue='isFraud');"
   ]
  },
  {
   "cell_type": "code",
   "execution_count": 23,
   "id": "7d554711-339d-4e89-96c8-150d45c3a1de",
   "metadata": {},
   "outputs": [
    {
     "name": "stderr",
     "output_type": "stream",
     "text": [
      "C:\\ProgramData\\anaconda3\\Lib\\site-packages\\seaborn\\_oldcore.py:1119: FutureWarning: use_inf_as_na option is deprecated and will be removed in a future version. Convert inf values to NaN before operating instead.\n",
      "  with pd.option_context('mode.use_inf_as_na', True):\n"
     ]
    },
    {
     "data": {
      "text/plain": [
       "<Axes: xlabel='amount'>"
      ]
     },
     "execution_count": 23,
     "metadata": {},
     "output_type": "execute_result"
    },
    {
     "data": {
      "image/png": "[encoded data removed]",
      "text/plain": [
       "<Figure size 640x480 with 1 Axes>"
      ]
     },
     "metadata": {},
     "output_type": "display_data"
    }
   ],
   "source": [
    "sns.rugplot(x='amount', data=df, height=.08, color='darkblue')"
   ]
  },
  {
   "cell_type": "code",
   "execution_count": 24,
   "id": "ecab4b65-c09b-4497-885b-1effd88d9070",
   "metadata": {},
   "outputs": [
    {
     "data": {
      "text/plain": [
       "isFraud\n",
       "0    6354407\n",
       "1       8213\n",
       "Name: count, dtype: int64"
      ]
     },
     "execution_count": 24,
     "metadata": {},
     "output_type": "execute_result"
    }
   ],
   "source": [
    "df['isFraud'].value_counts()"
   ]
  },
  {
   "cell_type": "code",
   "execution_count": 25,
   "id": "10c29e9e-abe3-4071-b2d0-9f0ca5bdb825",
   "metadata": {},
   "outputs": [
    {
     "data": {
      "image/png": "[encoded data removed]",
      "text/plain": [
       "<Figure size 640x480 with 1 Axes>"
      ]
     },
     "metadata": {},
     "output_type": "display_data"
    }
   ],
   "source": [
    "sns.countplot(x=df['isFraud'])\n",
    "plt.title(\"un-balanced Dataset\")\n",
    "plt.show()"
   ]
  },
  {
   "cell_type": "code",
   "execution_count": 26,
   "id": "633bee57-97d6-4821-9c79-9f97868077a5",
   "metadata": {},
   "outputs": [
    {
     "data": {
      "text/plain": [
       "type\n",
       "CASH_OUT    2237500\n",
       "PAYMENT     2151495\n",
       "CASH_IN     1399284\n",
       "TRANSFER     532909\n",
       "DEBIT         41432\n",
       "Name: count, dtype: int64"
      ]
     },
     "execution_count": 26,
     "metadata": {},
     "output_type": "execute_result"
    }
   ],
   "source": [
    "df['type'].value_counts()"
   ]
  },
  {
   "cell_type": "code",
   "execution_count": 27,
   "id": "747bf90c-2976-4455-b546-0519650b83ef",
   "metadata": {},
   "outputs": [
    {
     "name": "stderr",
     "output_type": "stream",
     "text": [
      "C:\\ProgramData\\anaconda3\\Lib\\site-packages\\seaborn\\_oldcore.py:1119: FutureWarning: use_inf_as_na option is deprecated and will be removed in a future version. Convert inf values to NaN before operating instead.\n",
      "  with pd.option_context('mode.use_inf_as_na', True):\n",
      "C:\\ProgramData\\anaconda3\\Lib\\site-packages\\seaborn\\_oldcore.py:1119: FutureWarning: use_inf_as_na option is deprecated and will be removed in a future version. Convert inf values to NaN before operating instead.\n",
      "  with pd.option_context('mode.use_inf_as_na', True):\n"
     ]
    },
    {
     "data": {
      "text/plain": [
       "<seaborn.axisgrid.FacetGrid at 0x25572bac2d0>"
      ]
     },
     "execution_count": 27,
     "metadata": {},
     "output_type": "execute_result"
    },
    {
     "data": {
      "image/png": "[encoded data removed]",
      "text/plain": [
       "<Figure size 500x500 with 1 Axes>"
      ]
     },
     "metadata": {},
     "output_type": "display_data"
    }
   ],
   "source": [
    "sns.catplot(data=df, x=\"type\", y=\"isFraud\")"
   ]
  },
  {
   "cell_type": "markdown",
   "id": "1017bc9d-53fa-418d-bbad-79b2a66dfd45",
   "metadata": {},
   "source": [
    "Most of the Fraud transactions are performed on \"TRANSFER\" and \"CASH_OUT\" type."
   ]
  },
  {
   "cell_type": "code",
   "execution_count": 28,
   "id": "6d27882a-fc1e-46c9-81ab-6454d40fb4ad",
   "metadata": {},
   "outputs": [
    {
     "data": {
      "text/html": [
       "<div>\n",
       "<style scoped>\n",
       "    .dataframe tbody tr th:only-of-type {\n",
       "        vertical-align: middle;\n",
       "    }\n",
       "\n",
       "    .dataframe tbody tr th {\n",
       "        vertical-align: top;\n",
       "    }\n",
       "\n",
       "    .dataframe thead th {\n",
       "        text-align: right;\n",
       "    }\n",
       "</style>\n",
       "<table border=\"1\" class=\"dataframe\">\n",
       "  <thead>\n",
       "    <tr style=\"text-align: right;\">\n",
       "      <th></th>\n",
       "      <th>step</th>\n",
       "      <th>type</th>\n",
       "      <th>amount</th>\n",
       "      <th>nameOrig</th>\n",
       "      <th>oldbalanceOrg</th>\n",
       "      <th>newbalanceOrig</th>\n",
       "      <th>nameDest</th>\n",
       "      <th>oldbalanceDest</th>\n",
       "      <th>newbalanceDest</th>\n",
       "      <th>isFraud</th>\n",
       "      <th>isFlaggedFraud</th>\n",
       "    </tr>\n",
       "  </thead>\n",
       "  <tbody>\n",
       "    <tr>\n",
       "      <th>3</th>\n",
       "      <td>1</td>\n",
       "      <td>CASH_OUT</td>\n",
       "      <td>181.0000</td>\n",
       "      <td>C840083671</td>\n",
       "      <td>181.0000</td>\n",
       "      <td>0.0000</td>\n",
       "      <td>C38997010</td>\n",
       "      <td>21182.0000</td>\n",
       "      <td>0.0000</td>\n",
       "      <td>1</td>\n",
       "      <td>0</td>\n",
       "    </tr>\n",
       "    <tr>\n",
       "      <th>252</th>\n",
       "      <td>1</td>\n",
       "      <td>CASH_OUT</td>\n",
       "      <td>2806.0000</td>\n",
       "      <td>C2101527076</td>\n",
       "      <td>2806.0000</td>\n",
       "      <td>0.0000</td>\n",
       "      <td>C1007251739</td>\n",
       "      <td>26202.0000</td>\n",
       "      <td>0.0000</td>\n",
       "      <td>1</td>\n",
       "      <td>0</td>\n",
       "    </tr>\n",
       "    <tr>\n",
       "      <th>681</th>\n",
       "      <td>1</td>\n",
       "      <td>CASH_OUT</td>\n",
       "      <td>20128.0000</td>\n",
       "      <td>C1118430673</td>\n",
       "      <td>20128.0000</td>\n",
       "      <td>0.0000</td>\n",
       "      <td>C339924917</td>\n",
       "      <td>6268.0000</td>\n",
       "      <td>12145.8500</td>\n",
       "      <td>1</td>\n",
       "      <td>0</td>\n",
       "    </tr>\n",
       "    <tr>\n",
       "      <th>724</th>\n",
       "      <td>1</td>\n",
       "      <td>CASH_OUT</td>\n",
       "      <td>416001.3300</td>\n",
       "      <td>C749981943</td>\n",
       "      <td>0.0000</td>\n",
       "      <td>0.0000</td>\n",
       "      <td>C667346055</td>\n",
       "      <td>102.0000</td>\n",
       "      <td>9291619.6200</td>\n",
       "      <td>1</td>\n",
       "      <td>0</td>\n",
       "    </tr>\n",
       "    <tr>\n",
       "      <th>970</th>\n",
       "      <td>1</td>\n",
       "      <td>CASH_OUT</td>\n",
       "      <td>1277212.7700</td>\n",
       "      <td>C467632528</td>\n",
       "      <td>1277212.7700</td>\n",
       "      <td>0.0000</td>\n",
       "      <td>C716083600</td>\n",
       "      <td>0.0000</td>\n",
       "      <td>2444985.1900</td>\n",
       "      <td>1</td>\n",
       "      <td>0</td>\n",
       "    </tr>\n",
       "    <tr>\n",
       "      <th>...</th>\n",
       "      <td>...</td>\n",
       "      <td>...</td>\n",
       "      <td>...</td>\n",
       "      <td>...</td>\n",
       "      <td>...</td>\n",
       "      <td>...</td>\n",
       "      <td>...</td>\n",
       "      <td>...</td>\n",
       "      <td>...</td>\n",
       "      <td>...</td>\n",
       "      <td>...</td>\n",
       "    </tr>\n",
       "    <tr>\n",
       "      <th>6362611</th>\n",
       "      <td>742</td>\n",
       "      <td>CASH_OUT</td>\n",
       "      <td>63416.9900</td>\n",
       "      <td>C994950684</td>\n",
       "      <td>63416.9900</td>\n",
       "      <td>0.0000</td>\n",
       "      <td>C1662241365</td>\n",
       "      <td>276433.1800</td>\n",
       "      <td>339850.1700</td>\n",
       "      <td>1</td>\n",
       "      <td>0</td>\n",
       "    </tr>\n",
       "    <tr>\n",
       "      <th>6362613</th>\n",
       "      <td>743</td>\n",
       "      <td>CASH_OUT</td>\n",
       "      <td>1258818.8200</td>\n",
       "      <td>C1436118706</td>\n",
       "      <td>1258818.8200</td>\n",
       "      <td>0.0000</td>\n",
       "      <td>C1240760502</td>\n",
       "      <td>503464.5000</td>\n",
       "      <td>1762283.3300</td>\n",
       "      <td>1</td>\n",
       "      <td>0</td>\n",
       "    </tr>\n",
       "    <tr>\n",
       "      <th>6362615</th>\n",
       "      <td>743</td>\n",
       "      <td>CASH_OUT</td>\n",
       "      <td>339682.1300</td>\n",
       "      <td>C786484425</td>\n",
       "      <td>339682.1300</td>\n",
       "      <td>0.0000</td>\n",
       "      <td>C776919290</td>\n",
       "      <td>0.0000</td>\n",
       "      <td>339682.1300</td>\n",
       "      <td>1</td>\n",
       "      <td>0</td>\n",
       "    </tr>\n",
       "    <tr>\n",
       "      <th>6362617</th>\n",
       "      <td>743</td>\n",
       "      <td>CASH_OUT</td>\n",
       "      <td>6311409.2800</td>\n",
       "      <td>C1162922333</td>\n",
       "      <td>6311409.2800</td>\n",
       "      <td>0.0000</td>\n",
       "      <td>C1365125890</td>\n",
       "      <td>68488.8400</td>\n",
       "      <td>6379898.1100</td>\n",
       "      <td>1</td>\n",
       "      <td>0</td>\n",
       "    </tr>\n",
       "    <tr>\n",
       "      <th>6362619</th>\n",
       "      <td>743</td>\n",
       "      <td>CASH_OUT</td>\n",
       "      <td>850002.5200</td>\n",
       "      <td>C1280323807</td>\n",
       "      <td>850002.5200</td>\n",
       "      <td>0.0000</td>\n",
       "      <td>C873221189</td>\n",
       "      <td>6510099.1100</td>\n",
       "      <td>7360101.6300</td>\n",
       "      <td>1</td>\n",
       "      <td>0</td>\n",
       "    </tr>\n",
       "  </tbody>\n",
       "</table>\n",
       "<p>4116 rows × 11 columns</p>\n",
       "</div>"
      ],
      "text/plain": [
       "         step      type       amount     nameOrig  oldbalanceOrg  \\\n",
       "3           1  CASH_OUT     181.0000   C840083671       181.0000   \n",
       "252         1  CASH_OUT    2806.0000  C2101527076      2806.0000   \n",
       "681         1  CASH_OUT   20128.0000  C1118430673     20128.0000   \n",
       "724         1  CASH_OUT  416001.3300   C749981943         0.0000   \n",
       "970         1  CASH_OUT 1277212.7700   C467632528   1277212.7700   \n",
       "...       ...       ...          ...          ...            ...   \n",
       "6362611   742  CASH_OUT   63416.9900   C994950684     63416.9900   \n",
       "6362613   743  CASH_OUT 1258818.8200  C1436118706   1258818.8200   \n",
       "6362615   743  CASH_OUT  339682.1300   C786484425    339682.1300   \n",
       "6362617   743  CASH_OUT 6311409.2800  C1162922333   6311409.2800   \n",
       "6362619   743  CASH_OUT  850002.5200  C1280323807    850002.5200   \n",
       "\n",
       "         newbalanceOrig     nameDest  oldbalanceDest  newbalanceDest  isFraud  \\\n",
       "3                0.0000    C38997010      21182.0000          0.0000        1   \n",
       "252              0.0000  C1007251739      26202.0000          0.0000        1   \n",
       "681              0.0000   C339924917       6268.0000      12145.8500        1   \n",
       "724              0.0000   C667346055        102.0000    9291619.6200        1   \n",
       "970              0.0000   C716083600          0.0000    2444985.1900        1   \n",
       "...                 ...          ...             ...             ...      ...   \n",
       "6362611          0.0000  C1662241365     276433.1800     339850.1700        1   \n",
       "6362613          0.0000  C1240760502     503464.5000    1762283.3300        1   \n",
       "6362615          0.0000   C776919290          0.0000     339682.1300        1   \n",
       "6362617          0.0000  C1365125890      68488.8400    6379898.1100        1   \n",
       "6362619          0.0000   C873221189    6510099.1100    7360101.6300        1   \n",
       "\n",
       "         isFlaggedFraud  \n",
       "3                     0  \n",
       "252                   0  \n",
       "681                   0  \n",
       "724                   0  \n",
       "970                   0  \n",
       "...                 ...  \n",
       "6362611               0  \n",
       "6362613               0  \n",
       "6362615               0  \n",
       "6362617               0  \n",
       "6362619               0  \n",
       "\n",
       "[4116 rows x 11 columns]"
      ]
     },
     "execution_count": 28,
     "metadata": {},
     "output_type": "execute_result"
    }
   ],
   "source": [
    "df.loc[(df['type']==\"CASH_OUT\") & (df['isFraud']==1)]"
   ]
  },
  {
   "cell_type": "code",
   "execution_count": 29,
   "id": "2eb817d3-7b90-47fa-8113-b66b90de9005",
   "metadata": {},
   "outputs": [
    {
     "data": {
      "text/html": [
       "<div>\n",
       "<style scoped>\n",
       "    .dataframe tbody tr th:only-of-type {\n",
       "        vertical-align: middle;\n",
       "    }\n",
       "\n",
       "    .dataframe tbody tr th {\n",
       "        vertical-align: top;\n",
       "    }\n",
       "\n",
       "    .dataframe thead th {\n",
       "        text-align: right;\n",
       "    }\n",
       "</style>\n",
       "<table border=\"1\" class=\"dataframe\">\n",
       "  <thead>\n",
       "    <tr style=\"text-align: right;\">\n",
       "      <th></th>\n",
       "      <th>step</th>\n",
       "      <th>type</th>\n",
       "      <th>amount</th>\n",
       "      <th>nameOrig</th>\n",
       "      <th>oldbalanceOrg</th>\n",
       "      <th>newbalanceOrig</th>\n",
       "      <th>nameDest</th>\n",
       "      <th>oldbalanceDest</th>\n",
       "      <th>newbalanceDest</th>\n",
       "      <th>isFraud</th>\n",
       "      <th>isFlaggedFraud</th>\n",
       "    </tr>\n",
       "  </thead>\n",
       "  <tbody>\n",
       "    <tr>\n",
       "      <th>2</th>\n",
       "      <td>1</td>\n",
       "      <td>TRANSFER</td>\n",
       "      <td>181.0000</td>\n",
       "      <td>C1305486145</td>\n",
       "      <td>181.0000</td>\n",
       "      <td>0.0000</td>\n",
       "      <td>C553264065</td>\n",
       "      <td>0.0000</td>\n",
       "      <td>0.0000</td>\n",
       "      <td>1</td>\n",
       "      <td>0</td>\n",
       "    </tr>\n",
       "    <tr>\n",
       "      <th>251</th>\n",
       "      <td>1</td>\n",
       "      <td>TRANSFER</td>\n",
       "      <td>2806.0000</td>\n",
       "      <td>C1420196421</td>\n",
       "      <td>2806.0000</td>\n",
       "      <td>0.0000</td>\n",
       "      <td>C972765878</td>\n",
       "      <td>0.0000</td>\n",
       "      <td>0.0000</td>\n",
       "      <td>1</td>\n",
       "      <td>0</td>\n",
       "    </tr>\n",
       "    <tr>\n",
       "      <th>680</th>\n",
       "      <td>1</td>\n",
       "      <td>TRANSFER</td>\n",
       "      <td>20128.0000</td>\n",
       "      <td>C137533655</td>\n",
       "      <td>20128.0000</td>\n",
       "      <td>0.0000</td>\n",
       "      <td>C1848415041</td>\n",
       "      <td>0.0000</td>\n",
       "      <td>0.0000</td>\n",
       "      <td>1</td>\n",
       "      <td>0</td>\n",
       "    </tr>\n",
       "    <tr>\n",
       "      <th>969</th>\n",
       "      <td>1</td>\n",
       "      <td>TRANSFER</td>\n",
       "      <td>1277212.7700</td>\n",
       "      <td>C1334405552</td>\n",
       "      <td>1277212.7700</td>\n",
       "      <td>0.0000</td>\n",
       "      <td>C431687661</td>\n",
       "      <td>0.0000</td>\n",
       "      <td>0.0000</td>\n",
       "      <td>1</td>\n",
       "      <td>0</td>\n",
       "    </tr>\n",
       "    <tr>\n",
       "      <th>1115</th>\n",
       "      <td>1</td>\n",
       "      <td>TRANSFER</td>\n",
       "      <td>35063.6300</td>\n",
       "      <td>C1364127192</td>\n",
       "      <td>35063.6300</td>\n",
       "      <td>0.0000</td>\n",
       "      <td>C1136419747</td>\n",
       "      <td>0.0000</td>\n",
       "      <td>0.0000</td>\n",
       "      <td>1</td>\n",
       "      <td>0</td>\n",
       "    </tr>\n",
       "    <tr>\n",
       "      <th>...</th>\n",
       "      <td>...</td>\n",
       "      <td>...</td>\n",
       "      <td>...</td>\n",
       "      <td>...</td>\n",
       "      <td>...</td>\n",
       "      <td>...</td>\n",
       "      <td>...</td>\n",
       "      <td>...</td>\n",
       "      <td>...</td>\n",
       "      <td>...</td>\n",
       "      <td>...</td>\n",
       "    </tr>\n",
       "    <tr>\n",
       "      <th>6362610</th>\n",
       "      <td>742</td>\n",
       "      <td>TRANSFER</td>\n",
       "      <td>63416.9900</td>\n",
       "      <td>C778071008</td>\n",
       "      <td>63416.9900</td>\n",
       "      <td>0.0000</td>\n",
       "      <td>C1812552860</td>\n",
       "      <td>0.0000</td>\n",
       "      <td>0.0000</td>\n",
       "      <td>1</td>\n",
       "      <td>0</td>\n",
       "    </tr>\n",
       "    <tr>\n",
       "      <th>6362612</th>\n",
       "      <td>743</td>\n",
       "      <td>TRANSFER</td>\n",
       "      <td>1258818.8200</td>\n",
       "      <td>C1531301470</td>\n",
       "      <td>1258818.8200</td>\n",
       "      <td>0.0000</td>\n",
       "      <td>C1470998563</td>\n",
       "      <td>0.0000</td>\n",
       "      <td>0.0000</td>\n",
       "      <td>1</td>\n",
       "      <td>0</td>\n",
       "    </tr>\n",
       "    <tr>\n",
       "      <th>6362614</th>\n",
       "      <td>743</td>\n",
       "      <td>TRANSFER</td>\n",
       "      <td>339682.1300</td>\n",
       "      <td>C2013999242</td>\n",
       "      <td>339682.1300</td>\n",
       "      <td>0.0000</td>\n",
       "      <td>C1850423904</td>\n",
       "      <td>0.0000</td>\n",
       "      <td>0.0000</td>\n",
       "      <td>1</td>\n",
       "      <td>0</td>\n",
       "    </tr>\n",
       "    <tr>\n",
       "      <th>6362616</th>\n",
       "      <td>743</td>\n",
       "      <td>TRANSFER</td>\n",
       "      <td>6311409.2800</td>\n",
       "      <td>C1529008245</td>\n",
       "      <td>6311409.2800</td>\n",
       "      <td>0.0000</td>\n",
       "      <td>C1881841831</td>\n",
       "      <td>0.0000</td>\n",
       "      <td>0.0000</td>\n",
       "      <td>1</td>\n",
       "      <td>0</td>\n",
       "    </tr>\n",
       "    <tr>\n",
       "      <th>6362618</th>\n",
       "      <td>743</td>\n",
       "      <td>TRANSFER</td>\n",
       "      <td>850002.5200</td>\n",
       "      <td>C1685995037</td>\n",
       "      <td>850002.5200</td>\n",
       "      <td>0.0000</td>\n",
       "      <td>C2080388513</td>\n",
       "      <td>0.0000</td>\n",
       "      <td>0.0000</td>\n",
       "      <td>1</td>\n",
       "      <td>0</td>\n",
       "    </tr>\n",
       "  </tbody>\n",
       "</table>\n",
       "<p>4097 rows × 11 columns</p>\n",
       "</div>"
      ],
      "text/plain": [
       "         step      type       amount     nameOrig  oldbalanceOrg  \\\n",
       "2           1  TRANSFER     181.0000  C1305486145       181.0000   \n",
       "251         1  TRANSFER    2806.0000  C1420196421      2806.0000   \n",
       "680         1  TRANSFER   20128.0000   C137533655     20128.0000   \n",
       "969         1  TRANSFER 1277212.7700  C1334405552   1277212.7700   \n",
       "1115        1  TRANSFER   35063.6300  C1364127192     35063.6300   \n",
       "...       ...       ...          ...          ...            ...   \n",
       "6362610   742  TRANSFER   63416.9900   C778071008     63416.9900   \n",
       "6362612   743  TRANSFER 1258818.8200  C1531301470   1258818.8200   \n",
       "6362614   743  TRANSFER  339682.1300  C2013999242    339682.1300   \n",
       "6362616   743  TRANSFER 6311409.2800  C1529008245   6311409.2800   \n",
       "6362618   743  TRANSFER  850002.5200  C1685995037    850002.5200   \n",
       "\n",
       "         newbalanceOrig     nameDest  oldbalanceDest  newbalanceDest  isFraud  \\\n",
       "2                0.0000   C553264065          0.0000          0.0000        1   \n",
       "251              0.0000   C972765878          0.0000          0.0000        1   \n",
       "680              0.0000  C1848415041          0.0000          0.0000        1   \n",
       "969              0.0000   C431687661          0.0000          0.0000        1   \n",
       "1115             0.0000  C1136419747          0.0000          0.0000        1   \n",
       "...                 ...          ...             ...             ...      ...   \n",
       "6362610          0.0000  C1812552860          0.0000          0.0000        1   \n",
       "6362612          0.0000  C1470998563          0.0000          0.0000        1   \n",
       "6362614          0.0000  C1850423904          0.0000          0.0000        1   \n",
       "6362616          0.0000  C1881841831          0.0000          0.0000        1   \n",
       "6362618          0.0000  C2080388513          0.0000          0.0000        1   \n",
       "\n",
       "         isFlaggedFraud  \n",
       "2                     0  \n",
       "251                   0  \n",
       "680                   0  \n",
       "969                   0  \n",
       "1115                  0  \n",
       "...                 ...  \n",
       "6362610               0  \n",
       "6362612               0  \n",
       "6362614               0  \n",
       "6362616               0  \n",
       "6362618               0  \n",
       "\n",
       "[4097 rows x 11 columns]"
      ]
     },
     "execution_count": 29,
     "metadata": {},
     "output_type": "execute_result"
    }
   ],
   "source": [
    "df.loc[(df['type']==\"TRANSFER\") & (df['isFraud']==1)]"
   ]
  },
  {
   "cell_type": "code",
   "execution_count": 30,
   "id": "a6921323-6817-4b4b-9a3c-f67d1d046781",
   "metadata": {},
   "outputs": [
    {
     "data": {
      "image/png": "[encoded data removed]",
      "text/plain": [
       "<Figure size 640x480 with 1 Axes>"
      ]
     },
     "metadata": {},
     "output_type": "display_data"
    }
   ],
   "source": [
    "# Calculating individal % of each category of 'type' column in our transactions\n",
    "#   using pie chart\n",
    "\n",
    "plt.pie(x = df['type'].value_counts(),\n",
    "       autopct='%.2f',labels=['CASH_OUT','PAYMENT','CASH_IN','TRANSFER','DEBIT'])\n",
    "plt.show()"
   ]
  },
  {
   "cell_type": "markdown",
   "id": "831d2da3-1bdc-4d82-b30a-04c9cc8a7023",
   "metadata": {},
   "source": [
    "Approx. 69% transactions are of type \"CASH_OUT\" and \"PAYMENT\", due to which fraudulent agents targeted these two type."
   ]
  },
  {
   "cell_type": "code",
   "execution_count": 31,
   "id": "503e2de6-fa5b-42f2-92c2-1fb6677b329b",
   "metadata": {},
   "outputs": [
    {
     "data": {
      "image/png": "[encoded data removed]",
      "text/plain": [
       "<Figure size 1000x500 with 1 Axes>"
      ]
     },
     "metadata": {},
     "output_type": "display_data"
    }
   ],
   "source": [
    "fig = plt.figure(figsize=(10,5))\n",
    "sns.boxplot(df)\n",
    "plt.show()"
   ]
  },
  {
   "cell_type": "code",
   "execution_count": 32,
   "id": "7a14925c-923a-4f6a-8207-357fe119fe18",
   "metadata": {},
   "outputs": [
    {
     "name": "stdout",
     "output_type": "stream",
     "text": [
      "upper limit :-  603.5\n",
      "upper limit :-  -112.5\n"
     ]
    }
   ],
   "source": [
    "# using iqr method in \"step\" feature...\n",
    "\n",
    "per25=df['step'].quantile(0.25)\n",
    "per75=df['step'].quantile(0.75)\n",
    "iqr=per75-per25\n",
    "up_limit=per75+(1.5*iqr)\n",
    "low_limit=per25-(1.5*iqr)\n",
    "print(\"upper limit :- \",up_limit)\n",
    "print(\"upper limit :- \",low_limit)"
   ]
  },
  {
   "cell_type": "code",
   "execution_count": 33,
   "id": "1ed8fdc7-d248-4641-a448-ac78988e50f9",
   "metadata": {},
   "outputs": [
    {
     "data": {
      "text/html": [
       "<div>\n",
       "<style scoped>\n",
       "    .dataframe tbody tr th:only-of-type {\n",
       "        vertical-align: middle;\n",
       "    }\n",
       "\n",
       "    .dataframe tbody tr th {\n",
       "        vertical-align: top;\n",
       "    }\n",
       "\n",
       "    .dataframe thead th {\n",
       "        text-align: right;\n",
       "    }\n",
       "</style>\n",
       "<table border=\"1\" class=\"dataframe\">\n",
       "  <thead>\n",
       "    <tr style=\"text-align: right;\">\n",
       "      <th></th>\n",
       "      <th>step</th>\n",
       "      <th>type</th>\n",
       "      <th>amount</th>\n",
       "      <th>nameOrig</th>\n",
       "      <th>oldbalanceOrg</th>\n",
       "      <th>newbalanceOrig</th>\n",
       "      <th>nameDest</th>\n",
       "      <th>oldbalanceDest</th>\n",
       "      <th>newbalanceDest</th>\n",
       "      <th>isFraud</th>\n",
       "      <th>isFlaggedFraud</th>\n",
       "    </tr>\n",
       "  </thead>\n",
       "  <tbody>\n",
       "    <tr>\n",
       "      <th>6259932</th>\n",
       "      <td>604</td>\n",
       "      <td>TRANSFER</td>\n",
       "      <td>714218.4800</td>\n",
       "      <td>C454938739</td>\n",
       "      <td>714218.4800</td>\n",
       "      <td>0.0000</td>\n",
       "      <td>C482986731</td>\n",
       "      <td>0.0000</td>\n",
       "      <td>0.0000</td>\n",
       "      <td>1</td>\n",
       "      <td>0</td>\n",
       "    </tr>\n",
       "    <tr>\n",
       "      <th>6259933</th>\n",
       "      <td>604</td>\n",
       "      <td>CASH_OUT</td>\n",
       "      <td>714218.4800</td>\n",
       "      <td>C1835708623</td>\n",
       "      <td>714218.4800</td>\n",
       "      <td>0.0000</td>\n",
       "      <td>C1881116283</td>\n",
       "      <td>106940.8300</td>\n",
       "      <td>821159.3100</td>\n",
       "      <td>1</td>\n",
       "      <td>0</td>\n",
       "    </tr>\n",
       "    <tr>\n",
       "      <th>6259934</th>\n",
       "      <td>604</td>\n",
       "      <td>TRANSFER</td>\n",
       "      <td>277582.5300</td>\n",
       "      <td>C2144116571</td>\n",
       "      <td>277582.5300</td>\n",
       "      <td>0.0000</td>\n",
       "      <td>C570246252</td>\n",
       "      <td>0.0000</td>\n",
       "      <td>0.0000</td>\n",
       "      <td>1</td>\n",
       "      <td>0</td>\n",
       "    </tr>\n",
       "    <tr>\n",
       "      <th>6259935</th>\n",
       "      <td>604</td>\n",
       "      <td>CASH_OUT</td>\n",
       "      <td>277582.5300</td>\n",
       "      <td>C1512896686</td>\n",
       "      <td>277582.5300</td>\n",
       "      <td>0.0000</td>\n",
       "      <td>C731882373</td>\n",
       "      <td>0.0000</td>\n",
       "      <td>277582.5300</td>\n",
       "      <td>1</td>\n",
       "      <td>0</td>\n",
       "    </tr>\n",
       "    <tr>\n",
       "      <th>6259936</th>\n",
       "      <td>604</td>\n",
       "      <td>TRANSFER</td>\n",
       "      <td>4672401.0400</td>\n",
       "      <td>C801580496</td>\n",
       "      <td>4672401.0400</td>\n",
       "      <td>0.0000</td>\n",
       "      <td>C1917884973</td>\n",
       "      <td>0.0000</td>\n",
       "      <td>0.0000</td>\n",
       "      <td>1</td>\n",
       "      <td>0</td>\n",
       "    </tr>\n",
       "    <tr>\n",
       "      <th>...</th>\n",
       "      <td>...</td>\n",
       "      <td>...</td>\n",
       "      <td>...</td>\n",
       "      <td>...</td>\n",
       "      <td>...</td>\n",
       "      <td>...</td>\n",
       "      <td>...</td>\n",
       "      <td>...</td>\n",
       "      <td>...</td>\n",
       "      <td>...</td>\n",
       "      <td>...</td>\n",
       "    </tr>\n",
       "    <tr>\n",
       "      <th>6362615</th>\n",
       "      <td>743</td>\n",
       "      <td>CASH_OUT</td>\n",
       "      <td>339682.1300</td>\n",
       "      <td>C786484425</td>\n",
       "      <td>339682.1300</td>\n",
       "      <td>0.0000</td>\n",
       "      <td>C776919290</td>\n",
       "      <td>0.0000</td>\n",
       "      <td>339682.1300</td>\n",
       "      <td>1</td>\n",
       "      <td>0</td>\n",
       "    </tr>\n",
       "    <tr>\n",
       "      <th>6362616</th>\n",
       "      <td>743</td>\n",
       "      <td>TRANSFER</td>\n",
       "      <td>6311409.2800</td>\n",
       "      <td>C1529008245</td>\n",
       "      <td>6311409.2800</td>\n",
       "      <td>0.0000</td>\n",
       "      <td>C1881841831</td>\n",
       "      <td>0.0000</td>\n",
       "      <td>0.0000</td>\n",
       "      <td>1</td>\n",
       "      <td>0</td>\n",
       "    </tr>\n",
       "    <tr>\n",
       "      <th>6362617</th>\n",
       "      <td>743</td>\n",
       "      <td>CASH_OUT</td>\n",
       "      <td>6311409.2800</td>\n",
       "      <td>C1162922333</td>\n",
       "      <td>6311409.2800</td>\n",
       "      <td>0.0000</td>\n",
       "      <td>C1365125890</td>\n",
       "      <td>68488.8400</td>\n",
       "      <td>6379898.1100</td>\n",
       "      <td>1</td>\n",
       "      <td>0</td>\n",
       "    </tr>\n",
       "    <tr>\n",
       "      <th>6362618</th>\n",
       "      <td>743</td>\n",
       "      <td>TRANSFER</td>\n",
       "      <td>850002.5200</td>\n",
       "      <td>C1685995037</td>\n",
       "      <td>850002.5200</td>\n",
       "      <td>0.0000</td>\n",
       "      <td>C2080388513</td>\n",
       "      <td>0.0000</td>\n",
       "      <td>0.0000</td>\n",
       "      <td>1</td>\n",
       "      <td>0</td>\n",
       "    </tr>\n",
       "    <tr>\n",
       "      <th>6362619</th>\n",
       "      <td>743</td>\n",
       "      <td>CASH_OUT</td>\n",
       "      <td>850002.5200</td>\n",
       "      <td>C1280323807</td>\n",
       "      <td>850002.5200</td>\n",
       "      <td>0.0000</td>\n",
       "      <td>C873221189</td>\n",
       "      <td>6510099.1100</td>\n",
       "      <td>7360101.6300</td>\n",
       "      <td>1</td>\n",
       "      <td>0</td>\n",
       "    </tr>\n",
       "  </tbody>\n",
       "</table>\n",
       "<p>102688 rows × 11 columns</p>\n",
       "</div>"
      ],
      "text/plain": [
       "         step      type       amount     nameOrig  oldbalanceOrg  \\\n",
       "6259932   604  TRANSFER  714218.4800   C454938739    714218.4800   \n",
       "6259933   604  CASH_OUT  714218.4800  C1835708623    714218.4800   \n",
       "6259934   604  TRANSFER  277582.5300  C2144116571    277582.5300   \n",
       "6259935   604  CASH_OUT  277582.5300  C1512896686    277582.5300   \n",
       "6259936   604  TRANSFER 4672401.0400   C801580496   4672401.0400   \n",
       "...       ...       ...          ...          ...            ...   \n",
       "6362615   743  CASH_OUT  339682.1300   C786484425    339682.1300   \n",
       "6362616   743  TRANSFER 6311409.2800  C1529008245   6311409.2800   \n",
       "6362617   743  CASH_OUT 6311409.2800  C1162922333   6311409.2800   \n",
       "6362618   743  TRANSFER  850002.5200  C1685995037    850002.5200   \n",
       "6362619   743  CASH_OUT  850002.5200  C1280323807    850002.5200   \n",
       "\n",
       "         newbalanceOrig     nameDest  oldbalanceDest  newbalanceDest  isFraud  \\\n",
       "6259932          0.0000   C482986731          0.0000          0.0000        1   \n",
       "6259933          0.0000  C1881116283     106940.8300     821159.3100        1   \n",
       "6259934          0.0000   C570246252          0.0000          0.0000        1   \n",
       "6259935          0.0000   C731882373          0.0000     277582.5300        1   \n",
       "6259936          0.0000  C1917884973          0.0000          0.0000        1   \n",
       "...                 ...          ...             ...             ...      ...   \n",
       "6362615          0.0000   C776919290          0.0000     339682.1300        1   \n",
       "6362616          0.0000  C1881841831          0.0000          0.0000        1   \n",
       "6362617          0.0000  C1365125890      68488.8400    6379898.1100        1   \n",
       "6362618          0.0000  C2080388513          0.0000          0.0000        1   \n",
       "6362619          0.0000   C873221189    6510099.1100    7360101.6300        1   \n",
       "\n",
       "         isFlaggedFraud  \n",
       "6259932               0  \n",
       "6259933               0  \n",
       "6259934               0  \n",
       "6259935               0  \n",
       "6259936               0  \n",
       "...                 ...  \n",
       "6362615               0  \n",
       "6362616               0  \n",
       "6362617               0  \n",
       "6362618               0  \n",
       "6362619               0  \n",
       "\n",
       "[102688 rows x 11 columns]"
      ]
     },
     "execution_count": 33,
     "metadata": {},
     "output_type": "execute_result"
    }
   ],
   "source": [
    "df[df[\"step\"]>603]"
   ]
  },
  {
   "cell_type": "code",
   "execution_count": 34,
   "id": "67f52a6f-f2de-42c0-96fa-1afaa09a937a",
   "metadata": {},
   "outputs": [
    {
     "data": {
      "image/png": "[encoded data removed]",
      "text/plain": [
       "<Figure size 640x480 with 2 Axes>"
      ]
     },
     "metadata": {},
     "output_type": "display_data"
    }
   ],
   "source": [
    "sns.heatmap(df[['step', 'amount', 'oldbalanceOrg', 'newbalanceOrig','oldbalanceDest',\n",
    "                'newbalanceDest', 'isFraud','isFlaggedFraud']].corr(),\n",
    "            annot=True\n",
    "           )\n",
    "plt.show()"
   ]
  },
  {
   "cell_type": "code",
   "execution_count": 35,
   "id": "31b44508-2edb-4bd5-839b-73f126c5c393",
   "metadata": {},
   "outputs": [
    {
     "name": "stdout",
     "output_type": "stream",
     "text": [
      "step              0.0316\n",
      "amount            0.0767\n",
      "oldbalanceOrg     0.0102\n",
      "newbalanceOrig   -0.0081\n",
      "oldbalanceDest   -0.0059\n",
      "newbalanceDest    0.0005\n",
      "isFraud           1.0000\n",
      "isFlaggedFraud    0.0441\n",
      "Name: isFraud, dtype: float64\n"
     ]
    }
   ],
   "source": [
    "# Select only numeric columns\n",
    "numeric_df = df.select_dtypes(include=[float, int])\n",
    "\n",
    "# Compute the correlation with the \"isFraud\" column\n",
    "correlation_with_isFraud = numeric_df.corr()[\"isFraud\"]\n",
    "\n",
    "# Display the correlation values\n",
    "print(correlation_with_isFraud)\n"
   ]
  },
  {
   "cell_type": "markdown",
   "id": "2f2607a7-2a45-421b-93f8-8429d2c61820",
   "metadata": {},
   "source": [
    "## Feature Selection"
   ]
  },
  {
   "cell_type": "code",
   "execution_count": 36,
   "id": "e6dd2aeb-d634-41e7-b9c0-807aeb441f34",
   "metadata": {},
   "outputs": [],
   "source": [
    "# function which returns un_important features ( only numeric ).\n",
    "\n",
    "def correlation(dataset,threshold):\n",
    "    \n",
    "    \"\"\" \n",
    "    used to store un_important column names\n",
    "    and set() type stores only unique values\n",
    "    so, that no duplicated column name will store.\n",
    "    \"\"\"\n",
    "    column_corr=set()\n",
    "    \n",
    "    # storing correlation matrix\n",
    "    corr_matrix=dataset.corr()\n",
    "    \n",
    "    for i in range (len(corr_matrix.columns)):\n",
    "        for j in range (i):\n",
    "            \n",
    "            # comparing corr. values with threshold\n",
    "            if corr_matrix.iloc[i,j]>threshold:\n",
    "                \n",
    "                # if true, then fateching column name\n",
    "                colname=corr_matrix.columns[i]\n",
    "                \n",
    "                # adding column name to column_corr variable.\n",
    "                column_corr.add(colname)\n",
    "    return column_corr"
   ]
  },
  {
   "cell_type": "code",
   "execution_count": 37,
   "id": "40c797ce-337e-470f-8958-8164c5a86cc8",
   "metadata": {},
   "outputs": [
    {
     "name": "stdout",
     "output_type": "stream",
     "text": [
      "['isFraud']\n"
     ]
    }
   ],
   "source": [
    "def correlation(df, threshold=0.9):\n",
    "    # Select only numeric columns\n",
    "    numeric_df = df.select_dtypes(include=[float, int])\n",
    "    \n",
    "    # Compute the correlation matrix\n",
    "    corr_matrix = numeric_df.corr()\n",
    "    \n",
    "    # Identify features with a correlation greater than or equal to the threshold with \"isFraud\"\n",
    "    correlated_features = corr_matrix[\"isFraud\"].abs()[corr_matrix[\"isFraud\"].abs() >= threshold].index.tolist()\n",
    "    \n",
    "    return correlated_features\n",
    "\n",
    "# Call the function with the threshold value of 0.9\n",
    "correlated_features = correlation(df, 0.9)\n",
    "\n",
    "# Display the correlated features\n",
    "print(correlated_features)"
   ]
  },
  {
   "cell_type": "code",
   "execution_count": 38,
   "id": "c5d1d378-c61f-43ab-b81b-f2e1616c53db",
   "metadata": {},
   "outputs": [
    {
     "data": {
      "text/plain": [
       "1"
      ]
     },
     "execution_count": 38,
     "metadata": {},
     "output_type": "execute_result"
    }
   ],
   "source": [
    "# total number of un_important features\n",
    "len(set(correlated_features))\n"
   ]
  },
  {
   "cell_type": "code",
   "execution_count": 39,
   "id": "9a827870-8133-48a4-b8e6-809a2e05a4e2",
   "metadata": {},
   "outputs": [
    {
     "data": {
      "text/plain": [
       "['isFraud']"
      ]
     },
     "execution_count": 39,
     "metadata": {},
     "output_type": "execute_result"
    }
   ],
   "source": [
    "# name of these columns ( independent features)\n",
    "correlated_features"
   ]
  },
  {
   "cell_type": "code",
   "execution_count": 40,
   "id": "b1d2994c-1073-4c05-ba35-2405b4868030",
   "metadata": {},
   "outputs": [],
   "source": [
    "label_column = \"isFraud\"\n",
    "features_to_drop = [feature for feature in correlated_features if feature != label_column]\n",
    "\n",
    "# Drop the correlated features except the label column\n",
    "df = df.drop(features_to_drop, axis=1)"
   ]
  },
  {
   "cell_type": "code",
   "execution_count": 41,
   "id": "346d552e-3587-42a4-b2aa-6c2e45cdf250",
   "metadata": {},
   "outputs": [
    {
     "data": {
      "text/html": [
       "<div>\n",
       "<style scoped>\n",
       "    .dataframe tbody tr th:only-of-type {\n",
       "        vertical-align: middle;\n",
       "    }\n",
       "\n",
       "    .dataframe tbody tr th {\n",
       "        vertical-align: top;\n",
       "    }\n",
       "\n",
       "    .dataframe thead th {\n",
       "        text-align: right;\n",
       "    }\n",
       "</style>\n",
       "<table border=\"1\" class=\"dataframe\">\n",
       "  <thead>\n",
       "    <tr style=\"text-align: right;\">\n",
       "      <th></th>\n",
       "      <th>step</th>\n",
       "      <th>type</th>\n",
       "      <th>amount</th>\n",
       "      <th>nameOrig</th>\n",
       "      <th>oldbalanceOrg</th>\n",
       "      <th>newbalanceOrig</th>\n",
       "      <th>nameDest</th>\n",
       "      <th>oldbalanceDest</th>\n",
       "      <th>newbalanceDest</th>\n",
       "      <th>isFraud</th>\n",
       "      <th>isFlaggedFraud</th>\n",
       "    </tr>\n",
       "  </thead>\n",
       "  <tbody>\n",
       "    <tr>\n",
       "      <th>0</th>\n",
       "      <td>1</td>\n",
       "      <td>PAYMENT</td>\n",
       "      <td>9839.6400</td>\n",
       "      <td>C1231006815</td>\n",
       "      <td>170136.0000</td>\n",
       "      <td>160296.3600</td>\n",
       "      <td>M1979787155</td>\n",
       "      <td>0.0000</td>\n",
       "      <td>0.0000</td>\n",
       "      <td>0</td>\n",
       "      <td>0</td>\n",
       "    </tr>\n",
       "    <tr>\n",
       "      <th>1</th>\n",
       "      <td>1</td>\n",
       "      <td>PAYMENT</td>\n",
       "      <td>1864.2800</td>\n",
       "      <td>C1666544295</td>\n",
       "      <td>21249.0000</td>\n",
       "      <td>19384.7200</td>\n",
       "      <td>M2044282225</td>\n",
       "      <td>0.0000</td>\n",
       "      <td>0.0000</td>\n",
       "      <td>0</td>\n",
       "      <td>0</td>\n",
       "    </tr>\n",
       "    <tr>\n",
       "      <th>2</th>\n",
       "      <td>1</td>\n",
       "      <td>TRANSFER</td>\n",
       "      <td>181.0000</td>\n",
       "      <td>C1305486145</td>\n",
       "      <td>181.0000</td>\n",
       "      <td>0.0000</td>\n",
       "      <td>C553264065</td>\n",
       "      <td>0.0000</td>\n",
       "      <td>0.0000</td>\n",
       "      <td>1</td>\n",
       "      <td>0</td>\n",
       "    </tr>\n",
       "    <tr>\n",
       "      <th>3</th>\n",
       "      <td>1</td>\n",
       "      <td>CASH_OUT</td>\n",
       "      <td>181.0000</td>\n",
       "      <td>C840083671</td>\n",
       "      <td>181.0000</td>\n",
       "      <td>0.0000</td>\n",
       "      <td>C38997010</td>\n",
       "      <td>21182.0000</td>\n",
       "      <td>0.0000</td>\n",
       "      <td>1</td>\n",
       "      <td>0</td>\n",
       "    </tr>\n",
       "    <tr>\n",
       "      <th>4</th>\n",
       "      <td>1</td>\n",
       "      <td>PAYMENT</td>\n",
       "      <td>11668.1400</td>\n",
       "      <td>C2048537720</td>\n",
       "      <td>41554.0000</td>\n",
       "      <td>29885.8600</td>\n",
       "      <td>M1230701703</td>\n",
       "      <td>0.0000</td>\n",
       "      <td>0.0000</td>\n",
       "      <td>0</td>\n",
       "      <td>0</td>\n",
       "    </tr>\n",
       "  </tbody>\n",
       "</table>\n",
       "</div>"
      ],
      "text/plain": [
       "   step      type     amount     nameOrig  oldbalanceOrg  newbalanceOrig  \\\n",
       "0     1   PAYMENT  9839.6400  C1231006815    170136.0000     160296.3600   \n",
       "1     1   PAYMENT  1864.2800  C1666544295     21249.0000      19384.7200   \n",
       "2     1  TRANSFER   181.0000  C1305486145       181.0000          0.0000   \n",
       "3     1  CASH_OUT   181.0000   C840083671       181.0000          0.0000   \n",
       "4     1   PAYMENT 11668.1400  C2048537720     41554.0000      29885.8600   \n",
       "\n",
       "      nameDest  oldbalanceDest  newbalanceDest  isFraud  isFlaggedFraud  \n",
       "0  M1979787155          0.0000          0.0000        0               0  \n",
       "1  M2044282225          0.0000          0.0000        0               0  \n",
       "2   C553264065          0.0000          0.0000        1               0  \n",
       "3    C38997010      21182.0000          0.0000        1               0  \n",
       "4  M1230701703          0.0000          0.0000        0               0  "
      ]
     },
     "execution_count": 41,
     "metadata": {},
     "output_type": "execute_result"
    }
   ],
   "source": [
    "# After removing ...\n",
    "df.head()"
   ]
  },
  {
   "cell_type": "code",
   "execution_count": 42,
   "id": "0b22e8b9-7b4f-44d2-b76f-33ac18a6c212",
   "metadata": {},
   "outputs": [],
   "source": [
    "from sklearn.feature_selection import VarianceThreshold"
   ]
  },
  {
   "cell_type": "code",
   "execution_count": 43,
   "id": "50f49ec4-c09a-4d31-af39-3d986c76c6d0",
   "metadata": {},
   "outputs": [
    {
     "data": {
      "text/plain": [
       "array([ True,  True,  True,  True,  True])"
      ]
     },
     "execution_count": 43,
     "metadata": {},
     "output_type": "execute_result"
    }
   ],
   "source": [
    "\"\"\"\n",
    "threshold=0  means feature having only 1 value ( no variation)\n",
    "threshold=1 means feature having 2 different values ( small variation)\n",
    "etc\n",
    "\"\"\"\n",
    "Var_Thresh=VarianceThreshold(threshold=0)\n",
    "Var_Thresh.fit(df[['step','amount','oldbalanceOrg','oldbalanceDest','isFlaggedFraud']])\n",
    "Var_Thresh.get_support()"
   ]
  },
  {
   "cell_type": "code",
   "execution_count": 44,
   "id": "5b485d92-33ed-44b1-a5ed-4d84dff1a108",
   "metadata": {},
   "outputs": [
    {
     "data": {
      "text/plain": [
       "array([ True,  True,  True,  True, False])"
      ]
     },
     "execution_count": 44,
     "metadata": {},
     "output_type": "execute_result"
    }
   ],
   "source": [
    "# when threshold=1\n",
    "\n",
    "Var_Thresh=VarianceThreshold(threshold=1)\n",
    "Var_Thresh.fit(df[['step','amount','oldbalanceOrg','oldbalanceDest','isFlaggedFraud']])\n",
    "Var_Thresh.get_support()"
   ]
  },
  {
   "cell_type": "code",
   "execution_count": 45,
   "id": "79ef05c0-3782-4dd0-b4ec-8c1c1f50af3e",
   "metadata": {},
   "outputs": [
    {
     "data": {
      "text/plain": [
       "step                int64\n",
       "type               object\n",
       "amount            float64\n",
       "nameOrig           object\n",
       "oldbalanceOrg     float64\n",
       "newbalanceOrig    float64\n",
       "nameDest           object\n",
       "oldbalanceDest    float64\n",
       "newbalanceDest    float64\n",
       "isFraud             int64\n",
       "isFlaggedFraud      int64\n",
       "dtype: object"
      ]
     },
     "execution_count": 45,
     "metadata": {},
     "output_type": "execute_result"
    }
   ],
   "source": [
    "df.dtypes"
   ]
  },
  {
   "cell_type": "code",
   "execution_count": 46,
   "id": "818264d8-48ec-40e2-b68c-a5c9821ba9b6",
   "metadata": {},
   "outputs": [
    {
     "name": "stdout",
     "output_type": "stream",
     "text": [
      " type having these unique values :- \n",
      " ['PAYMENT' 'TRANSFER' 'CASH_OUT' 'DEBIT' 'CASH_IN']\n",
      "\n",
      "\n",
      " nameOrig having these unique values :- \n",
      " ['C1231006815' 'C1666544295' 'C1305486145' ... 'C1162922333' 'C1685995037'\n",
      " 'C1280323807']\n",
      "\n",
      "\n",
      " nameDest having these unique values :- \n",
      " ['M1979787155' 'M2044282225' 'C553264065' ... 'C1850423904' 'C1881841831'\n",
      " 'C2080388513']\n"
     ]
    }
   ],
   "source": [
    "print(\" type having these unique values :- \\n\",df[\"type\"].unique())\n",
    "print(\"\\n\\n nameOrig having these unique values :- \\n\",df[\"nameOrig\"].unique())\n",
    "print(\"\\n\\n nameDest having these unique values :- \\n\",df[\"nameDest\"].unique())"
   ]
  },
  {
   "cell_type": "code",
   "execution_count": 47,
   "id": "c90d84b1-3413-45a8-925e-7bd69a812e84",
   "metadata": {},
   "outputs": [
    {
     "data": {
      "text/plain": [
       "nameOrig\n",
       "C1902386530    3\n",
       "C363736674     3\n",
       "C545315117     3\n",
       "C724452879     3\n",
       "C1784010646    3\n",
       "              ..\n",
       "C98968405      1\n",
       "C720209255     1\n",
       "C1567523029    1\n",
       "C644777639     1\n",
       "C1280323807    1\n",
       "Name: count, Length: 6353307, dtype: int64"
      ]
     },
     "execution_count": 47,
     "metadata": {},
     "output_type": "execute_result"
    }
   ],
   "source": [
    "df['nameOrig'].value_counts()"
   ]
  },
  {
   "cell_type": "code",
   "execution_count": 48,
   "id": "4bf6f8ba-83c5-45ac-9c85-2296aa5be42f",
   "metadata": {},
   "outputs": [
    {
     "data": {
      "text/plain": [
       "nameDest\n",
       "C1286084959    113\n",
       "C985934102     109\n",
       "C665576141     105\n",
       "C2083562754    102\n",
       "C248609774     101\n",
       "              ... \n",
       "M1470027725      1\n",
       "M1330329251      1\n",
       "M1784358659      1\n",
       "M2081431099      1\n",
       "C2080388513      1\n",
       "Name: count, Length: 2722362, dtype: int64"
      ]
     },
     "execution_count": 48,
     "metadata": {},
     "output_type": "execute_result"
    }
   ],
   "source": [
    "df['nameDest'].value_counts()"
   ]
  },
  {
   "cell_type": "code",
   "execution_count": 49,
   "id": "9df2031e-776d-43c1-b976-6af8699ccbe5",
   "metadata": {},
   "outputs": [],
   "source": [
    "df=df.drop({'nameOrig','nameDest'},axis=1)"
   ]
  },
  {
   "cell_type": "code",
   "execution_count": 50,
   "id": "627cfc0a-e322-4f6e-b0ce-6b9d05dddfd6",
   "metadata": {},
   "outputs": [
    {
     "data": {
      "text/html": [
       "<div>\n",
       "<style scoped>\n",
       "    .dataframe tbody tr th:only-of-type {\n",
       "        vertical-align: middle;\n",
       "    }\n",
       "\n",
       "    .dataframe tbody tr th {\n",
       "        vertical-align: top;\n",
       "    }\n",
       "\n",
       "    .dataframe thead th {\n",
       "        text-align: right;\n",
       "    }\n",
       "</style>\n",
       "<table border=\"1\" class=\"dataframe\">\n",
       "  <thead>\n",
       "    <tr style=\"text-align: right;\">\n",
       "      <th></th>\n",
       "      <th>step</th>\n",
       "      <th>type</th>\n",
       "      <th>amount</th>\n",
       "      <th>oldbalanceOrg</th>\n",
       "      <th>newbalanceOrig</th>\n",
       "      <th>oldbalanceDest</th>\n",
       "      <th>newbalanceDest</th>\n",
       "      <th>isFraud</th>\n",
       "      <th>isFlaggedFraud</th>\n",
       "    </tr>\n",
       "  </thead>\n",
       "  <tbody>\n",
       "    <tr>\n",
       "      <th>0</th>\n",
       "      <td>1</td>\n",
       "      <td>PAYMENT</td>\n",
       "      <td>9839.6400</td>\n",
       "      <td>170136.0000</td>\n",
       "      <td>160296.3600</td>\n",
       "      <td>0.0000</td>\n",
       "      <td>0.0000</td>\n",
       "      <td>0</td>\n",
       "      <td>0</td>\n",
       "    </tr>\n",
       "    <tr>\n",
       "      <th>1</th>\n",
       "      <td>1</td>\n",
       "      <td>PAYMENT</td>\n",
       "      <td>1864.2800</td>\n",
       "      <td>21249.0000</td>\n",
       "      <td>19384.7200</td>\n",
       "      <td>0.0000</td>\n",
       "      <td>0.0000</td>\n",
       "      <td>0</td>\n",
       "      <td>0</td>\n",
       "    </tr>\n",
       "    <tr>\n",
       "      <th>2</th>\n",
       "      <td>1</td>\n",
       "      <td>TRANSFER</td>\n",
       "      <td>181.0000</td>\n",
       "      <td>181.0000</td>\n",
       "      <td>0.0000</td>\n",
       "      <td>0.0000</td>\n",
       "      <td>0.0000</td>\n",
       "      <td>1</td>\n",
       "      <td>0</td>\n",
       "    </tr>\n",
       "    <tr>\n",
       "      <th>3</th>\n",
       "      <td>1</td>\n",
       "      <td>CASH_OUT</td>\n",
       "      <td>181.0000</td>\n",
       "      <td>181.0000</td>\n",
       "      <td>0.0000</td>\n",
       "      <td>21182.0000</td>\n",
       "      <td>0.0000</td>\n",
       "      <td>1</td>\n",
       "      <td>0</td>\n",
       "    </tr>\n",
       "    <tr>\n",
       "      <th>4</th>\n",
       "      <td>1</td>\n",
       "      <td>PAYMENT</td>\n",
       "      <td>11668.1400</td>\n",
       "      <td>41554.0000</td>\n",
       "      <td>29885.8600</td>\n",
       "      <td>0.0000</td>\n",
       "      <td>0.0000</td>\n",
       "      <td>0</td>\n",
       "      <td>0</td>\n",
       "    </tr>\n",
       "  </tbody>\n",
       "</table>\n",
       "</div>"
      ],
      "text/plain": [
       "   step      type     amount  oldbalanceOrg  newbalanceOrig  oldbalanceDest  \\\n",
       "0     1   PAYMENT  9839.6400    170136.0000     160296.3600          0.0000   \n",
       "1     1   PAYMENT  1864.2800     21249.0000      19384.7200          0.0000   \n",
       "2     1  TRANSFER   181.0000       181.0000          0.0000          0.0000   \n",
       "3     1  CASH_OUT   181.0000       181.0000          0.0000      21182.0000   \n",
       "4     1   PAYMENT 11668.1400     41554.0000      29885.8600          0.0000   \n",
       "\n",
       "   newbalanceDest  isFraud  isFlaggedFraud  \n",
       "0          0.0000        0               0  \n",
       "1          0.0000        0               0  \n",
       "2          0.0000        1               0  \n",
       "3          0.0000        1               0  \n",
       "4          0.0000        0               0  "
      ]
     },
     "execution_count": 50,
     "metadata": {},
     "output_type": "execute_result"
    }
   ],
   "source": [
    "df.head()"
   ]
  },
  {
   "cell_type": "markdown",
   "id": "dcb0c81e-324b-4cff-a0c1-9368f0fcb075",
   "metadata": {},
   "source": [
    "## FEATURE ENCODING"
   ]
  },
  {
   "cell_type": "code",
   "execution_count": 51,
   "id": "07dea237-ffd0-4026-8b7b-f82eb6441ac6",
   "metadata": {},
   "outputs": [
    {
     "data": {
      "text/plain": [
       "array(['PAYMENT', 'TRANSFER', 'CASH_OUT', 'DEBIT', 'CASH_IN'],\n",
       "      dtype=object)"
      ]
     },
     "execution_count": 51,
     "metadata": {},
     "output_type": "execute_result"
    }
   ],
   "source": [
    "df[\"type\"].unique()"
   ]
  },
  {
   "cell_type": "code",
   "execution_count": 52,
   "id": "15b5f173-69cf-4fe5-a002-740b504bc6ca",
   "metadata": {},
   "outputs": [
    {
     "data": {
      "text/plain": [
       "type\n",
       "CASH_OUT    2237500\n",
       "PAYMENT     2151495\n",
       "CASH_IN     1399284\n",
       "TRANSFER     532909\n",
       "DEBIT         41432\n",
       "Name: count, dtype: int64"
      ]
     },
     "execution_count": 52,
     "metadata": {},
     "output_type": "execute_result"
    }
   ],
   "source": [
    "df[\"type\"].value_counts()"
   ]
  },
  {
   "cell_type": "code",
   "execution_count": 53,
   "id": "b69a6a57-2317-4625-b2a3-55875816fc40",
   "metadata": {},
   "outputs": [],
   "source": [
    "df['type']=df['type'].map({'CASH_OUT':5, 'PAYMENT':4,'CASH_IN':3,'TRANSFER':2,'DEBIT':1})"
   ]
  },
  {
   "cell_type": "code",
   "execution_count": 54,
   "id": "13cba68f-338d-411d-86db-fb039e032ebc",
   "metadata": {},
   "outputs": [
    {
     "data": {
      "text/html": [
       "<div>\n",
       "<style scoped>\n",
       "    .dataframe tbody tr th:only-of-type {\n",
       "        vertical-align: middle;\n",
       "    }\n",
       "\n",
       "    .dataframe tbody tr th {\n",
       "        vertical-align: top;\n",
       "    }\n",
       "\n",
       "    .dataframe thead th {\n",
       "        text-align: right;\n",
       "    }\n",
       "</style>\n",
       "<table border=\"1\" class=\"dataframe\">\n",
       "  <thead>\n",
       "    <tr style=\"text-align: right;\">\n",
       "      <th></th>\n",
       "      <th>step</th>\n",
       "      <th>type</th>\n",
       "      <th>amount</th>\n",
       "      <th>oldbalanceOrg</th>\n",
       "      <th>newbalanceOrig</th>\n",
       "      <th>oldbalanceDest</th>\n",
       "      <th>newbalanceDest</th>\n",
       "      <th>isFraud</th>\n",
       "      <th>isFlaggedFraud</th>\n",
       "    </tr>\n",
       "  </thead>\n",
       "  <tbody>\n",
       "    <tr>\n",
       "      <th>0</th>\n",
       "      <td>1</td>\n",
       "      <td>4</td>\n",
       "      <td>9839.6400</td>\n",
       "      <td>170136.0000</td>\n",
       "      <td>160296.3600</td>\n",
       "      <td>0.0000</td>\n",
       "      <td>0.0000</td>\n",
       "      <td>0</td>\n",
       "      <td>0</td>\n",
       "    </tr>\n",
       "    <tr>\n",
       "      <th>1</th>\n",
       "      <td>1</td>\n",
       "      <td>4</td>\n",
       "      <td>1864.2800</td>\n",
       "      <td>21249.0000</td>\n",
       "      <td>19384.7200</td>\n",
       "      <td>0.0000</td>\n",
       "      <td>0.0000</td>\n",
       "      <td>0</td>\n",
       "      <td>0</td>\n",
       "    </tr>\n",
       "    <tr>\n",
       "      <th>2</th>\n",
       "      <td>1</td>\n",
       "      <td>2</td>\n",
       "      <td>181.0000</td>\n",
       "      <td>181.0000</td>\n",
       "      <td>0.0000</td>\n",
       "      <td>0.0000</td>\n",
       "      <td>0.0000</td>\n",
       "      <td>1</td>\n",
       "      <td>0</td>\n",
       "    </tr>\n",
       "    <tr>\n",
       "      <th>3</th>\n",
       "      <td>1</td>\n",
       "      <td>5</td>\n",
       "      <td>181.0000</td>\n",
       "      <td>181.0000</td>\n",
       "      <td>0.0000</td>\n",
       "      <td>21182.0000</td>\n",
       "      <td>0.0000</td>\n",
       "      <td>1</td>\n",
       "      <td>0</td>\n",
       "    </tr>\n",
       "    <tr>\n",
       "      <th>4</th>\n",
       "      <td>1</td>\n",
       "      <td>4</td>\n",
       "      <td>11668.1400</td>\n",
       "      <td>41554.0000</td>\n",
       "      <td>29885.8600</td>\n",
       "      <td>0.0000</td>\n",
       "      <td>0.0000</td>\n",
       "      <td>0</td>\n",
       "      <td>0</td>\n",
       "    </tr>\n",
       "  </tbody>\n",
       "</table>\n",
       "</div>"
      ],
      "text/plain": [
       "   step  type     amount  oldbalanceOrg  newbalanceOrig  oldbalanceDest  \\\n",
       "0     1     4  9839.6400    170136.0000     160296.3600          0.0000   \n",
       "1     1     4  1864.2800     21249.0000      19384.7200          0.0000   \n",
       "2     1     2   181.0000       181.0000          0.0000          0.0000   \n",
       "3     1     5   181.0000       181.0000          0.0000      21182.0000   \n",
       "4     1     4 11668.1400     41554.0000      29885.8600          0.0000   \n",
       "\n",
       "   newbalanceDest  isFraud  isFlaggedFraud  \n",
       "0          0.0000        0               0  \n",
       "1          0.0000        0               0  \n",
       "2          0.0000        1               0  \n",
       "3          0.0000        1               0  \n",
       "4          0.0000        0               0  "
      ]
     },
     "execution_count": 54,
     "metadata": {},
     "output_type": "execute_result"
    }
   ],
   "source": [
    "df.head()"
   ]
  },
  {
   "cell_type": "code",
   "execution_count": 55,
   "id": "dd1232ae-4a7f-495d-a1c8-9aa0dc64676c",
   "metadata": {},
   "outputs": [
    {
     "data": {
      "text/plain": [
       "array([4, 2, 5, 1, 3], dtype=int64)"
      ]
     },
     "execution_count": 55,
     "metadata": {},
     "output_type": "execute_result"
    }
   ],
   "source": [
    "df[\"type\"].unique()"
   ]
  },
  {
   "cell_type": "code",
   "execution_count": 56,
   "id": "36808c24-f721-40b8-b776-066069cbb05a",
   "metadata": {},
   "outputs": [
    {
     "data": {
      "text/plain": [
       "type\n",
       "5    2237500\n",
       "4    2151495\n",
       "3    1399284\n",
       "2     532909\n",
       "1      41432\n",
       "Name: count, dtype: int64"
      ]
     },
     "execution_count": 56,
     "metadata": {},
     "output_type": "execute_result"
    }
   ],
   "source": [
    "df[\"type\"].value_counts()"
   ]
  },
  {
   "cell_type": "markdown",
   "id": "ade64a27-e0d5-4c99-b524-b27f01e6a196",
   "metadata": {},
   "source": [
    "## Handling Unbalanced Data"
   ]
  },
  {
   "cell_type": "code",
   "execution_count": 57,
   "id": "07aa55a9-84b1-4267-8d81-d1819cf9a657",
   "metadata": {},
   "outputs": [
    {
     "data": {
      "text/plain": [
       "isFraud\n",
       "0    6354407\n",
       "1       8213\n",
       "Name: count, dtype: int64"
      ]
     },
     "execution_count": 57,
     "metadata": {},
     "output_type": "execute_result"
    }
   ],
   "source": [
    "df[\"isFraud\"].value_counts()"
   ]
  },
  {
   "cell_type": "code",
   "execution_count": 58,
   "id": "6b52e577-6a14-4cc8-8f25-e5d4bbea8ee3",
   "metadata": {},
   "outputs": [],
   "source": [
    "\"\"\"\n",
    "Creating 2 new DataFrame ,\n",
    "one contain fraud transaction\n",
    "and another one contain genuine transaction\n",
    "\"\"\"\n",
    "normal_transaction=df[df['isFraud']==0]\n",
    "fraud_transaction=df[df['isFraud']==1]"
   ]
  },
  {
   "cell_type": "code",
   "execution_count": 59,
   "id": "09ab1d70-94ce-4dc0-b08e-894c08f8f9c3",
   "metadata": {},
   "outputs": [
    {
     "data": {
      "text/html": [
       "<div>\n",
       "<style scoped>\n",
       "    .dataframe tbody tr th:only-of-type {\n",
       "        vertical-align: middle;\n",
       "    }\n",
       "\n",
       "    .dataframe tbody tr th {\n",
       "        vertical-align: top;\n",
       "    }\n",
       "\n",
       "    .dataframe thead th {\n",
       "        text-align: right;\n",
       "    }\n",
       "</style>\n",
       "<table border=\"1\" class=\"dataframe\">\n",
       "  <thead>\n",
       "    <tr style=\"text-align: right;\">\n",
       "      <th></th>\n",
       "      <th>step</th>\n",
       "      <th>type</th>\n",
       "      <th>amount</th>\n",
       "      <th>oldbalanceOrg</th>\n",
       "      <th>newbalanceOrig</th>\n",
       "      <th>oldbalanceDest</th>\n",
       "      <th>newbalanceDest</th>\n",
       "      <th>isFraud</th>\n",
       "      <th>isFlaggedFraud</th>\n",
       "    </tr>\n",
       "  </thead>\n",
       "  <tbody>\n",
       "    <tr>\n",
       "      <th>0</th>\n",
       "      <td>1</td>\n",
       "      <td>4</td>\n",
       "      <td>9839.6400</td>\n",
       "      <td>170136.0000</td>\n",
       "      <td>160296.3600</td>\n",
       "      <td>0.0000</td>\n",
       "      <td>0.0000</td>\n",
       "      <td>0</td>\n",
       "      <td>0</td>\n",
       "    </tr>\n",
       "    <tr>\n",
       "      <th>1</th>\n",
       "      <td>1</td>\n",
       "      <td>4</td>\n",
       "      <td>1864.2800</td>\n",
       "      <td>21249.0000</td>\n",
       "      <td>19384.7200</td>\n",
       "      <td>0.0000</td>\n",
       "      <td>0.0000</td>\n",
       "      <td>0</td>\n",
       "      <td>0</td>\n",
       "    </tr>\n",
       "    <tr>\n",
       "      <th>4</th>\n",
       "      <td>1</td>\n",
       "      <td>4</td>\n",
       "      <td>11668.1400</td>\n",
       "      <td>41554.0000</td>\n",
       "      <td>29885.8600</td>\n",
       "      <td>0.0000</td>\n",
       "      <td>0.0000</td>\n",
       "      <td>0</td>\n",
       "      <td>0</td>\n",
       "    </tr>\n",
       "    <tr>\n",
       "      <th>5</th>\n",
       "      <td>1</td>\n",
       "      <td>4</td>\n",
       "      <td>7817.7100</td>\n",
       "      <td>53860.0000</td>\n",
       "      <td>46042.2900</td>\n",
       "      <td>0.0000</td>\n",
       "      <td>0.0000</td>\n",
       "      <td>0</td>\n",
       "      <td>0</td>\n",
       "    </tr>\n",
       "    <tr>\n",
       "      <th>6</th>\n",
       "      <td>1</td>\n",
       "      <td>4</td>\n",
       "      <td>7107.7700</td>\n",
       "      <td>183195.0000</td>\n",
       "      <td>176087.2300</td>\n",
       "      <td>0.0000</td>\n",
       "      <td>0.0000</td>\n",
       "      <td>0</td>\n",
       "      <td>0</td>\n",
       "    </tr>\n",
       "  </tbody>\n",
       "</table>\n",
       "</div>"
      ],
      "text/plain": [
       "   step  type     amount  oldbalanceOrg  newbalanceOrig  oldbalanceDest  \\\n",
       "0     1     4  9839.6400    170136.0000     160296.3600          0.0000   \n",
       "1     1     4  1864.2800     21249.0000      19384.7200          0.0000   \n",
       "4     1     4 11668.1400     41554.0000      29885.8600          0.0000   \n",
       "5     1     4  7817.7100     53860.0000      46042.2900          0.0000   \n",
       "6     1     4  7107.7700    183195.0000     176087.2300          0.0000   \n",
       "\n",
       "   newbalanceDest  isFraud  isFlaggedFraud  \n",
       "0          0.0000        0               0  \n",
       "1          0.0000        0               0  \n",
       "4          0.0000        0               0  \n",
       "5          0.0000        0               0  \n",
       "6          0.0000        0               0  "
      ]
     },
     "execution_count": 59,
     "metadata": {},
     "output_type": "execute_result"
    }
   ],
   "source": [
    "normal_transaction.head()"
   ]
  },
  {
   "cell_type": "code",
   "execution_count": 60,
   "id": "587bc169-c496-44b4-a67c-1b885205061f",
   "metadata": {},
   "outputs": [
    {
     "data": {
      "text/html": [
       "<div>\n",
       "<style scoped>\n",
       "    .dataframe tbody tr th:only-of-type {\n",
       "        vertical-align: middle;\n",
       "    }\n",
       "\n",
       "    .dataframe tbody tr th {\n",
       "        vertical-align: top;\n",
       "    }\n",
       "\n",
       "    .dataframe thead th {\n",
       "        text-align: right;\n",
       "    }\n",
       "</style>\n",
       "<table border=\"1\" class=\"dataframe\">\n",
       "  <thead>\n",
       "    <tr style=\"text-align: right;\">\n",
       "      <th></th>\n",
       "      <th>step</th>\n",
       "      <th>type</th>\n",
       "      <th>amount</th>\n",
       "      <th>oldbalanceOrg</th>\n",
       "      <th>newbalanceOrig</th>\n",
       "      <th>oldbalanceDest</th>\n",
       "      <th>newbalanceDest</th>\n",
       "      <th>isFraud</th>\n",
       "      <th>isFlaggedFraud</th>\n",
       "    </tr>\n",
       "  </thead>\n",
       "  <tbody>\n",
       "    <tr>\n",
       "      <th>2</th>\n",
       "      <td>1</td>\n",
       "      <td>2</td>\n",
       "      <td>181.0000</td>\n",
       "      <td>181.0000</td>\n",
       "      <td>0.0000</td>\n",
       "      <td>0.0000</td>\n",
       "      <td>0.0000</td>\n",
       "      <td>1</td>\n",
       "      <td>0</td>\n",
       "    </tr>\n",
       "    <tr>\n",
       "      <th>3</th>\n",
       "      <td>1</td>\n",
       "      <td>5</td>\n",
       "      <td>181.0000</td>\n",
       "      <td>181.0000</td>\n",
       "      <td>0.0000</td>\n",
       "      <td>21182.0000</td>\n",
       "      <td>0.0000</td>\n",
       "      <td>1</td>\n",
       "      <td>0</td>\n",
       "    </tr>\n",
       "    <tr>\n",
       "      <th>251</th>\n",
       "      <td>1</td>\n",
       "      <td>2</td>\n",
       "      <td>2806.0000</td>\n",
       "      <td>2806.0000</td>\n",
       "      <td>0.0000</td>\n",
       "      <td>0.0000</td>\n",
       "      <td>0.0000</td>\n",
       "      <td>1</td>\n",
       "      <td>0</td>\n",
       "    </tr>\n",
       "    <tr>\n",
       "      <th>252</th>\n",
       "      <td>1</td>\n",
       "      <td>5</td>\n",
       "      <td>2806.0000</td>\n",
       "      <td>2806.0000</td>\n",
       "      <td>0.0000</td>\n",
       "      <td>26202.0000</td>\n",
       "      <td>0.0000</td>\n",
       "      <td>1</td>\n",
       "      <td>0</td>\n",
       "    </tr>\n",
       "    <tr>\n",
       "      <th>680</th>\n",
       "      <td>1</td>\n",
       "      <td>2</td>\n",
       "      <td>20128.0000</td>\n",
       "      <td>20128.0000</td>\n",
       "      <td>0.0000</td>\n",
       "      <td>0.0000</td>\n",
       "      <td>0.0000</td>\n",
       "      <td>1</td>\n",
       "      <td>0</td>\n",
       "    </tr>\n",
       "  </tbody>\n",
       "</table>\n",
       "</div>"
      ],
      "text/plain": [
       "     step  type     amount  oldbalanceOrg  newbalanceOrig  oldbalanceDest  \\\n",
       "2       1     2   181.0000       181.0000          0.0000          0.0000   \n",
       "3       1     5   181.0000       181.0000          0.0000      21182.0000   \n",
       "251     1     2  2806.0000      2806.0000          0.0000          0.0000   \n",
       "252     1     5  2806.0000      2806.0000          0.0000      26202.0000   \n",
       "680     1     2 20128.0000     20128.0000          0.0000          0.0000   \n",
       "\n",
       "     newbalanceDest  isFraud  isFlaggedFraud  \n",
       "2            0.0000        1               0  \n",
       "3            0.0000        1               0  \n",
       "251          0.0000        1               0  \n",
       "252          0.0000        1               0  \n",
       "680          0.0000        1               0  "
      ]
     },
     "execution_count": 60,
     "metadata": {},
     "output_type": "execute_result"
    }
   ],
   "source": [
    "fraud_transaction.head()"
   ]
  },
  {
   "cell_type": "code",
   "execution_count": 61,
   "id": "5268324f-fb56-41bc-b619-0209ac75d201",
   "metadata": {},
   "outputs": [
    {
     "name": "stdout",
     "output_type": "stream",
     "text": [
      "(6354407, 9)\n",
      "(8213, 9)\n"
     ]
    }
   ],
   "source": [
    "print(normal_transaction.shape)\n",
    "print(fraud_transaction.shape)"
   ]
  },
  {
   "cell_type": "code",
   "execution_count": 62,
   "id": "66e3d0f0-a93d-4b88-864a-cfd593c409e4",
   "metadata": {},
   "outputs": [
    {
     "name": "stdout",
     "output_type": "stream",
     "text": [
      "(6354407, 9)\n",
      "(8213, 9)\n"
     ]
    }
   ],
   "source": [
    "\"\"\"\n",
    "Now, we have 50-50% fraud and normal transaction data.\n",
    "next step is to concatenating them\n",
    "\"\"\"\n",
    "print(normal_transaction.shape)\n",
    "print(fraud_transaction.shape)"
   ]
  },
  {
   "cell_type": "code",
   "execution_count": 63,
   "id": "c809da73-ecc0-422f-aa56-ad0e8845f073",
   "metadata": {},
   "outputs": [
    {
     "data": {
      "text/plain": [
       "count    6354407.0000\n",
       "mean      178197.0417\n",
       "std       596236.9813\n",
       "min            0.0100\n",
       "25%        13368.3950\n",
       "50%        74684.7200\n",
       "75%       208364.7600\n",
       "max     92445516.6400\n",
       "Name: amount, dtype: float64"
      ]
     },
     "execution_count": 63,
     "metadata": {},
     "output_type": "execute_result"
    }
   ],
   "source": [
    "normal_transaction['amount'].describe()"
   ]
  },
  {
   "cell_type": "code",
   "execution_count": 64,
   "id": "7da6f2cf-2d7a-423f-b01a-25c945df67b8",
   "metadata": {},
   "outputs": [
    {
     "data": {
      "text/plain": [
       "count       8213.0000\n",
       "mean     1467967.2991\n",
       "std      2404252.9472\n",
       "min            0.0000\n",
       "25%       127091.3300\n",
       "50%       441423.4400\n",
       "75%      1517771.4800\n",
       "max     10000000.0000\n",
       "Name: amount, dtype: float64"
      ]
     },
     "execution_count": 64,
     "metadata": {},
     "output_type": "execute_result"
    }
   ],
   "source": [
    "fraud_transaction['amount'].describe()"
   ]
  },
  {
   "cell_type": "code",
   "execution_count": 65,
   "id": "d2777a06-bb80-4958-8dc5-de930acbff79",
   "metadata": {},
   "outputs": [],
   "source": [
    "# Concatenating these two dataset , to remove un-balanced dataset problem\n",
    "\n",
    "# axis=0 means adding at rows\n",
    "new_df=pd.concat([normal_transaction,fraud_transaction], axis=0)"
   ]
  },
  {
   "cell_type": "code",
   "execution_count": 66,
   "id": "207ee5d7-5be4-452f-a094-8400a7385e5b",
   "metadata": {},
   "outputs": [
    {
     "data": {
      "text/html": [
       "<div>\n",
       "<style scoped>\n",
       "    .dataframe tbody tr th:only-of-type {\n",
       "        vertical-align: middle;\n",
       "    }\n",
       "\n",
       "    .dataframe tbody tr th {\n",
       "        vertical-align: top;\n",
       "    }\n",
       "\n",
       "    .dataframe thead th {\n",
       "        text-align: right;\n",
       "    }\n",
       "</style>\n",
       "<table border=\"1\" class=\"dataframe\">\n",
       "  <thead>\n",
       "    <tr style=\"text-align: right;\">\n",
       "      <th></th>\n",
       "      <th>step</th>\n",
       "      <th>type</th>\n",
       "      <th>amount</th>\n",
       "      <th>oldbalanceOrg</th>\n",
       "      <th>newbalanceOrig</th>\n",
       "      <th>oldbalanceDest</th>\n",
       "      <th>newbalanceDest</th>\n",
       "      <th>isFraud</th>\n",
       "      <th>isFlaggedFraud</th>\n",
       "    </tr>\n",
       "  </thead>\n",
       "  <tbody>\n",
       "    <tr>\n",
       "      <th>0</th>\n",
       "      <td>1</td>\n",
       "      <td>4</td>\n",
       "      <td>9839.6400</td>\n",
       "      <td>170136.0000</td>\n",
       "      <td>160296.3600</td>\n",
       "      <td>0.0000</td>\n",
       "      <td>0.0000</td>\n",
       "      <td>0</td>\n",
       "      <td>0</td>\n",
       "    </tr>\n",
       "    <tr>\n",
       "      <th>1</th>\n",
       "      <td>1</td>\n",
       "      <td>4</td>\n",
       "      <td>1864.2800</td>\n",
       "      <td>21249.0000</td>\n",
       "      <td>19384.7200</td>\n",
       "      <td>0.0000</td>\n",
       "      <td>0.0000</td>\n",
       "      <td>0</td>\n",
       "      <td>0</td>\n",
       "    </tr>\n",
       "    <tr>\n",
       "      <th>4</th>\n",
       "      <td>1</td>\n",
       "      <td>4</td>\n",
       "      <td>11668.1400</td>\n",
       "      <td>41554.0000</td>\n",
       "      <td>29885.8600</td>\n",
       "      <td>0.0000</td>\n",
       "      <td>0.0000</td>\n",
       "      <td>0</td>\n",
       "      <td>0</td>\n",
       "    </tr>\n",
       "    <tr>\n",
       "      <th>5</th>\n",
       "      <td>1</td>\n",
       "      <td>4</td>\n",
       "      <td>7817.7100</td>\n",
       "      <td>53860.0000</td>\n",
       "      <td>46042.2900</td>\n",
       "      <td>0.0000</td>\n",
       "      <td>0.0000</td>\n",
       "      <td>0</td>\n",
       "      <td>0</td>\n",
       "    </tr>\n",
       "    <tr>\n",
       "      <th>6</th>\n",
       "      <td>1</td>\n",
       "      <td>4</td>\n",
       "      <td>7107.7700</td>\n",
       "      <td>183195.0000</td>\n",
       "      <td>176087.2300</td>\n",
       "      <td>0.0000</td>\n",
       "      <td>0.0000</td>\n",
       "      <td>0</td>\n",
       "      <td>0</td>\n",
       "    </tr>\n",
       "  </tbody>\n",
       "</table>\n",
       "</div>"
      ],
      "text/plain": [
       "   step  type     amount  oldbalanceOrg  newbalanceOrig  oldbalanceDest  \\\n",
       "0     1     4  9839.6400    170136.0000     160296.3600          0.0000   \n",
       "1     1     4  1864.2800     21249.0000      19384.7200          0.0000   \n",
       "4     1     4 11668.1400     41554.0000      29885.8600          0.0000   \n",
       "5     1     4  7817.7100     53860.0000      46042.2900          0.0000   \n",
       "6     1     4  7107.7700    183195.0000     176087.2300          0.0000   \n",
       "\n",
       "   newbalanceDest  isFraud  isFlaggedFraud  \n",
       "0          0.0000        0               0  \n",
       "1          0.0000        0               0  \n",
       "4          0.0000        0               0  \n",
       "5          0.0000        0               0  \n",
       "6          0.0000        0               0  "
      ]
     },
     "execution_count": 66,
     "metadata": {},
     "output_type": "execute_result"
    }
   ],
   "source": [
    "new_df.head()"
   ]
  },
  {
   "cell_type": "code",
   "execution_count": 67,
   "id": "2c7e3f3c-c09d-4252-8165-2848faa422e5",
   "metadata": {},
   "outputs": [
    {
     "data": {
      "text/html": [
       "<div>\n",
       "<style scoped>\n",
       "    .dataframe tbody tr th:only-of-type {\n",
       "        vertical-align: middle;\n",
       "    }\n",
       "\n",
       "    .dataframe tbody tr th {\n",
       "        vertical-align: top;\n",
       "    }\n",
       "\n",
       "    .dataframe thead th {\n",
       "        text-align: right;\n",
       "    }\n",
       "</style>\n",
       "<table border=\"1\" class=\"dataframe\">\n",
       "  <thead>\n",
       "    <tr style=\"text-align: right;\">\n",
       "      <th></th>\n",
       "      <th>step</th>\n",
       "      <th>type</th>\n",
       "      <th>amount</th>\n",
       "      <th>oldbalanceOrg</th>\n",
       "      <th>newbalanceOrig</th>\n",
       "      <th>oldbalanceDest</th>\n",
       "      <th>newbalanceDest</th>\n",
       "      <th>isFraud</th>\n",
       "      <th>isFlaggedFraud</th>\n",
       "    </tr>\n",
       "  </thead>\n",
       "  <tbody>\n",
       "    <tr>\n",
       "      <th>6362615</th>\n",
       "      <td>743</td>\n",
       "      <td>5</td>\n",
       "      <td>339682.1300</td>\n",
       "      <td>339682.1300</td>\n",
       "      <td>0.0000</td>\n",
       "      <td>0.0000</td>\n",
       "      <td>339682.1300</td>\n",
       "      <td>1</td>\n",
       "      <td>0</td>\n",
       "    </tr>\n",
       "    <tr>\n",
       "      <th>6362616</th>\n",
       "      <td>743</td>\n",
       "      <td>2</td>\n",
       "      <td>6311409.2800</td>\n",
       "      <td>6311409.2800</td>\n",
       "      <td>0.0000</td>\n",
       "      <td>0.0000</td>\n",
       "      <td>0.0000</td>\n",
       "      <td>1</td>\n",
       "      <td>0</td>\n",
       "    </tr>\n",
       "    <tr>\n",
       "      <th>6362617</th>\n",
       "      <td>743</td>\n",
       "      <td>5</td>\n",
       "      <td>6311409.2800</td>\n",
       "      <td>6311409.2800</td>\n",
       "      <td>0.0000</td>\n",
       "      <td>68488.8400</td>\n",
       "      <td>6379898.1100</td>\n",
       "      <td>1</td>\n",
       "      <td>0</td>\n",
       "    </tr>\n",
       "    <tr>\n",
       "      <th>6362618</th>\n",
       "      <td>743</td>\n",
       "      <td>2</td>\n",
       "      <td>850002.5200</td>\n",
       "      <td>850002.5200</td>\n",
       "      <td>0.0000</td>\n",
       "      <td>0.0000</td>\n",
       "      <td>0.0000</td>\n",
       "      <td>1</td>\n",
       "      <td>0</td>\n",
       "    </tr>\n",
       "    <tr>\n",
       "      <th>6362619</th>\n",
       "      <td>743</td>\n",
       "      <td>5</td>\n",
       "      <td>850002.5200</td>\n",
       "      <td>850002.5200</td>\n",
       "      <td>0.0000</td>\n",
       "      <td>6510099.1100</td>\n",
       "      <td>7360101.6300</td>\n",
       "      <td>1</td>\n",
       "      <td>0</td>\n",
       "    </tr>\n",
       "  </tbody>\n",
       "</table>\n",
       "</div>"
      ],
      "text/plain": [
       "         step  type       amount  oldbalanceOrg  newbalanceOrig  \\\n",
       "6362615   743     5  339682.1300    339682.1300          0.0000   \n",
       "6362616   743     2 6311409.2800   6311409.2800          0.0000   \n",
       "6362617   743     5 6311409.2800   6311409.2800          0.0000   \n",
       "6362618   743     2  850002.5200    850002.5200          0.0000   \n",
       "6362619   743     5  850002.5200    850002.5200          0.0000   \n",
       "\n",
       "         oldbalanceDest  newbalanceDest  isFraud  isFlaggedFraud  \n",
       "6362615          0.0000     339682.1300        1               0  \n",
       "6362616          0.0000          0.0000        1               0  \n",
       "6362617      68488.8400    6379898.1100        1               0  \n",
       "6362618          0.0000          0.0000        1               0  \n",
       "6362619    6510099.1100    7360101.6300        1               0  "
      ]
     },
     "execution_count": 67,
     "metadata": {},
     "output_type": "execute_result"
    }
   ],
   "source": [
    "new_df.tail()"
   ]
  },
  {
   "cell_type": "code",
   "execution_count": 68,
   "id": "9008fe08-6c93-458d-8153-f7f4652df512",
   "metadata": {},
   "outputs": [
    {
     "data": {
      "text/plain": [
       "(6362620, 9)"
      ]
     },
     "execution_count": 68,
     "metadata": {},
     "output_type": "execute_result"
    }
   ],
   "source": [
    "new_df.shape"
   ]
  },
  {
   "cell_type": "markdown",
   "id": "32da5cb0-058b-4d46-8d32-902cac1ff911",
   "metadata": {},
   "source": [
    "## Handling Unbalanced Data"
   ]
  },
  {
   "cell_type": "code",
   "execution_count": 69,
   "id": "852f78f8-bd2b-42cc-a95b-3f68151d266c",
   "metadata": {},
   "outputs": [],
   "source": [
    "# independent features\n",
    "X=new_df.drop(\"isFraud\",axis=1)\n",
    "\n",
    "# dependent feature\n",
    "y=new_df[\"isFraud\"]"
   ]
  },
  {
   "cell_type": "code",
   "execution_count": 70,
   "id": "71782f39-97ca-4c46-be0f-0740ccf2cab1",
   "metadata": {},
   "outputs": [
    {
     "data": {
      "text/plain": [
       "(6362620, 8)"
      ]
     },
     "execution_count": 70,
     "metadata": {},
     "output_type": "execute_result"
    }
   ],
   "source": [
    "X.shape"
   ]
  },
  {
   "cell_type": "code",
   "execution_count": 71,
   "id": "8dd7baa1-a1cf-4af9-b2e6-2d60daa1feef",
   "metadata": {},
   "outputs": [
    {
     "data": {
      "text/plain": [
       "(6362620,)"
      ]
     },
     "execution_count": 71,
     "metadata": {},
     "output_type": "execute_result"
    }
   ],
   "source": [
    "y.shape"
   ]
  },
  {
   "cell_type": "code",
   "execution_count": 72,
   "id": "f494ba44-9f16-4fe3-9acc-9a671049df14",
   "metadata": {},
   "outputs": [],
   "source": [
    "from sklearn.model_selection import train_test_split"
   ]
  },
  {
   "cell_type": "code",
   "execution_count": 73,
   "id": "f1d263e9-4bcf-4a00-90a9-248c1bcb989c",
   "metadata": {},
   "outputs": [],
   "source": [
    "# stratify will evenly distribute the data values\n",
    "\n",
    "x_train,x_test,y_train,y_test=train_test_split(X , y , test_size=0.2, stratify=y , random_state=0)"
   ]
  },
  {
   "cell_type": "code",
   "execution_count": 74,
   "id": "ae4807ed-adc2-4e88-b58a-513d51b33183",
   "metadata": {},
   "outputs": [
    {
     "name": "stdout",
     "output_type": "stream",
     "text": [
      "x-train :-  (5090096, 8)\n",
      "x-test :-   (1272524, 8)\n",
      "y-train :-  (5090096,)\n",
      "y-test :-   (1272524,)\n"
     ]
    }
   ],
   "source": [
    "print(\"x-train :- \", x_train.shape)\n",
    "print(\"x-test :-  \",  x_test.shape)\n",
    "print(\"y-train :- \", y_train.shape)\n",
    "print(\"y-test :-  \",  y_test.shape)"
   ]
  },
  {
   "cell_type": "code",
   "execution_count": 75,
   "id": "d1060079-f1cb-4d27-8dbc-e36407e5ce85",
   "metadata": {},
   "outputs": [
    {
     "data": {
      "text/plain": [
       "isFraud\n",
       "0    1270881\n",
       "1       1643\n",
       "Name: count, dtype: int64"
      ]
     },
     "execution_count": 75,
     "metadata": {},
     "output_type": "execute_result"
    }
   ],
   "source": [
    "y_test.value_counts()"
   ]
  },
  {
   "cell_type": "code",
   "execution_count": 76,
   "id": "95875d1d-24b7-406b-92fe-143d182844d6",
   "metadata": {},
   "outputs": [
    {
     "data": {
      "text/plain": [
       "isFraud\n",
       "0    5083526\n",
       "1       6570\n",
       "Name: count, dtype: int64"
      ]
     },
     "execution_count": 76,
     "metadata": {},
     "output_type": "execute_result"
    }
   ],
   "source": [
    "y_train.value_counts()"
   ]
  },
  {
   "cell_type": "markdown",
   "id": "0224da53-9abd-4ef0-9ca8-1a67770412aa",
   "metadata": {},
   "source": [
    "## Feature Scaling"
   ]
  },
  {
   "cell_type": "code",
   "execution_count": 77,
   "id": "2a34efe2-8f18-4573-be2e-8f0580d2e63d",
   "metadata": {},
   "outputs": [],
   "source": [
    "from sklearn.preprocessing import StandardScaler"
   ]
  },
  {
   "cell_type": "code",
   "execution_count": 78,
   "id": "ec29b20c-0bd7-49a4-9f38-5b0c3149f071",
   "metadata": {},
   "outputs": [],
   "source": [
    "scaler=StandardScaler()"
   ]
  },
  {
   "cell_type": "code",
   "execution_count": 79,
   "id": "4c67229c-b68a-4e3c-b840-7ec5292f6be5",
   "metadata": {},
   "outputs": [
    {
     "data": {
      "text/html": [
       "<style>#sk-container-id-1 {color: black;background-color: white;}#sk-container-id-1 pre{padding: 0;}#sk-container-id-1 div.sk-toggleable {background-color: white;}#sk-container-id-1 label.sk-toggleable__label {cursor: pointer;display: block;width: 100%;margin-bottom: 0;padding: 0.3em;box-sizing: border-box;text-align: center;}#sk-container-id-1 label.sk-toggleable__label-arrow:before {content: \"▸\";float: left;margin-right: 0.25em;color: #696969;}#sk-container-id-1 label.sk-toggleable__label-arrow:hover:before {color: black;}#sk-container-id-1 div.sk-estimator:hover label.sk-toggleable__label-arrow:before {color: black;}#sk-container-id-1 div.sk-toggleable__content {max-height: 0;max-width: 0;overflow: hidden;text-align: left;background-color: #f0f8ff;}#sk-container-id-1 div.sk-toggleable__content pre {margin: 0.2em;color: black;border-radius: 0.25em;background-color: #f0f8ff;}#sk-container-id-1 input.sk-toggleable__control:checked~div.sk-toggleable__content {max-height: 200px;max-width: 100%;overflow: auto;}#sk-container-id-1 input.sk-toggleable__control:checked~label.sk-toggleable__label-arrow:before {content: \"▾\";}#sk-container-id-1 div.sk-estimator input.sk-toggleable__control:checked~label.sk-toggleable__label {background-color: #d4ebff;}#sk-container-id-1 div.sk-label input.sk-toggleable__control:checked~label.sk-toggleable__label {background-color: #d4ebff;}#sk-container-id-1 input.sk-hidden--visually {border: 0;clip: rect(1px 1px 1px 1px);clip: rect(1px, 1px, 1px, 1px);height: 1px;margin: -1px;overflow: hidden;padding: 0;position: absolute;width: 1px;}#sk-container-id-1 div.sk-estimator {font-family: monospace;background-color: #f0f8ff;border: 1px dotted black;border-radius: 0.25em;box-sizing: border-box;margin-bottom: 0.5em;}#sk-container-id-1 div.sk-estimator:hover {background-color: #d4ebff;}#sk-container-id-1 div.sk-parallel-item::after {content: \"\";width: 100%;border-bottom: 1px solid gray;flex-grow: 1;}#sk-container-id-1 div.sk-label:hover label.sk-toggleable__label {background-color: #d4ebff;}#sk-container-id-1 div.sk-serial::before {content: \"\";position: absolute;border-left: 1px solid gray;box-sizing: border-box;top: 0;bottom: 0;left: 50%;z-index: 0;}#sk-container-id-1 div.sk-serial {display: flex;flex-direction: column;align-items: center;background-color: white;padding-right: 0.2em;padding-left: 0.2em;position: relative;}#sk-container-id-1 div.sk-item {position: relative;z-index: 1;}#sk-container-id-1 div.sk-parallel {display: flex;align-items: stretch;justify-content: center;background-color: white;position: relative;}#sk-container-id-1 div.sk-item::before, #sk-container-id-1 div.sk-parallel-item::before {content: \"\";position: absolute;border-left: 1px solid gray;box-sizing: border-box;top: 0;bottom: 0;left: 50%;z-index: -1;}#sk-container-id-1 div.sk-parallel-item {display: flex;flex-direction: column;z-index: 1;position: relative;background-color: white;}#sk-container-id-1 div.sk-parallel-item:first-child::after {align-self: flex-end;width: 50%;}#sk-container-id-1 div.sk-parallel-item:last-child::after {align-self: flex-start;width: 50%;}#sk-container-id-1 div.sk-parallel-item:only-child::after {width: 0;}#sk-container-id-1 div.sk-dashed-wrapped {border: 1px dashed gray;margin: 0 0.4em 0.5em 0.4em;box-sizing: border-box;padding-bottom: 0.4em;background-color: white;}#sk-container-id-1 div.sk-label label {font-family: monospace;font-weight: bold;display: inline-block;line-height: 1.2em;}#sk-container-id-1 div.sk-label-container {text-align: center;}#sk-container-id-1 div.sk-container {/* jupyter's `normalize.less` sets `[hidden] { display: none; }` but bootstrap.min.css set `[hidden] { display: none !important; }` so we also need the `!important` here to be able to override the default hidden behavior on the sphinx rendered scikit-learn.org. See: https://github.com/scikit-learn/scikit-learn/issues/21755 */display: inline-block !important;position: relative;}#sk-container-id-1 div.sk-text-repr-fallback {display: none;}</style><div id=\"sk-container-id-1\" class=\"sk-top-container\"><div class=\"sk-text-repr-fallback\"><pre>StandardScaler()</pre><b>In a Jupyter environment, please rerun this cell to show the HTML representation or trust the notebook. <br />On GitHub, the HTML representation is unable to render, please try loading this page with nbviewer.org.</b></div><div class=\"sk-container\" hidden><div class=\"sk-item\"><div class=\"sk-estimator sk-toggleable\"><input class=\"sk-toggleable__control sk-hidden--visually\" id=\"sk-estimator-id-1\" type=\"checkbox\" checked><label for=\"sk-estimator-id-1\" class=\"sk-toggleable__label sk-toggleable__label-arrow\">StandardScaler</label><div class=\"sk-toggleable__content\"><pre>StandardScaler()</pre></div></div></div></div></div>"
      ],
      "text/plain": [
       "StandardScaler()"
      ]
     },
     "execution_count": 79,
     "metadata": {},
     "output_type": "execute_result"
    }
   ],
   "source": [
    "scaler.fit(x_train)"
   ]
  },
  {
   "cell_type": "code",
   "execution_count": 80,
   "id": "fa7470d4-2afa-479c-b624-3c64c665329f",
   "metadata": {},
   "outputs": [],
   "source": [
    "x_train_scaler=scaler.transform(x_train)"
   ]
  },
  {
   "cell_type": "code",
   "execution_count": 81,
   "id": "e99660c2-de1f-442a-b2d2-c3af84fc9dc0",
   "metadata": {},
   "outputs": [],
   "source": [
    "x_test_scaler=scaler.transform(x_test)"
   ]
  },
  {
   "cell_type": "code",
   "execution_count": 82,
   "id": "e7d0930c-cfcd-4956-9098-6b23b2417a74",
   "metadata": {},
   "outputs": [
    {
     "data": {
      "text/plain": [
       "array([[-5.92946318e-01, -9.63243996e-01, -3.90787710e-02, ...,\n",
       "         7.20230919e-01,  5.89706094e-01, -1.53542338e-03],\n",
       "       [-6.28074341e-01,  5.63167492e-02, -2.81528227e-01, ...,\n",
       "        -3.22519636e-01, -3.31816434e-01, -1.53542338e-03],\n",
       "       [ 4.46843174e-01,  1.07587749e+00, -1.82465712e-01, ...,\n",
       "         7.17033107e-01,  6.47738850e-01, -1.53542338e-03],\n",
       "       ...,\n",
       "       [ 8.12174617e-01,  5.63167492e-02, -2.88456082e-01, ...,\n",
       "        -3.22519636e-01, -3.31816434e-01, -1.53542338e-03],\n",
       "       [-1.40791646e+00,  1.07587749e+00, -1.98979516e-01, ...,\n",
       "         2.88322205e+00,  2.64723604e+00, -1.53542338e-03],\n",
       "       [-2.97870922e-01, -9.63243996e-01,  2.76674992e-01, ...,\n",
       "        -1.33733663e-01, -2.51589928e-01, -1.53542338e-03]])"
      ]
     },
     "execution_count": 82,
     "metadata": {},
     "output_type": "execute_result"
    }
   ],
   "source": [
    "x_train_scaler"
   ]
  },
  {
   "cell_type": "code",
   "execution_count": 83,
   "id": "7bf56402-d61f-472a-9005-693772dbde6b",
   "metadata": {},
   "outputs": [
    {
     "data": {
      "text/plain": [
       "array([[-7.40484016e-01,  1.07587749e+00, -1.42297506e-01, ...,\n",
       "        -3.22519636e-01, -3.06511316e-01, -1.53542338e-03],\n",
       "       [-1.61165900e+00, -9.63243996e-01, -2.37726168e-01, ...,\n",
       "        -2.90437589e-01, -3.11760234e-01, -1.53542338e-03],\n",
       "       [-1.40089086e+00,  5.63167492e-02, -2.88887389e-01, ...,\n",
       "        -3.22519636e-01, -3.31816434e-01, -1.53542338e-03],\n",
       "       ...,\n",
       "       [-1.45709569e+00,  1.07587749e+00,  1.24869563e-03, ...,\n",
       "         3.25651026e-02,  4.53226923e-02, -1.53542338e-03],\n",
       "       [ 2.57151848e-01,  5.63167492e-02, -2.77198012e-01, ...,\n",
       "        -3.22519636e-01, -3.31816434e-01, -1.53542338e-03],\n",
       "       [-7.82637644e-01,  1.07587749e+00, -3.20797551e-02, ...,\n",
       "        -1.40012099e-01, -1.19676912e-01, -1.53542338e-03]])"
      ]
     },
     "execution_count": 83,
     "metadata": {},
     "output_type": "execute_result"
    }
   ],
   "source": [
    "x_test_scaler"
   ]
  },
  {
   "cell_type": "markdown",
   "id": "7e7653b2-3f73-4541-9130-f8503038aa1a",
   "metadata": {},
   "source": [
    "## Training and Evaluting model"
   ]
  },
  {
   "cell_type": "markdown",
   "id": "b4f8364b-e604-4d43-a7b9-3c5df18ebbf3",
   "metadata": {},
   "source": [
    "## Logistic Regression"
   ]
  },
  {
   "cell_type": "code",
   "execution_count": 84,
   "id": "b7203e2f-ef06-40c0-a44d-dc925c315c8e",
   "metadata": {},
   "outputs": [],
   "source": [
    "from sklearn.linear_model import LogisticRegression"
   ]
  },
  {
   "cell_type": "code",
   "execution_count": 85,
   "id": "47e88118-f80c-4f5d-8600-360011975c29",
   "metadata": {},
   "outputs": [],
   "source": [
    "log_model=LogisticRegression()"
   ]
  },
  {
   "cell_type": "code",
   "execution_count": 86,
   "id": "e8860391-0cf8-41e3-b968-99350f5cc2e0",
   "metadata": {},
   "outputs": [
    {
     "data": {
      "text/html": [
       "<style>#sk-container-id-2 {color: black;background-color: white;}#sk-container-id-2 pre{padding: 0;}#sk-container-id-2 div.sk-toggleable {background-color: white;}#sk-container-id-2 label.sk-toggleable__label {cursor: pointer;display: block;width: 100%;margin-bottom: 0;padding: 0.3em;box-sizing: border-box;text-align: center;}#sk-container-id-2 label.sk-toggleable__label-arrow:before {content: \"▸\";float: left;margin-right: 0.25em;color: #696969;}#sk-container-id-2 label.sk-toggleable__label-arrow:hover:before {color: black;}#sk-container-id-2 div.sk-estimator:hover label.sk-toggleable__label-arrow:before {color: black;}#sk-container-id-2 div.sk-toggleable__content {max-height: 0;max-width: 0;overflow: hidden;text-align: left;background-color: #f0f8ff;}#sk-container-id-2 div.sk-toggleable__content pre {margin: 0.2em;color: black;border-radius: 0.25em;background-color: #f0f8ff;}#sk-container-id-2 input.sk-toggleable__control:checked~div.sk-toggleable__content {max-height: 200px;max-width: 100%;overflow: auto;}#sk-container-id-2 input.sk-toggleable__control:checked~label.sk-toggleable__label-arrow:before {content: \"▾\";}#sk-container-id-2 div.sk-estimator input.sk-toggleable__control:checked~label.sk-toggleable__label {background-color: #d4ebff;}#sk-container-id-2 div.sk-label input.sk-toggleable__control:checked~label.sk-toggleable__label {background-color: #d4ebff;}#sk-container-id-2 input.sk-hidden--visually {border: 0;clip: rect(1px 1px 1px 1px);clip: rect(1px, 1px, 1px, 1px);height: 1px;margin: -1px;overflow: hidden;padding: 0;position: absolute;width: 1px;}#sk-container-id-2 div.sk-estimator {font-family: monospace;background-color: #f0f8ff;border: 1px dotted black;border-radius: 0.25em;box-sizing: border-box;margin-bottom: 0.5em;}#sk-container-id-2 div.sk-estimator:hover {background-color: #d4ebff;}#sk-container-id-2 div.sk-parallel-item::after {content: \"\";width: 100%;border-bottom: 1px solid gray;flex-grow: 1;}#sk-container-id-2 div.sk-label:hover label.sk-toggleable__label {background-color: #d4ebff;}#sk-container-id-2 div.sk-serial::before {content: \"\";position: absolute;border-left: 1px solid gray;box-sizing: border-box;top: 0;bottom: 0;left: 50%;z-index: 0;}#sk-container-id-2 div.sk-serial {display: flex;flex-direction: column;align-items: center;background-color: white;padding-right: 0.2em;padding-left: 0.2em;position: relative;}#sk-container-id-2 div.sk-item {position: relative;z-index: 1;}#sk-container-id-2 div.sk-parallel {display: flex;align-items: stretch;justify-content: center;background-color: white;position: relative;}#sk-container-id-2 div.sk-item::before, #sk-container-id-2 div.sk-parallel-item::before {content: \"\";position: absolute;border-left: 1px solid gray;box-sizing: border-box;top: 0;bottom: 0;left: 50%;z-index: -1;}#sk-container-id-2 div.sk-parallel-item {display: flex;flex-direction: column;z-index: 1;position: relative;background-color: white;}#sk-container-id-2 div.sk-parallel-item:first-child::after {align-self: flex-end;width: 50%;}#sk-container-id-2 div.sk-parallel-item:last-child::after {align-self: flex-start;width: 50%;}#sk-container-id-2 div.sk-parallel-item:only-child::after {width: 0;}#sk-container-id-2 div.sk-dashed-wrapped {border: 1px dashed gray;margin: 0 0.4em 0.5em 0.4em;box-sizing: border-box;padding-bottom: 0.4em;background-color: white;}#sk-container-id-2 div.sk-label label {font-family: monospace;font-weight: bold;display: inline-block;line-height: 1.2em;}#sk-container-id-2 div.sk-label-container {text-align: center;}#sk-container-id-2 div.sk-container {/* jupyter's `normalize.less` sets `[hidden] { display: none; }` but bootstrap.min.css set `[hidden] { display: none !important; }` so we also need the `!important` here to be able to override the default hidden behavior on the sphinx rendered scikit-learn.org. See: https://github.com/scikit-learn/scikit-learn/issues/21755 */display: inline-block !important;position: relative;}#sk-container-id-2 div.sk-text-repr-fallback {display: none;}</style><div id=\"sk-container-id-2\" class=\"sk-top-container\"><div class=\"sk-text-repr-fallback\"><pre>LogisticRegression()</pre><b>In a Jupyter environment, please rerun this cell to show the HTML representation or trust the notebook. <br />On GitHub, the HTML representation is unable to render, please try loading this page with nbviewer.org.</b></div><div class=\"sk-container\" hidden><div class=\"sk-item\"><div class=\"sk-estimator sk-toggleable\"><input class=\"sk-toggleable__control sk-hidden--visually\" id=\"sk-estimator-id-2\" type=\"checkbox\" checked><label for=\"sk-estimator-id-2\" class=\"sk-toggleable__label sk-toggleable__label-arrow\">LogisticRegression</label><div class=\"sk-toggleable__content\"><pre>LogisticRegression()</pre></div></div></div></div></div>"
      ],
      "text/plain": [
       "LogisticRegression()"
      ]
     },
     "execution_count": 86,
     "metadata": {},
     "output_type": "execute_result"
    }
   ],
   "source": [
    "log_model.fit(x_train_scaler,y_train)"
   ]
  },
  {
   "cell_type": "code",
   "execution_count": 87,
   "id": "9a1d4b0f-86e2-425f-9270-4f7e915bcb9a",
   "metadata": {},
   "outputs": [],
   "source": [
    "y_pred=log_model.predict(x_test_scaler)"
   ]
  },
  {
   "cell_type": "code",
   "execution_count": 88,
   "id": "2df9d7ec-cb9c-4aa0-8d30-81f985f7e07f",
   "metadata": {},
   "outputs": [],
   "source": [
    "# for accuracy check :- \n",
    "\n",
    "from sklearn.metrics import accuracy_score"
   ]
  },
  {
   "cell_type": "code",
   "execution_count": 89,
   "id": "52c65be9-ecd7-41c1-a643-7c3ab1201ae4",
   "metadata": {},
   "outputs": [
    {
     "name": "stdout",
     "output_type": "stream",
     "text": [
      "- - - - - - - - - - -\n",
      "99.92149460442397\n",
      "- - - - - - - - - - -\n"
     ]
    }
   ],
   "source": [
    "print(\"- - - - - - - - - - -\")\n",
    "print(accuracy_score(y_test.values,y_pred)*100)\n",
    "print(\"- - - - - - - - - - -\")"
   ]
  },
  {
   "cell_type": "markdown",
   "id": "16677a40-46bc-47fc-ba82-136d671a1093",
   "metadata": {},
   "source": [
    "## Random Forest Classifier"
   ]
  },
  {
   "cell_type": "code",
   "execution_count": 90,
   "id": "7dc19a44-cc12-4b93-8e75-9fa48f5fc335",
   "metadata": {},
   "outputs": [],
   "source": [
    "from sklearn.ensemble import RandomForestClassifier"
   ]
  },
  {
   "cell_type": "code",
   "execution_count": 91,
   "id": "8d21d4b0-6c41-43d7-aa15-59bb3a37ec6a",
   "metadata": {},
   "outputs": [],
   "source": [
    "rand_model=RandomForestClassifier()"
   ]
  },
  {
   "cell_type": "code",
   "execution_count": 92,
   "id": "e7121d25-5f21-46d9-90f3-6a662a673b2e",
   "metadata": {},
   "outputs": [
    {
     "data": {
      "text/html": [
       "<style>#sk-container-id-3 {color: black;background-color: white;}#sk-container-id-3 pre{padding: 0;}#sk-container-id-3 div.sk-toggleable {background-color: white;}#sk-container-id-3 label.sk-toggleable__label {cursor: pointer;display: block;width: 100%;margin-bottom: 0;padding: 0.3em;box-sizing: border-box;text-align: center;}#sk-container-id-3 label.sk-toggleable__label-arrow:before {content: \"▸\";float: left;margin-right: 0.25em;color: #696969;}#sk-container-id-3 label.sk-toggleable__label-arrow:hover:before {color: black;}#sk-container-id-3 div.sk-estimator:hover label.sk-toggleable__label-arrow:before {color: black;}#sk-container-id-3 div.sk-toggleable__content {max-height: 0;max-width: 0;overflow: hidden;text-align: left;background-color: #f0f8ff;}#sk-container-id-3 div.sk-toggleable__content pre {margin: 0.2em;color: black;border-radius: 0.25em;background-color: #f0f8ff;}#sk-container-id-3 input.sk-toggleable__control:checked~div.sk-toggleable__content {max-height: 200px;max-width: 100%;overflow: auto;}#sk-container-id-3 input.sk-toggleable__control:checked~label.sk-toggleable__label-arrow:before {content: \"▾\";}#sk-container-id-3 div.sk-estimator input.sk-toggleable__control:checked~label.sk-toggleable__label {background-color: #d4ebff;}#sk-container-id-3 div.sk-label input.sk-toggleable__control:checked~label.sk-toggleable__label {background-color: #d4ebff;}#sk-container-id-3 input.sk-hidden--visually {border: 0;clip: rect(1px 1px 1px 1px);clip: rect(1px, 1px, 1px, 1px);height: 1px;margin: -1px;overflow: hidden;padding: 0;position: absolute;width: 1px;}#sk-container-id-3 div.sk-estimator {font-family: monospace;background-color: #f0f8ff;border: 1px dotted black;border-radius: 0.25em;box-sizing: border-box;margin-bottom: 0.5em;}#sk-container-id-3 div.sk-estimator:hover {background-color: #d4ebff;}#sk-container-id-3 div.sk-parallel-item::after {content: \"\";width: 100%;border-bottom: 1px solid gray;flex-grow: 1;}#sk-container-id-3 div.sk-label:hover label.sk-toggleable__label {background-color: #d4ebff;}#sk-container-id-3 div.sk-serial::before {content: \"\";position: absolute;border-left: 1px solid gray;box-sizing: border-box;top: 0;bottom: 0;left: 50%;z-index: 0;}#sk-container-id-3 div.sk-serial {display: flex;flex-direction: column;align-items: center;background-color: white;padding-right: 0.2em;padding-left: 0.2em;position: relative;}#sk-container-id-3 div.sk-item {position: relative;z-index: 1;}#sk-container-id-3 div.sk-parallel {display: flex;align-items: stretch;justify-content: center;background-color: white;position: relative;}#sk-container-id-3 div.sk-item::before, #sk-container-id-3 div.sk-parallel-item::before {content: \"\";position: absolute;border-left: 1px solid gray;box-sizing: border-box;top: 0;bottom: 0;left: 50%;z-index: -1;}#sk-container-id-3 div.sk-parallel-item {display: flex;flex-direction: column;z-index: 1;position: relative;background-color: white;}#sk-container-id-3 div.sk-parallel-item:first-child::after {align-self: flex-end;width: 50%;}#sk-container-id-3 div.sk-parallel-item:last-child::after {align-self: flex-start;width: 50%;}#sk-container-id-3 div.sk-parallel-item:only-child::after {width: 0;}#sk-container-id-3 div.sk-dashed-wrapped {border: 1px dashed gray;margin: 0 0.4em 0.5em 0.4em;box-sizing: border-box;padding-bottom: 0.4em;background-color: white;}#sk-container-id-3 div.sk-label label {font-family: monospace;font-weight: bold;display: inline-block;line-height: 1.2em;}#sk-container-id-3 div.sk-label-container {text-align: center;}#sk-container-id-3 div.sk-container {/* jupyter's `normalize.less` sets `[hidden] { display: none; }` but bootstrap.min.css set `[hidden] { display: none !important; }` so we also need the `!important` here to be able to override the default hidden behavior on the sphinx rendered scikit-learn.org. See: https://github.com/scikit-learn/scikit-learn/issues/21755 */display: inline-block !important;position: relative;}#sk-container-id-3 div.sk-text-repr-fallback {display: none;}</style><div id=\"sk-container-id-3\" class=\"sk-top-container\"><div class=\"sk-text-repr-fallback\"><pre>RandomForestClassifier()</pre><b>In a Jupyter environment, please rerun this cell to show the HTML representation or trust the notebook. <br />On GitHub, the HTML representation is unable to render, please try loading this page with nbviewer.org.</b></div><div class=\"sk-container\" hidden><div class=\"sk-item\"><div class=\"sk-estimator sk-toggleable\"><input class=\"sk-toggleable__control sk-hidden--visually\" id=\"sk-estimator-id-3\" type=\"checkbox\" checked><label for=\"sk-estimator-id-3\" class=\"sk-toggleable__label sk-toggleable__label-arrow\">RandomForestClassifier</label><div class=\"sk-toggleable__content\"><pre>RandomForestClassifier()</pre></div></div></div></div></div>"
      ],
      "text/plain": [
       "RandomForestClassifier()"
      ]
     },
     "execution_count": 92,
     "metadata": {},
     "output_type": "execute_result"
    }
   ],
   "source": [
    "rand_model.fit(x_train_scaler,y_train)"
   ]
  },
  {
   "cell_type": "code",
   "execution_count": 93,
   "id": "58730043-78f2-4526-83b1-a96ae7ae7a3b",
   "metadata": {},
   "outputs": [],
   "source": [
    "y_pred=rand_model.predict(x_test_scaler)"
   ]
  },
  {
   "cell_type": "code",
   "execution_count": 94,
   "id": "b462c89c-8539-41c5-9bfe-d73f614a2845",
   "metadata": {},
   "outputs": [
    {
     "name": "stdout",
     "output_type": "stream",
     "text": [
      "- - - - - - - - - - -\n",
      "99.96825207225955\n",
      "- - - - - - - - - - -\n"
     ]
    }
   ],
   "source": [
    "print(\"- - - - - - - - - - -\")\n",
    "print(accuracy_score(y_test.values,y_pred)*100)\n",
    "print(\"- - - - - - - - - - -\")"
   ]
  },
  {
   "cell_type": "markdown",
   "id": "05c48551-9006-4949-b607-08c0ee32c35f",
   "metadata": {},
   "source": [
    "## Support Vector Machine (SVM)"
   ]
  },
  {
   "cell_type": "code",
   "execution_count": 95,
   "id": "0c2b9348-5793-4c8f-a423-9cd777c757db",
   "metadata": {},
   "outputs": [],
   "source": [
    "from sklearn.svm import SVC"
   ]
  },
  {
   "cell_type": "code",
   "execution_count": 96,
   "id": "8ab36846-4ded-487a-be5d-a4f148df74c8",
   "metadata": {},
   "outputs": [],
   "source": [
    "svm_model=SVC()"
   ]
  },
  {
   "cell_type": "code",
   "execution_count": 97,
   "id": "53b5ea07-d318-4525-9def-068f7d64f6eb",
   "metadata": {},
   "outputs": [
    {
     "data": {
      "text/html": [
       "<style>#sk-container-id-4 {color: black;background-color: white;}#sk-container-id-4 pre{padding: 0;}#sk-container-id-4 div.sk-toggleable {background-color: white;}#sk-container-id-4 label.sk-toggleable__label {cursor: pointer;display: block;width: 100%;margin-bottom: 0;padding: 0.3em;box-sizing: border-box;text-align: center;}#sk-container-id-4 label.sk-toggleable__label-arrow:before {content: \"▸\";float: left;margin-right: 0.25em;color: #696969;}#sk-container-id-4 label.sk-toggleable__label-arrow:hover:before {color: black;}#sk-container-id-4 div.sk-estimator:hover label.sk-toggleable__label-arrow:before {color: black;}#sk-container-id-4 div.sk-toggleable__content {max-height: 0;max-width: 0;overflow: hidden;text-align: left;background-color: #f0f8ff;}#sk-container-id-4 div.sk-toggleable__content pre {margin: 0.2em;color: black;border-radius: 0.25em;background-color: #f0f8ff;}#sk-container-id-4 input.sk-toggleable__control:checked~div.sk-toggleable__content {max-height: 200px;max-width: 100%;overflow: auto;}#sk-container-id-4 input.sk-toggleable__control:checked~label.sk-toggleable__label-arrow:before {content: \"▾\";}#sk-container-id-4 div.sk-estimator input.sk-toggleable__control:checked~label.sk-toggleable__label {background-color: #d4ebff;}#sk-container-id-4 div.sk-label input.sk-toggleable__control:checked~label.sk-toggleable__label {background-color: #d4ebff;}#sk-container-id-4 input.sk-hidden--visually {border: 0;clip: rect(1px 1px 1px 1px);clip: rect(1px, 1px, 1px, 1px);height: 1px;margin: -1px;overflow: hidden;padding: 0;position: absolute;width: 1px;}#sk-container-id-4 div.sk-estimator {font-family: monospace;background-color: #f0f8ff;border: 1px dotted black;border-radius: 0.25em;box-sizing: border-box;margin-bottom: 0.5em;}#sk-container-id-4 div.sk-estimator:hover {background-color: #d4ebff;}#sk-container-id-4 div.sk-parallel-item::after {content: \"\";width: 100%;border-bottom: 1px solid gray;flex-grow: 1;}#sk-container-id-4 div.sk-label:hover label.sk-toggleable__label {background-color: #d4ebff;}#sk-container-id-4 div.sk-serial::before {content: \"\";position: absolute;border-left: 1px solid gray;box-sizing: border-box;top: 0;bottom: 0;left: 50%;z-index: 0;}#sk-container-id-4 div.sk-serial {display: flex;flex-direction: column;align-items: center;background-color: white;padding-right: 0.2em;padding-left: 0.2em;position: relative;}#sk-container-id-4 div.sk-item {position: relative;z-index: 1;}#sk-container-id-4 div.sk-parallel {display: flex;align-items: stretch;justify-content: center;background-color: white;position: relative;}#sk-container-id-4 div.sk-item::before, #sk-container-id-4 div.sk-parallel-item::before {content: \"\";position: absolute;border-left: 1px solid gray;box-sizing: border-box;top: 0;bottom: 0;left: 50%;z-index: -1;}#sk-container-id-4 div.sk-parallel-item {display: flex;flex-direction: column;z-index: 1;position: relative;background-color: white;}#sk-container-id-4 div.sk-parallel-item:first-child::after {align-self: flex-end;width: 50%;}#sk-container-id-4 div.sk-parallel-item:last-child::after {align-self: flex-start;width: 50%;}#sk-container-id-4 div.sk-parallel-item:only-child::after {width: 0;}#sk-container-id-4 div.sk-dashed-wrapped {border: 1px dashed gray;margin: 0 0.4em 0.5em 0.4em;box-sizing: border-box;padding-bottom: 0.4em;background-color: white;}#sk-container-id-4 div.sk-label label {font-family: monospace;font-weight: bold;display: inline-block;line-height: 1.2em;}#sk-container-id-4 div.sk-label-container {text-align: center;}#sk-container-id-4 div.sk-container {/* jupyter's `normalize.less` sets `[hidden] { display: none; }` but bootstrap.min.css set `[hidden] { display: none !important; }` so we also need the `!important` here to be able to override the default hidden behavior on the sphinx rendered scikit-learn.org. See: https://github.com/scikit-learn/scikit-learn/issues/21755 */display: inline-block !important;position: relative;}#sk-container-id-4 div.sk-text-repr-fallback {display: none;}</style><div id=\"sk-container-id-4\" class=\"sk-top-container\"><div class=\"sk-text-repr-fallback\"><pre>SVC()</pre><b>In a Jupyter environment, please rerun this cell to show the HTML representation or trust the notebook. <br />On GitHub, the HTML representation is unable to render, please try loading this page with nbviewer.org.</b></div><div class=\"sk-container\" hidden><div class=\"sk-item\"><div class=\"sk-estimator sk-toggleable\"><input class=\"sk-toggleable__control sk-hidden--visually\" id=\"sk-estimator-id-4\" type=\"checkbox\" checked><label for=\"sk-estimator-id-4\" class=\"sk-toggleable__label sk-toggleable__label-arrow\">SVC</label><div class=\"sk-toggleable__content\"><pre>SVC()</pre></div></div></div></div></div>"
      ],
      "text/plain": [
       "SVC()"
      ]
     },
     "execution_count": 97,
     "metadata": {},
     "output_type": "execute_result"
    }
   ],
   "source": [
    "svm_model.fit(x_train_scaler,y_train)"
   ]
  },
  {
   "cell_type": "code",
   "execution_count": 98,
   "id": "185ae9ef-b083-4d8a-800f-35dee6d05e33",
   "metadata": {},
   "outputs": [],
   "source": [
    "y_pred=svm_model.predict(x_test_scaler)"
   ]
  },
  {
   "cell_type": "code",
   "execution_count": 99,
   "id": "d599929c-e0ba-405f-a917-711ab144dcef",
   "metadata": {},
   "outputs": [
    {
     "name": "stdout",
     "output_type": "stream",
     "text": [
      "- - - - - - - - - - -\n",
      "99.93053176207286\n",
      "- - - - - - - - - - -\n"
     ]
    }
   ],
   "source": [
    "print(\"- - - - - - - - - - -\")\n",
    "print(accuracy_score(y_test.values,y_pred)*100)\n",
    "print(\"- - - - - - - - - - -\")"
   ]
  },
  {
   "cell_type": "code",
   "execution_count": 101,
   "id": "d88d9347-32d8-4d9d-847c-985596b62351",
   "metadata": {},
   "outputs": [
    {
     "data": {
      "text/html": [
       "<div>\n",
       "<style scoped>\n",
       "    .dataframe tbody tr th:only-of-type {\n",
       "        vertical-align: middle;\n",
       "    }\n",
       "\n",
       "    .dataframe tbody tr th {\n",
       "        vertical-align: top;\n",
       "    }\n",
       "\n",
       "    .dataframe thead th {\n",
       "        text-align: right;\n",
       "    }\n",
       "</style>\n",
       "<table border=\"1\" class=\"dataframe\">\n",
       "  <thead>\n",
       "    <tr style=\"text-align: right;\">\n",
       "      <th></th>\n",
       "      <th>step</th>\n",
       "      <th>type</th>\n",
       "      <th>amount</th>\n",
       "      <th>oldbalanceOrg</th>\n",
       "      <th>newbalanceOrig</th>\n",
       "      <th>oldbalanceDest</th>\n",
       "      <th>newbalanceDest</th>\n",
       "      <th>isFraud</th>\n",
       "      <th>isFlaggedFraud</th>\n",
       "    </tr>\n",
       "  </thead>\n",
       "  <tbody>\n",
       "    <tr>\n",
       "      <th>0</th>\n",
       "      <td>1</td>\n",
       "      <td>4</td>\n",
       "      <td>9839.6400</td>\n",
       "      <td>170136.0000</td>\n",
       "      <td>160296.3600</td>\n",
       "      <td>0.0000</td>\n",
       "      <td>0.0000</td>\n",
       "      <td>0</td>\n",
       "      <td>0</td>\n",
       "    </tr>\n",
       "    <tr>\n",
       "      <th>1</th>\n",
       "      <td>1</td>\n",
       "      <td>4</td>\n",
       "      <td>1864.2800</td>\n",
       "      <td>21249.0000</td>\n",
       "      <td>19384.7200</td>\n",
       "      <td>0.0000</td>\n",
       "      <td>0.0000</td>\n",
       "      <td>0</td>\n",
       "      <td>0</td>\n",
       "    </tr>\n",
       "    <tr>\n",
       "      <th>2</th>\n",
       "      <td>1</td>\n",
       "      <td>2</td>\n",
       "      <td>181.0000</td>\n",
       "      <td>181.0000</td>\n",
       "      <td>0.0000</td>\n",
       "      <td>0.0000</td>\n",
       "      <td>0.0000</td>\n",
       "      <td>1</td>\n",
       "      <td>0</td>\n",
       "    </tr>\n",
       "    <tr>\n",
       "      <th>3</th>\n",
       "      <td>1</td>\n",
       "      <td>5</td>\n",
       "      <td>181.0000</td>\n",
       "      <td>181.0000</td>\n",
       "      <td>0.0000</td>\n",
       "      <td>21182.0000</td>\n",
       "      <td>0.0000</td>\n",
       "      <td>1</td>\n",
       "      <td>0</td>\n",
       "    </tr>\n",
       "    <tr>\n",
       "      <th>4</th>\n",
       "      <td>1</td>\n",
       "      <td>4</td>\n",
       "      <td>11668.1400</td>\n",
       "      <td>41554.0000</td>\n",
       "      <td>29885.8600</td>\n",
       "      <td>0.0000</td>\n",
       "      <td>0.0000</td>\n",
       "      <td>0</td>\n",
       "      <td>0</td>\n",
       "    </tr>\n",
       "  </tbody>\n",
       "</table>\n",
       "</div>"
      ],
      "text/plain": [
       "   step  type     amount  oldbalanceOrg  newbalanceOrig  oldbalanceDest  \\\n",
       "0     1     4  9839.6400    170136.0000     160296.3600          0.0000   \n",
       "1     1     4  1864.2800     21249.0000      19384.7200          0.0000   \n",
       "2     1     2   181.0000       181.0000          0.0000          0.0000   \n",
       "3     1     5   181.0000       181.0000          0.0000      21182.0000   \n",
       "4     1     4 11668.1400     41554.0000      29885.8600          0.0000   \n",
       "\n",
       "   newbalanceDest  isFraud  isFlaggedFraud  \n",
       "0          0.0000        0               0  \n",
       "1          0.0000        0               0  \n",
       "2          0.0000        1               0  \n",
       "3          0.0000        1               0  \n",
       "4          0.0000        0               0  "
      ]
     },
     "execution_count": 101,
     "metadata": {},
     "output_type": "execute_result"
    }
   ],
   "source": [
    "# create a copy of the original dataframe\n",
    "df_new = df.copy()\n",
    "df_new.head()"
   ]
  },
  {
   "cell_type": "markdown",
   "id": "40488d27-2132-4191-9b8c-8c98efb76d5b",
   "metadata": {},
   "source": [
    "## Label Encoding"
   ]
  },
  {
   "cell_type": "code",
   "execution_count": 102,
   "id": "0b81468d-04ed-4483-948a-edbffd81aeaa",
   "metadata": {},
   "outputs": [
    {
     "name": "stdout",
     "output_type": "stream",
     "text": [
      "Index([], dtype='object')\n"
     ]
    }
   ],
   "source": [
    "# check object datatypes\n",
    "objList = df_new.select_dtypes(include = \"object\").columns\n",
    "print(objList)"
   ]
  },
  {
   "cell_type": "code",
   "execution_count": 104,
   "id": "dac934a3-3d51-4246-a028-8c048016aad9",
   "metadata": {},
   "outputs": [],
   "source": [
    "from sklearn.preprocessing import LabelEncoder"
   ]
  },
  {
   "cell_type": "code",
   "execution_count": 105,
   "id": "c34e9f58-bc1e-4da2-8a5a-2a4a1508dfa2",
   "metadata": {},
   "outputs": [
    {
     "name": "stdout",
     "output_type": "stream",
     "text": [
      "<class 'pandas.core.frame.DataFrame'>\n",
      "RangeIndex: 6362620 entries, 0 to 6362619\n",
      "Data columns (total 9 columns):\n",
      " #   Column          Dtype  \n",
      "---  ------          -----  \n",
      " 0   step            int64  \n",
      " 1   type            int64  \n",
      " 2   amount          float64\n",
      " 3   oldbalanceOrg   float64\n",
      " 4   newbalanceOrig  float64\n",
      " 5   oldbalanceDest  float64\n",
      " 6   newbalanceDest  float64\n",
      " 7   isFraud         int64  \n",
      " 8   isFlaggedFraud  int64  \n",
      "dtypes: float64(5), int64(4)\n",
      "memory usage: 436.9 MB\n",
      "None\n"
     ]
    }
   ],
   "source": [
    "# encode the objects\n",
    "le = LabelEncoder()\n",
    "\n",
    "for f in objList:\n",
    "    df_new[f] = le.fit_transform(df_new[f].astype(str))\n",
    "\n",
    "print(df_new.info())"
   ]
  },
  {
   "cell_type": "code",
   "execution_count": 106,
   "id": "e6866ffd-2c0f-4823-91f5-a1aa4dd9f671",
   "metadata": {},
   "outputs": [
    {
     "data": {
      "text/html": [
       "<div>\n",
       "<style scoped>\n",
       "    .dataframe tbody tr th:only-of-type {\n",
       "        vertical-align: middle;\n",
       "    }\n",
       "\n",
       "    .dataframe tbody tr th {\n",
       "        vertical-align: top;\n",
       "    }\n",
       "\n",
       "    .dataframe thead th {\n",
       "        text-align: right;\n",
       "    }\n",
       "</style>\n",
       "<table border=\"1\" class=\"dataframe\">\n",
       "  <thead>\n",
       "    <tr style=\"text-align: right;\">\n",
       "      <th></th>\n",
       "      <th>step</th>\n",
       "      <th>type</th>\n",
       "      <th>amount</th>\n",
       "      <th>oldbalanceOrg</th>\n",
       "      <th>newbalanceOrig</th>\n",
       "      <th>oldbalanceDest</th>\n",
       "      <th>newbalanceDest</th>\n",
       "      <th>isFraud</th>\n",
       "      <th>isFlaggedFraud</th>\n",
       "    </tr>\n",
       "  </thead>\n",
       "  <tbody>\n",
       "    <tr>\n",
       "      <th>0</th>\n",
       "      <td>1</td>\n",
       "      <td>4</td>\n",
       "      <td>9839.6400</td>\n",
       "      <td>170136.0000</td>\n",
       "      <td>160296.3600</td>\n",
       "      <td>0.0000</td>\n",
       "      <td>0.0000</td>\n",
       "      <td>0</td>\n",
       "      <td>0</td>\n",
       "    </tr>\n",
       "    <tr>\n",
       "      <th>1</th>\n",
       "      <td>1</td>\n",
       "      <td>4</td>\n",
       "      <td>1864.2800</td>\n",
       "      <td>21249.0000</td>\n",
       "      <td>19384.7200</td>\n",
       "      <td>0.0000</td>\n",
       "      <td>0.0000</td>\n",
       "      <td>0</td>\n",
       "      <td>0</td>\n",
       "    </tr>\n",
       "    <tr>\n",
       "      <th>2</th>\n",
       "      <td>1</td>\n",
       "      <td>2</td>\n",
       "      <td>181.0000</td>\n",
       "      <td>181.0000</td>\n",
       "      <td>0.0000</td>\n",
       "      <td>0.0000</td>\n",
       "      <td>0.0000</td>\n",
       "      <td>1</td>\n",
       "      <td>0</td>\n",
       "    </tr>\n",
       "    <tr>\n",
       "      <th>3</th>\n",
       "      <td>1</td>\n",
       "      <td>5</td>\n",
       "      <td>181.0000</td>\n",
       "      <td>181.0000</td>\n",
       "      <td>0.0000</td>\n",
       "      <td>21182.0000</td>\n",
       "      <td>0.0000</td>\n",
       "      <td>1</td>\n",
       "      <td>0</td>\n",
       "    </tr>\n",
       "    <tr>\n",
       "      <th>4</th>\n",
       "      <td>1</td>\n",
       "      <td>4</td>\n",
       "      <td>11668.1400</td>\n",
       "      <td>41554.0000</td>\n",
       "      <td>29885.8600</td>\n",
       "      <td>0.0000</td>\n",
       "      <td>0.0000</td>\n",
       "      <td>0</td>\n",
       "      <td>0</td>\n",
       "    </tr>\n",
       "  </tbody>\n",
       "</table>\n",
       "</div>"
      ],
      "text/plain": [
       "   step  type     amount  oldbalanceOrg  newbalanceOrig  oldbalanceDest  \\\n",
       "0     1     4  9839.6400    170136.0000     160296.3600          0.0000   \n",
       "1     1     4  1864.2800     21249.0000      19384.7200          0.0000   \n",
       "2     1     2   181.0000       181.0000          0.0000          0.0000   \n",
       "3     1     5   181.0000       181.0000          0.0000      21182.0000   \n",
       "4     1     4 11668.1400     41554.0000      29885.8600          0.0000   \n",
       "\n",
       "   newbalanceDest  isFraud  isFlaggedFraud  \n",
       "0          0.0000        0               0  \n",
       "1          0.0000        0               0  \n",
       "2          0.0000        1               0  \n",
       "3          0.0000        1               0  \n",
       "4          0.0000        0               0  "
      ]
     },
     "execution_count": 106,
     "metadata": {},
     "output_type": "execute_result"
    }
   ],
   "source": [
    "df_new.head()"
   ]
  },
  {
   "cell_type": "markdown",
   "id": "306773ce-87bf-48f6-9ae1-d192ef0d7231",
   "metadata": {},
   "source": [
    "## Multicollinearity"
   ]
  },
  {
   "cell_type": "code",
   "execution_count": 108,
   "id": "88d07c23-523c-460d-8939-af0de7873c57",
   "metadata": {},
   "outputs": [],
   "source": [
    "from statsmodels.stats.outliers_influence import variance_inflation_factor"
   ]
  },
  {
   "cell_type": "code",
   "execution_count": 109,
   "id": "d486502b-62d7-4a08-bf5a-fd2fdfe9ab28",
   "metadata": {},
   "outputs": [
    {
     "data": {
      "text/html": [
       "<div>\n",
       "<style scoped>\n",
       "    .dataframe tbody tr th:only-of-type {\n",
       "        vertical-align: middle;\n",
       "    }\n",
       "\n",
       "    .dataframe tbody tr th {\n",
       "        vertical-align: top;\n",
       "    }\n",
       "\n",
       "    .dataframe thead th {\n",
       "        text-align: right;\n",
       "    }\n",
       "</style>\n",
       "<table border=\"1\" class=\"dataframe\">\n",
       "  <thead>\n",
       "    <tr style=\"text-align: right;\">\n",
       "      <th></th>\n",
       "      <th>variables</th>\n",
       "      <th>VIF</th>\n",
       "    </tr>\n",
       "  </thead>\n",
       "  <tbody>\n",
       "    <tr>\n",
       "      <th>0</th>\n",
       "      <td>step</td>\n",
       "      <td>3.4777</td>\n",
       "    </tr>\n",
       "    <tr>\n",
       "      <th>1</th>\n",
       "      <td>type</td>\n",
       "      <td>3.3725</td>\n",
       "    </tr>\n",
       "    <tr>\n",
       "      <th>2</th>\n",
       "      <td>amount</td>\n",
       "      <td>4.0793</td>\n",
       "    </tr>\n",
       "    <tr>\n",
       "      <th>3</th>\n",
       "      <td>oldbalanceOrg</td>\n",
       "      <td>546.4622</td>\n",
       "    </tr>\n",
       "    <tr>\n",
       "      <th>4</th>\n",
       "      <td>newbalanceOrig</td>\n",
       "      <td>548.7090</td>\n",
       "    </tr>\n",
       "    <tr>\n",
       "      <th>5</th>\n",
       "      <td>oldbalanceDest</td>\n",
       "      <td>72.8966</td>\n",
       "    </tr>\n",
       "    <tr>\n",
       "      <th>6</th>\n",
       "      <td>newbalanceDest</td>\n",
       "      <td>84.5904</td>\n",
       "    </tr>\n",
       "    <tr>\n",
       "      <th>7</th>\n",
       "      <td>isFraud</td>\n",
       "      <td>1.1900</td>\n",
       "    </tr>\n",
       "    <tr>\n",
       "      <th>8</th>\n",
       "      <td>isFlaggedFraud</td>\n",
       "      <td>1.0025</td>\n",
       "    </tr>\n",
       "  </tbody>\n",
       "</table>\n",
       "</div>"
      ],
      "text/plain": [
       "        variables      VIF\n",
       "0            step   3.4777\n",
       "1            type   3.3725\n",
       "2          amount   4.0793\n",
       "3   oldbalanceOrg 546.4622\n",
       "4  newbalanceOrig 548.7090\n",
       "5  oldbalanceDest  72.8966\n",
       "6  newbalanceDest  84.5904\n",
       "7         isFraud   1.1900\n",
       "8  isFlaggedFraud   1.0025"
      ]
     },
     "execution_count": 109,
     "metadata": {},
     "output_type": "execute_result"
    }
   ],
   "source": [
    "# function to find the variation inflation factor\n",
    "def cal_vif(df):\n",
    "    vif = pd.DataFrame()\n",
    "    vif['variables'] = df.columns\n",
    "    vif['VIF'] = [variance_inflation_factor(df.values,i) for i in range(df.shape[1])]\n",
    "    return vif\n",
    "\n",
    "cal_vif(df_new)"
   ]
  },
  {
   "cell_type": "code",
   "execution_count": 113,
   "id": "0e9c5027-268b-48bd-824a-835e3011fc65",
   "metadata": {},
   "outputs": [
    {
     "data": {
      "text/html": [
       "<div>\n",
       "<style scoped>\n",
       "    .dataframe tbody tr th:only-of-type {\n",
       "        vertical-align: middle;\n",
       "    }\n",
       "\n",
       "    .dataframe tbody tr th {\n",
       "        vertical-align: top;\n",
       "    }\n",
       "\n",
       "    .dataframe thead th {\n",
       "        text-align: right;\n",
       "    }\n",
       "</style>\n",
       "<table border=\"1\" class=\"dataframe\">\n",
       "  <thead>\n",
       "    <tr style=\"text-align: right;\">\n",
       "      <th></th>\n",
       "      <th>variables</th>\n",
       "      <th>VIF</th>\n",
       "    </tr>\n",
       "  </thead>\n",
       "  <tbody>\n",
       "    <tr>\n",
       "      <th>0</th>\n",
       "      <td>type</td>\n",
       "      <td>1.0806</td>\n",
       "    </tr>\n",
       "    <tr>\n",
       "      <th>1</th>\n",
       "      <td>amount</td>\n",
       "      <td>3.8155</td>\n",
       "    </tr>\n",
       "    <tr>\n",
       "      <th>2</th>\n",
       "      <td>isFraud</td>\n",
       "      <td>1.1768</td>\n",
       "    </tr>\n",
       "    <tr>\n",
       "      <th>3</th>\n",
       "      <td>isFlaggedFraud</td>\n",
       "      <td>1.0025</td>\n",
       "    </tr>\n",
       "    <tr>\n",
       "      <th>4</th>\n",
       "      <td>Actual_amount_orig</td>\n",
       "      <td>1.2091</td>\n",
       "    </tr>\n",
       "    <tr>\n",
       "      <th>5</th>\n",
       "      <td>Actual_amount_dest</td>\n",
       "      <td>3.7319</td>\n",
       "    </tr>\n",
       "  </tbody>\n",
       "</table>\n",
       "</div>"
      ],
      "text/plain": [
       "            variables    VIF\n",
       "0                type 1.0806\n",
       "1              amount 3.8155\n",
       "2             isFraud 1.1768\n",
       "3      isFlaggedFraud 1.0025\n",
       "4  Actual_amount_orig 1.2091\n",
       "5  Actual_amount_dest 3.7319"
      ]
     },
     "execution_count": 113,
     "metadata": {},
     "output_type": "execute_result"
    }
   ],
   "source": [
    "# creating new features to capture the change in balances and transaction paths\n",
    "df_new['Actual_amount_orig'] = df_new.apply(lambda x: x['oldbalanceOrg'] - x['newbalanceOrig'],axis=1)\n",
    "df_new['Actual_amount_dest'] = df_new.apply(lambda x: x['oldbalanceDest'] - x['newbalanceDest'],axis=1)\n",
    "#df_new['TransactionPath'] = df_new.apply(lambda x: x['nameOrig'] + x['nameDest'],axis=1)\n",
    "\n",
    "#Dropping columns\n",
    "df_new = df_new.drop(['oldbalanceOrg','newbalanceOrig','oldbalanceDest','newbalanceDest','step'],axis=1)\n",
    "\n",
    "cal_vif(df_new)"
   ]
  },
  {
   "cell_type": "markdown",
   "id": "f4493dc9-c870-4fb8-953e-98dfbfbb3f97",
   "metadata": {},
   "source": [
    "## Preparing model for deployment"
   ]
  },
  {
   "cell_type": "markdown",
   "id": "29f0c9a7-260d-46d5-b5b2-ffe925a95fc7",
   "metadata": {},
   "source": [
    "## Scaling the Data"
   ]
  },
  {
   "cell_type": "code",
   "execution_count": 114,
   "id": "4c4f0767-8a6c-4629-9dee-7a6010ccdcb8",
   "metadata": {},
   "outputs": [],
   "source": [
    "# scale the dataset\n",
    "scaler = StandardScaler()\n",
    "df_new[\"NormalizedAmount\"] = scaler.fit_transform(df_new[\"amount\"].values.reshape(-1, 1))\n",
    "df_new.drop([\"amount\"], inplace= True, axis= 1)\n",
    "\n",
    "Y = df_new[\"isFraud\"]\n",
    "X = df_new.drop([\"isFraud\"], axis= 1)"
   ]
  },
  {
   "cell_type": "markdown",
   "id": "1c726c7c-250d-4f35-9574-98368d3b38bd",
   "metadata": {},
   "source": [
    "## Splitting the Data"
   ]
  },
  {
   "cell_type": "code",
   "execution_count": 115,
   "id": "b6a86be6-e8de-47eb-9441-2086b9932e32",
   "metadata": {},
   "outputs": [
    {
     "name": "stdout",
     "output_type": "stream",
     "text": [
      "Shape of X_train:  (4453834, 5)\n",
      "Shape of X_test:  (1908786, 5)\n"
     ]
    }
   ],
   "source": [
    "# split the dataset for training and testing\n",
    "X_train, X_test, Y_train, Y_test = train_test_split(X, Y, test_size= 0.3, random_state= 42)\n",
    "\n",
    "print(\"Shape of X_train: \", X_train.shape)\n",
    "print(\"Shape of X_test: \", X_test.shape)"
   ]
  },
  {
   "cell_type": "markdown",
   "id": "38b2e2a8-9da1-45f6-8b19-8b2ef2ddfcad",
   "metadata": {},
   "source": [
    "## Model Training"
   ]
  },
  {
   "cell_type": "code",
   "execution_count": 117,
   "id": "43956997-4064-48c7-b85c-09f0b7f1a785",
   "metadata": {},
   "outputs": [],
   "source": [
    "from sklearn.tree import DecisionTreeClassifier"
   ]
  },
  {
   "cell_type": "code",
   "execution_count": 118,
   "id": "61884352-2728-4a0a-afe0-7190dc137579",
   "metadata": {},
   "outputs": [],
   "source": [
    "# Decision Tree\n",
    "dtc = DecisionTreeClassifier()\n",
    "dtc.fit(X_train, Y_train)\n",
    "\n",
    "Y_pred_dt = dtc.predict(X_test)\n",
    "dtc_score = dtc.score(X_test, Y_test) * 100"
   ]
  },
  {
   "cell_type": "code",
   "execution_count": 119,
   "id": "41b20ad3-9cde-4c40-bf84-095ec371f5a9",
   "metadata": {},
   "outputs": [],
   "source": [
    "from sklearn.ensemble import RandomForestClassifier"
   ]
  },
  {
   "cell_type": "code",
   "execution_count": 120,
   "id": "67fc7f51-9f1e-469f-8336-93e398db1cf0",
   "metadata": {},
   "outputs": [],
   "source": [
    "# Random Forest\n",
    "rfc = RandomForestClassifier(n_estimators= 100)\n",
    "rfc.fit(X_train, Y_train)\n",
    "\n",
    "Y_pred_rf = rfc.predict(X_test)\n",
    "rfc_score = rfc.score(X_test, Y_test) * 100"
   ]
  },
  {
   "cell_type": "code",
   "execution_count": 122,
   "id": "5db1caae-366d-483f-afe3-5d11ac61367f",
   "metadata": {},
   "outputs": [],
   "source": [
    "from xgboost import XGBClassifier"
   ]
  },
  {
   "cell_type": "code",
   "execution_count": 123,
   "id": "7ea0db56-f413-48e5-862a-e2af1c05c686",
   "metadata": {},
   "outputs": [],
   "source": [
    "# XGBoost\n",
    "xgb = XGBClassifier()\n",
    "xgb.fit(X_train, Y_train)\n",
    "\n",
    "Y_pred_xgb = xgb.predict(X_test)\n",
    "xgb_score = xgb.score(X_test, Y_test) * 100"
   ]
  },
  {
   "cell_type": "code",
   "execution_count": 124,
   "id": "bc1611c0-71c6-4365-bfcd-2a7cc4e115f0",
   "metadata": {},
   "outputs": [
    {
     "name": "stdout",
     "output_type": "stream",
     "text": [
      "Decision Tree Score:  99.92482132622516\n",
      "Random Forest Score:  99.93095087663049\n",
      "XGBoost Score      :  99.95798376559762\n"
     ]
    }
   ],
   "source": [
    "print(\"Decision Tree Score: \", dtc_score)\n",
    "print(\"Random Forest Score: \", rfc_score)\n",
    "print(\"XGBoost Score      : \", xgb_score)"
   ]
  },
  {
   "cell_type": "markdown",
   "id": "ca225faf-4aae-4ace-8394-7494f040070a",
   "metadata": {},
   "source": [
    "XGBoost is better than Decision Tree and Random Forest Classifier."
   ]
  },
  {
   "cell_type": "code",
   "execution_count": 126,
   "id": "17789486-996c-4f9b-8861-0b0bdc08d273",
   "metadata": {},
   "outputs": [],
   "source": [
    "from sklearn.metrics import classification_report, confusion_matrix, ConfusionMatrixDisplay"
   ]
  },
  {
   "cell_type": "code",
   "execution_count": 127,
   "id": "9db90f73-833b-4ee3-89c2-e10c7a6b7105",
   "metadata": {},
   "outputs": [
    {
     "name": "stdout",
     "output_type": "stream",
     "text": [
      "TP,FP,TN,FN - Decision Tree\n",
      "True Positives: 1734\n",
      "False Positives: 734\n",
      "True Negatives: 1905617\n",
      "False Negatives: 701\n",
      "----------------------------------------------------------------------------------------\n",
      "TP,FP,TN,FN - Random Forest\n",
      "True Positives: 1733\n",
      "False Positives: 616\n",
      "True Negatives: 1905735\n",
      "False Negatives: 702\n",
      "----------------------------------------------------------------------------------------\n",
      "TP,FP,TN,FN - XGBoost\n",
      "True Positives: 1671\n",
      "False Positives: 38\n",
      "True Negatives: 1906313\n",
      "False Negatives: 764\n"
     ]
    }
   ],
   "source": [
    "# key terms of Confusion Matrix - DT\n",
    "\n",
    "print(\"TP,FP,TN,FN - Decision Tree\")\n",
    "tn, fp, fn, tp = confusion_matrix(Y_test, Y_pred_dt).ravel()\n",
    "print(f'True Positives: {tp}')\n",
    "print(f'False Positives: {fp}')\n",
    "print(f'True Negatives: {tn}')\n",
    "print(f'False Negatives: {fn}')\n",
    "\n",
    "print(\"----------------------------------------------------------------------------------------\")\n",
    "\n",
    "# key terms of Confusion Matrix - RF\n",
    "\n",
    "print(\"TP,FP,TN,FN - Random Forest\")\n",
    "tn, fp, fn, tp = confusion_matrix(Y_test, Y_pred_rf).ravel()\n",
    "print(f'True Positives: {tp}')\n",
    "print(f'False Positives: {fp}')\n",
    "print(f'True Negatives: {tn}')\n",
    "print(f'False Negatives: {fn}')\n",
    "\n",
    "print(\"----------------------------------------------------------------------------------------\")\n",
    "\n",
    "# key terms of Confusion Matrix - XGB\n",
    "\n",
    "print(\"TP,FP,TN,FN - XGBoost\")\n",
    "tn, fp, fn, tp = confusion_matrix(Y_test, Y_pred_xgb).ravel()\n",
    "print(f'True Positives: {tp}')\n",
    "print(f'False Positives: {fp}')\n",
    "print(f'True Negatives: {tn}')\n",
    "print(f'False Negatives: {fn}')"
   ]
  },
  {
   "cell_type": "markdown",
   "id": "e49f15a1-e33c-4344-be09-27564d8fecb2",
   "metadata": {},
   "source": [
    "TP(Decision Tree) ~ TP(Random Forest) ~ TP(XGBoost) so no competetion here.\n",
    "\n",
    "FP(Decision Tree) >> FP(Random Forest) >> FP(XGBoost) - XGBoost has an edge here.\n",
    "\n",
    "TN(Decision Tree) < TN(Random Forest) < TN(XGBoost) - Random Forest is better here too\n",
    "\n",
    "FN(Decision Tree) ~ FN(Random Forest) ~ FN(XGBoost)\n",
    "\n",
    "XGBoost Classifier works more good in this scenario."
   ]
  },
  {
   "cell_type": "code",
   "execution_count": 128,
   "id": "1d5b9701-0fac-4243-99e0-aae7a451ed71",
   "metadata": {},
   "outputs": [
    {
     "name": "stdout",
     "output_type": "stream",
     "text": [
      "Confusion Matrix - Decision Tree\n",
      "[[1905617     734]\n",
      " [    701    1734]]\n",
      "----------------------------------------------------------------------------------------\n",
      "Confusion Matrix - Random Forest\n",
      "[[1905735     616]\n",
      " [    702    1733]]\n",
      "----------------------------------------------------------------------------------------\n",
      "Confusion Matrix - XGBoost\n",
      "[[1906313      38]\n",
      " [    764    1671]]\n"
     ]
    }
   ],
   "source": [
    "# confusion matrix - DT\n",
    "\n",
    "confusion_matrix_dt = confusion_matrix(Y_test, Y_pred_dt.round())\n",
    "print(\"Confusion Matrix - Decision Tree\")\n",
    "print(confusion_matrix_dt,)\n",
    "\n",
    "print(\"----------------------------------------------------------------------------------------\")\n",
    "\n",
    "# confusion matrix - RF\n",
    "\n",
    "confusion_matrix_rf = confusion_matrix(Y_test, Y_pred_rf.round())\n",
    "print(\"Confusion Matrix - Random Forest\")\n",
    "print(confusion_matrix_rf)\n",
    "\n",
    "print(\"----------------------------------------------------------------------------------------\")\n",
    "\n",
    "# confusion matrix - XGB\n",
    "\n",
    "confusion_matrix_xgb = confusion_matrix(Y_test, Y_pred_xgb.round())\n",
    "print('Confusion Matrix - XGBoost')\n",
    "print(confusion_matrix_xgb)"
   ]
  },
  {
   "cell_type": "code",
   "execution_count": 129,
   "id": "0d8b1f04-fafa-4e41-92ae-da745704fbb7",
   "metadata": {},
   "outputs": [
    {
     "name": "stdout",
     "output_type": "stream",
     "text": [
      "Classification Report - Decision Tree\n",
      "              precision    recall  f1-score   support\n",
      "\n",
      "           0       1.00      1.00      1.00   1906351\n",
      "           1       0.70      0.71      0.71      2435\n",
      "\n",
      "    accuracy                           1.00   1908786\n",
      "   macro avg       0.85      0.86      0.85   1908786\n",
      "weighted avg       1.00      1.00      1.00   1908786\n",
      "\n",
      "----------------------------------------------------------------------------------------\n",
      "Classification Report - Random Forest\n",
      "              precision    recall  f1-score   support\n",
      "\n",
      "           0       1.00      1.00      1.00   1906351\n",
      "           1       0.74      0.71      0.72      2435\n",
      "\n",
      "    accuracy                           1.00   1908786\n",
      "   macro avg       0.87      0.86      0.86   1908786\n",
      "weighted avg       1.00      1.00      1.00   1908786\n",
      "\n",
      "----------------------------------------------------------------------------------------\n",
      "Classification Report - XGBoost\n",
      "              precision    recall  f1-score   support\n",
      "\n",
      "           0       1.00      1.00      1.00   1906351\n",
      "           1       0.98      0.69      0.81      2435\n",
      "\n",
      "    accuracy                           1.00   1908786\n",
      "   macro avg       0.99      0.84      0.90   1908786\n",
      "weighted avg       1.00      1.00      1.00   1908786\n",
      "\n"
     ]
    }
   ],
   "source": [
    "# classification report - DT\n",
    "\n",
    "classification_report_dt = classification_report(Y_test, Y_pred_dt)\n",
    "print(\"Classification Report - Decision Tree\")\n",
    "print(classification_report_dt)\n",
    "\n",
    "print(\"----------------------------------------------------------------------------------------\")\n",
    "\n",
    "# classification report - RF\n",
    "\n",
    "classification_report_rf = classification_report(Y_test, Y_pred_rf)\n",
    "print(\"Classification Report - Random Forest\")\n",
    "print(classification_report_rf)\n",
    "\n",
    "print(\"----------------------------------------------------------------------------------------\")\n",
    "\n",
    "# classification report - XGB\n",
    "\n",
    "classification_report_xgb = classification_report(Y_test, Y_pred_xgb)\n",
    "print(\"Classification Report - XGBoost\")\n",
    "print(classification_report_xgb)"
   ]
  },
  {
   "cell_type": "markdown",
   "id": "1f22bba1-0598-4f26-b6f9-8979775ed2f7",
   "metadata": {},
   "source": [
    "With Such a good precision and hence F1-Score, XGBoost comes out to be better as expected."
   ]
  },
  {
   "cell_type": "markdown",
   "id": "3503afad-984b-4826-bd5b-0fea14c530ce",
   "metadata": {},
   "source": [
    "## Plotting Confusion matrix"
   ]
  },
  {
   "cell_type": "code",
   "execution_count": 130,
   "id": "cf3bc52c-ace0-42df-872c-6bf67f4b97e4",
   "metadata": {},
   "outputs": [
    {
     "data": {
      "image/png": "[encoded data removed]",
      "text/plain": [
       "<Figure size 640x480 with 2 Axes>"
      ]
     },
     "metadata": {},
     "output_type": "display_data"
    },
    {
     "data": {
      "image/png": "[encoded data removed]",
      "text/plain": [
       "<Figure size 640x480 with 2 Axes>"
      ]
     },
     "metadata": {},
     "output_type": "display_data"
    },
    {
     "data": {
      "image/png": "[encoded data removed]",
      "text/plain": [
       "<Figure size 640x480 with 2 Axes>"
      ]
     },
     "metadata": {},
     "output_type": "display_data"
    }
   ],
   "source": [
    "# visualising confusion matrix - DT\n",
    "\n",
    "disp = ConfusionMatrixDisplay(confusion_matrix=confusion_matrix_dt)\n",
    "disp.plot()\n",
    "plt.title('Confusion Matrix - DT')\n",
    "plt.show()\n",
    "\n",
    "# visualising confusion matrix - RF\n",
    "disp = ConfusionMatrixDisplay(confusion_matrix=confusion_matrix_rf)\n",
    "disp.plot()\n",
    "plt.title('Confusion Matrix - RF')\n",
    "plt.show()\n",
    "\n",
    "# visualising confusion matrix - XGB\n",
    "disp = ConfusionMatrixDisplay(confusion_matrix=confusion_matrix_xgb)\n",
    "disp.plot()\n",
    "plt.title('Confusion Matrix - XGB')\n",
    "plt.show()"
   ]
  },
  {
   "cell_type": "markdown",
   "id": "d8ea0c9c-703d-4106-9df7-08a9bbd2618f",
   "metadata": {},
   "source": [
    "## Plotting ROC curves"
   ]
  },
  {
   "cell_type": "code",
   "execution_count": 132,
   "id": "76b64c8c-c709-441f-9a0b-8fbf3c0da7f6",
   "metadata": {},
   "outputs": [],
   "source": [
    "import sklearn.metrics as metrics"
   ]
  },
  {
   "cell_type": "code",
   "execution_count": 133,
   "id": "90768114-9662-4d6f-970f-b47dde0cef0f",
   "metadata": {},
   "outputs": [
    {
     "data": {
      "image/png": "[encoded data removed]",
      "text/plain": [
       "<Figure size 640x480 with 1 Axes>"
      ]
     },
     "metadata": {},
     "output_type": "display_data"
    },
    {
     "data": {
      "image/png": "[encoded data removed]",
      "text/plain": [
       "<Figure size 640x480 with 1 Axes>"
      ]
     },
     "metadata": {},
     "output_type": "display_data"
    },
    {
     "data": {
      "image/png": "[encoded data removed]",
      "text/plain": [
       "<Figure size 640x480 with 1 Axes>"
      ]
     },
     "metadata": {},
     "output_type": "display_data"
    }
   ],
   "source": [
    "# AUC ROC - DT\n",
    "# calculate the fpr and tpr for all thresholds of the classification\n",
    "\n",
    "fpr, tpr, threshold = metrics.roc_curve(Y_test, Y_pred_dt)\n",
    "roc_auc = metrics.auc(fpr, tpr)\n",
    "\n",
    "plt.title('ROC - DT')\n",
    "plt.plot(fpr, tpr, 'b', label = 'AUC = %0.2f' % roc_auc)\n",
    "plt.legend(loc = 'lower right')\n",
    "plt.plot([0, 1], [0, 1],'r--')\n",
    "plt.xlim([0, 1])\n",
    "plt.ylim([0, 1])\n",
    "plt.ylabel('True Positive Rate')\n",
    "plt.xlabel('False Positive Rate')\n",
    "plt.show()\n",
    "\n",
    "# AUC ROC - RF\n",
    "# calculate the fpr and tpr for all thresholds of the classification\n",
    "\n",
    "fpr, tpr, threshold = metrics.roc_curve(Y_test, Y_pred_rf)\n",
    "roc_auc = metrics.auc(fpr, tpr)\n",
    "\n",
    "plt.title('ROC - RF')\n",
    "plt.plot(fpr, tpr, 'b', label = 'AUC = %0.2f' % roc_auc)\n",
    "plt.legend(loc = 'lower right')\n",
    "plt.plot([0, 1], [0, 1],'r--')\n",
    "plt.xlim([0, 1])\n",
    "plt.ylim([0, 1])\n",
    "plt.ylabel('True Positive Rate')\n",
    "plt.xlabel('False Positive Rate')\n",
    "plt.show()\n",
    "\n",
    "# AUC ROC - XGB\n",
    "# calculate the fpr and tpr for all thresholds of the classification\n",
    "\n",
    "fpr, tpr, threshold = metrics.roc_curve(Y_test, Y_pred_xgb)\n",
    "roc_auc = metrics.auc(fpr, tpr)\n",
    "\n",
    "plt.title('ROC - RF')\n",
    "plt.plot(fpr, tpr, 'b', label = 'AUC = %0.2f' % roc_auc)\n",
    "plt.legend(loc = 'lower right')\n",
    "plt.plot([0, 1], [0, 1],'r--')\n",
    "plt.xlim([0, 1])\n",
    "plt.ylim([0, 1])\n",
    "plt.ylabel('True Positive Rate')\n",
    "plt.xlabel('False Positive Rate')\n",
    "plt.show()"
   ]
  },
  {
   "cell_type": "markdown",
   "id": "10740cff-08a7-459c-aa43-e2d9afe44aa3",
   "metadata": {},
   "source": [
    "The AUC ROC for Decision Tree, Random Forest and XGBoost is equal, so all these three models are pretty good."
   ]
  },
  {
   "cell_type": "markdown",
   "id": "2b8ae59e-eb70-48ce-ada8-99688e08efdc",
   "metadata": {},
   "source": [
    "## CONCLUSION\n",
    "In our analysis, we observed that while the accuracy of the Random Forest, Decision Tree, and XGBoost models is comparable, XGBoost outperforms the others in terms of precision. Precision is a critical metric in fraud detection because the primary goal is to correctly identify fraudulent transactions while minimizing the misclassification of legitimate ones. A model with high precision ensures that the flagged transactions are more likely to be actual frauds, reducing the risk of false positives, which can be costly and disruptive.\n",
    "\n",
    "This importance of precision in fraud detection highlights why ensemble methods like XGBoost are often preferred over single algorithms. XGBoost, in particular, is effective with imbalanced datasets, such as ours where the ratio of legitimate to fraudulent transactions is heavily skewed (Legit: Fraud :: 6,354,407: 8,213). XGBoost works by iteratively combining multiple decision trees to refine its predictions, which enhances its ability to correctly identify rare fraudulent transactions.\n",
    "\n",
    "While models like Bagging, Artificial Neural Networks (ANN), and Logistic Regression can achieve high accuracy, they may not perform as well in terms of precision and recall. These metrics are crucial in ensuring that the model effectively distinguishes between fraudulent and non-fraudulent transactions, especially in a highly imbalanced dataset. Therefore, XGBoost is an optimal choice for this context, offering a balance between accuracy and precision, and making it a robust solution for detecting fraud in financial transactions."
   ]
  },
  {
   "cell_type": "code",
   "execution_count": null,
   "id": "53d70b70-09c8-45b4-8ad0-3eb9f2e90cc4",
   "metadata": {},
   "outputs": [],
   "source": []
  }
 ],
 "metadata": {
  "kernelspec": {
   "display_name": "Python 3 (ipykernel)",
   "language": "python",
   "name": "python3"
  },
  "language_info": {
   "codemirror_mode": {
    "name": "ipython",
    "version": 3
   },
   "file_extension": ".py",
   "mimetype": "text/x-python",
   "name": "python",
   "nbconvert_exporter": "python",
   "pygments_lexer": "ipython3",
   "version": "3.11.5"
  }
 },
 "nbformat": 4,
 "nbformat_minor": 5
}
